{
 "cells": [
  {
   "cell_type": "markdown",
   "id": "cd78ccd9",
   "metadata": {},
   "source": [
    "# 🆕  PyBallMapper with Variable Radii\n",
    "\n",
    "## Overview\n",
    "\n",
    "This notebook demonstrates how to use the new **variable-radius** feature in **PyBallMapper**, allowing each landmark to have a custom radius when constructing the Ball Mapper graph. This is useful for datasets with **non-uniform density** or when domain knowledge suggests varying neighborhood scales across the data.\n",
    "\n",
    "## Key Idea\n",
    "\n",
    "In the standard Ball Mapper algorithm, all landmarks use a fixed radius `eps` to form their covering balls. In this modified version, we allow `eps` to be a **per-landmark parameter** — enabling finer control over the covering and ultimately a more flexible representation of the data's topology.\n"
   ]
  },
  {
   "cell_type": "code",
   "execution_count": null,
   "id": "cd1216dd",
   "metadata": {},
   "outputs": [],
   "source": [
    "import numpy as np\n",
    "import pandas as pd\n",
    "import networkx as nx\n",
    "\n",
    "from matplotlib import pyplot as plt"
   ]
  },
  {
   "cell_type": "markdown",
   "id": "0d290a28",
   "metadata": {},
   "source": [
    "Let's generate a simple dataset"
   ]
  },
  {
   "cell_type": "code",
   "execution_count": null,
   "id": "1bea0834",
   "metadata": {},
   "outputs": [],
   "source": [
    "pointcloud = np.array([[np.cos(x), np.sin(x)] for x in np.arange(0, 6.3, 0.1)])\n",
    "points_df = pd.DataFrame(pointcloud, columns=[\"x\", \"y\"])\n",
    "\n",
    "angle_df = pd.DataFrame(np.arange(0, 6.3, 0.1), columns=[\"angle\"])\n",
    "\n",
    "plt.figure(figsize=(4, 4))\n",
    "plt.scatter(points_df.x, points_df.y)\n",
    "plt.axis(\"equal\")\n",
    "plt.show()"
   ]
  },
  {
   "cell_type": "markdown",
   "id": "8b6dbfe2",
   "metadata": {},
   "source": [
    "This is the standard ball mapper."
   ]
  },
  {
   "cell_type": "code",
   "execution_count": null,
   "id": "27ece0d3",
   "metadata": {},
   "outputs": [],
   "source": [
    "from pyballmapper import BallMapper"
   ]
  },
  {
   "cell_type": "code",
   "execution_count": null,
   "id": "623bce23",
   "metadata": {},
   "outputs": [],
   "source": [
    "## regular BM\n",
    "\n",
    "bm = BallMapper(\n",
    "    X=points_df.values,  # the pointcloud, as a numpy array\n",
    "    eps=0.25,  # the radius of the balls\n",
    ")"
   ]
  },
  {
   "cell_type": "code",
   "execution_count": null,
   "id": "766ff722",
   "metadata": {},
   "outputs": [],
   "source": [
    "bm.draw_networkx()"
   ]
  },
  {
   "cell_type": "markdown",
   "id": "c0f0b2cf",
   "metadata": {},
   "source": [
    "The attribute `eps_dict` stores the radius of each ball."
   ]
  },
  {
   "cell_type": "code",
   "execution_count": null,
   "id": "9fb29420",
   "metadata": {},
   "outputs": [],
   "source": [
    "print(\"The radii of the various balls are:\")\n",
    "for i, r in bm.eps_dict.items():\n",
    "    print(\"ball {} has radius {:.3f}\".format(i, r))"
   ]
  },
  {
   "cell_type": "markdown",
   "id": "a12cfc25",
   "metadata": {},
   "source": [
    "Let's now input a custom list of radii. It needs to have the same length of our input dataset."
   ]
  },
  {
   "cell_type": "code",
   "execution_count": null,
   "id": "ba39de37",
   "metadata": {},
   "outputs": [],
   "source": [
    "## adaptive radii\n",
    "\n",
    "radii = np.linspace(start=0.1, stop=0.5, num=len(points_df), endpoint=True)\n",
    "\n",
    "multiple_radii_bm = bm = BallMapper(\n",
    "    X=points_df.values,  # the pointcloud, as a numpy array\n",
    "    eps=radii,  # the radius of the balls, this time is a numpy array\n",
    ")"
   ]
  },
  {
   "cell_type": "code",
   "execution_count": null,
   "id": "65f814b2",
   "metadata": {},
   "outputs": [],
   "source": [
    "multiple_radii_bm.draw_networkx()"
   ]
  },
  {
   "cell_type": "markdown",
   "id": "6890a7ec",
   "metadata": {},
   "source": [
    "Note that by default, the radius of the balls in the plot is proportional to the number of points covered by the ball, not the radius of the covering ball!!\n"
   ]
  },
  {
   "cell_type": "code",
   "execution_count": null,
   "id": "0d008b50",
   "metadata": {},
   "outputs": [],
   "source": [
    "print(\"The radii of the various balls are:\")\n",
    "for i, r in multiple_radii_bm.eps_dict.items():\n",
    "    print(\"ball {} has radius {:.3f}\".format(i, r))"
   ]
  },
  {
   "cell_type": "code",
   "execution_count": null,
   "id": "b5de1d1d",
   "metadata": {},
   "outputs": [],
   "source": []
  }
 ],
 "metadata": {
  "kernelspec": {
   "display_name": "tda",
   "language": "python",
   "name": "python3"
  },
  "language_info": {
   "codemirror_mode": {
    "name": "ipython",
    "version": 3
   },
   "file_extension": ".py",
   "mimetype": "text/x-python",
   "name": "python",
   "nbconvert_exporter": "python",
   "pygments_lexer": "ipython3",
   "version": "3.13.3"
  }
 },
 "nbformat": 4,
 "nbformat_minor": 5
}
