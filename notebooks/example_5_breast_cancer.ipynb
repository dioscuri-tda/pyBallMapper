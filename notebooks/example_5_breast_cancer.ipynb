{
 "cells": [
  {
   "cell_type": "markdown",
   "metadata": {},
   "source": [
    "This notebook analyses the NKI gene expression dataset.  \n",
    "https://www.nature.com/articles/srep01236  \n",
    "\n",
    "The dataset can be downloaded from https://data.world/deviramanan2016/nki-breast-cancer-data  \n",
    "\n",
    "This notebook was prepared by Davide Gurnari. "
   ]
  },
  {
   "cell_type": "code",
   "execution_count": 8,
   "metadata": {},
   "outputs": [],
   "source": [
    "import numpy as np\n",
    "import pandas as pd\n",
    "import networkx as nx\n",
    "from sklearn.preprocessing import MinMaxScaler\n",
    "\n",
    "from matplotlib import pyplot as plt\n",
    "%matplotlib inline"
   ]
  },
  {
   "cell_type": "code",
   "execution_count": 9,
   "metadata": {},
   "outputs": [],
   "source": [
    "from pyballmapper import BallMapper\n",
    "from pyballmapper.plotting import graph_GUI\n",
    "from bokeh.plotting import figure, show\n",
    "\n",
    "from matplotlib import cm"
   ]
  },
  {
   "cell_type": "code",
   "execution_count": 10,
   "metadata": {},
   "outputs": [
    {
     "data": {
      "text/html": [
       "<div class=\"bk-root\">\n",
       "        <a href=\"https://bokeh.org\" target=\"_blank\" class=\"bk-logo bk-logo-small bk-logo-notebook\"></a>\n",
       "        <span id=\"1171\">Loading BokehJS ...</span>\n",
       "    </div>\n"
      ]
     },
     "metadata": {},
     "output_type": "display_data"
    },
    {
     "data": {
      "application/javascript": "(function(root) {\n  function now() {\n    return new Date();\n  }\n\n  const force = true;\n\n  if (typeof root._bokeh_onload_callbacks === \"undefined\" || force === true) {\n    root._bokeh_onload_callbacks = [];\n    root._bokeh_is_loading = undefined;\n  }\n\nconst JS_MIME_TYPE = 'application/javascript';\n  const HTML_MIME_TYPE = 'text/html';\n  const EXEC_MIME_TYPE = 'application/vnd.bokehjs_exec.v0+json';\n  const CLASS_NAME = 'output_bokeh rendered_html';\n\n  /**\n   * Render data to the DOM node\n   */\n  function render(props, node) {\n    const script = document.createElement(\"script\");\n    node.appendChild(script);\n  }\n\n  /**\n   * Handle when an output is cleared or removed\n   */\n  function handleClearOutput(event, handle) {\n    const cell = handle.cell;\n\n    const id = cell.output_area._bokeh_element_id;\n    const server_id = cell.output_area._bokeh_server_id;\n    // Clean up Bokeh references\n    if (id != null && id in Bokeh.index) {\n      Bokeh.index[id].model.document.clear();\n      delete Bokeh.index[id];\n    }\n\n    if (server_id !== undefined) {\n      // Clean up Bokeh references\n      const cmd_clean = \"from bokeh.io.state import curstate; print(curstate().uuid_to_server['\" + server_id + \"'].get_sessions()[0].document.roots[0]._id)\";\n      cell.notebook.kernel.execute(cmd_clean, {\n        iopub: {\n          output: function(msg) {\n            const id = msg.content.text.trim();\n            if (id in Bokeh.index) {\n              Bokeh.index[id].model.document.clear();\n              delete Bokeh.index[id];\n            }\n          }\n        }\n      });\n      // Destroy server and session\n      const cmd_destroy = \"import bokeh.io.notebook as ion; ion.destroy_server('\" + server_id + \"')\";\n      cell.notebook.kernel.execute(cmd_destroy);\n    }\n  }\n\n  /**\n   * Handle when a new output is added\n   */\n  function handleAddOutput(event, handle) {\n    const output_area = handle.output_area;\n    const output = handle.output;\n\n    // limit handleAddOutput to display_data with EXEC_MIME_TYPE content only\n    if ((output.output_type != \"display_data\") || (!Object.prototype.hasOwnProperty.call(output.data, EXEC_MIME_TYPE))) {\n      return\n    }\n\n    const toinsert = output_area.element.find(\".\" + CLASS_NAME.split(' ')[0]);\n\n    if (output.metadata[EXEC_MIME_TYPE][\"id\"] !== undefined) {\n      toinsert[toinsert.length - 1].firstChild.textContent = output.data[JS_MIME_TYPE];\n      // store reference to embed id on output_area\n      output_area._bokeh_element_id = output.metadata[EXEC_MIME_TYPE][\"id\"];\n    }\n    if (output.metadata[EXEC_MIME_TYPE][\"server_id\"] !== undefined) {\n      const bk_div = document.createElement(\"div\");\n      bk_div.innerHTML = output.data[HTML_MIME_TYPE];\n      const script_attrs = bk_div.children[0].attributes;\n      for (let i = 0; i < script_attrs.length; i++) {\n        toinsert[toinsert.length - 1].firstChild.setAttribute(script_attrs[i].name, script_attrs[i].value);\n        toinsert[toinsert.length - 1].firstChild.textContent = bk_div.children[0].textContent\n      }\n      // store reference to server id on output_area\n      output_area._bokeh_server_id = output.metadata[EXEC_MIME_TYPE][\"server_id\"];\n    }\n  }\n\n  function register_renderer(events, OutputArea) {\n\n    function append_mime(data, metadata, element) {\n      // create a DOM node to render to\n      const toinsert = this.create_output_subarea(\n        metadata,\n        CLASS_NAME,\n        EXEC_MIME_TYPE\n      );\n      this.keyboard_manager.register_events(toinsert);\n      // Render to node\n      const props = {data: data, metadata: metadata[EXEC_MIME_TYPE]};\n      render(props, toinsert[toinsert.length - 1]);\n      element.append(toinsert);\n      return toinsert\n    }\n\n    /* Handle when an output is cleared or removed */\n    events.on('clear_output.CodeCell', handleClearOutput);\n    events.on('delete.Cell', handleClearOutput);\n\n    /* Handle when a new output is added */\n    events.on('output_added.OutputArea', handleAddOutput);\n\n    /**\n     * Register the mime type and append_mime function with output_area\n     */\n    OutputArea.prototype.register_mime_type(EXEC_MIME_TYPE, append_mime, {\n      /* Is output safe? */\n      safe: true,\n      /* Index of renderer in `output_area.display_order` */\n      index: 0\n    });\n  }\n\n  // register the mime type if in Jupyter Notebook environment and previously unregistered\n  if (root.Jupyter !== undefined) {\n    const events = require('base/js/events');\n    const OutputArea = require('notebook/js/outputarea').OutputArea;\n\n    if (OutputArea.prototype.mime_types().indexOf(EXEC_MIME_TYPE) == -1) {\n      register_renderer(events, OutputArea);\n    }\n  }\n  if (typeof (root._bokeh_timeout) === \"undefined\" || force === true) {\n    root._bokeh_timeout = Date.now() + 5000;\n    root._bokeh_failed_load = false;\n  }\n\n  const NB_LOAD_WARNING = {'data': {'text/html':\n     \"<div style='background-color: #fdd'>\\n\"+\n     \"<p>\\n\"+\n     \"BokehJS does not appear to have successfully loaded. If loading BokehJS from CDN, this \\n\"+\n     \"may be due to a slow or bad network connection. Possible fixes:\\n\"+\n     \"</p>\\n\"+\n     \"<ul>\\n\"+\n     \"<li>re-rerun `output_notebook()` to attempt to load from CDN again, or</li>\\n\"+\n     \"<li>use INLINE resources instead, as so:</li>\\n\"+\n     \"</ul>\\n\"+\n     \"<code>\\n\"+\n     \"from bokeh.resources import INLINE\\n\"+\n     \"output_notebook(resources=INLINE)\\n\"+\n     \"</code>\\n\"+\n     \"</div>\"}};\n\n  function display_loaded() {\n    const el = document.getElementById(\"1171\");\n    if (el != null) {\n      el.textContent = \"BokehJS is loading...\";\n    }\n    if (root.Bokeh !== undefined) {\n      if (el != null) {\n        el.textContent = \"BokehJS \" + root.Bokeh.version + \" successfully loaded.\";\n      }\n    } else if (Date.now() < root._bokeh_timeout) {\n      setTimeout(display_loaded, 100)\n    }\n  }\n\n  function run_callbacks() {\n    try {\n      root._bokeh_onload_callbacks.forEach(function(callback) {\n        if (callback != null)\n          callback();\n      });\n    } finally {\n      delete root._bokeh_onload_callbacks\n    }\n    console.debug(\"Bokeh: all callbacks have finished\");\n  }\n\n  function load_libs(css_urls, js_urls, callback) {\n    if (css_urls == null) css_urls = [];\n    if (js_urls == null) js_urls = [];\n\n    root._bokeh_onload_callbacks.push(callback);\n    if (root._bokeh_is_loading > 0) {\n      console.debug(\"Bokeh: BokehJS is being loaded, scheduling callback at\", now());\n      return null;\n    }\n    if (js_urls == null || js_urls.length === 0) {\n      run_callbacks();\n      return null;\n    }\n    console.debug(\"Bokeh: BokehJS not loaded, scheduling load and callback at\", now());\n    root._bokeh_is_loading = css_urls.length + js_urls.length;\n\n    function on_load() {\n      root._bokeh_is_loading--;\n      if (root._bokeh_is_loading === 0) {\n        console.debug(\"Bokeh: all BokehJS libraries/stylesheets loaded\");\n        run_callbacks()\n      }\n    }\n\n    function on_error(url) {\n      console.error(\"failed to load \" + url);\n    }\n\n    for (let i = 0; i < css_urls.length; i++) {\n      const url = css_urls[i];\n      const element = document.createElement(\"link\");\n      element.onload = on_load;\n      element.onerror = on_error.bind(null, url);\n      element.rel = \"stylesheet\";\n      element.type = \"text/css\";\n      element.href = url;\n      console.debug(\"Bokeh: injecting link tag for BokehJS stylesheet: \", url);\n      document.body.appendChild(element);\n    }\n\n    for (let i = 0; i < js_urls.length; i++) {\n      const url = js_urls[i];\n      const element = document.createElement('script');\n      element.onload = on_load;\n      element.onerror = on_error.bind(null, url);\n      element.async = false;\n      element.src = url;\n      console.debug(\"Bokeh: injecting script tag for BokehJS library: \", url);\n      document.head.appendChild(element);\n    }\n  };\n\n  function inject_raw_css(css) {\n    const element = document.createElement(\"style\");\n    element.appendChild(document.createTextNode(css));\n    document.body.appendChild(element);\n  }\n\n  const js_urls = [\"https://cdn.bokeh.org/bokeh/release/bokeh-2.4.3.min.js\", \"https://cdn.bokeh.org/bokeh/release/bokeh-gl-2.4.3.min.js\", \"https://cdn.bokeh.org/bokeh/release/bokeh-widgets-2.4.3.min.js\", \"https://cdn.bokeh.org/bokeh/release/bokeh-tables-2.4.3.min.js\", \"https://cdn.bokeh.org/bokeh/release/bokeh-mathjax-2.4.3.min.js\"];\n  const css_urls = [];\n\n  const inline_js = [    function(Bokeh) {\n      Bokeh.set_log_level(\"info\");\n    },\nfunction(Bokeh) {\n    }\n  ];\n\n  function run_inline_js() {\n    if (root.Bokeh !== undefined || force === true) {\n          for (let i = 0; i < inline_js.length; i++) {\n      inline_js[i].call(root, root.Bokeh);\n    }\nif (force === true) {\n        display_loaded();\n      }} else if (Date.now() < root._bokeh_timeout) {\n      setTimeout(run_inline_js, 100);\n    } else if (!root._bokeh_failed_load) {\n      console.log(\"Bokeh: BokehJS failed to load within specified timeout.\");\n      root._bokeh_failed_load = true;\n    } else if (force !== true) {\n      const cell = $(document.getElementById(\"1171\")).parents('.cell').data().cell;\n      cell.output_area.append_execute_result(NB_LOAD_WARNING)\n    }\n  }\n\n  if (root._bokeh_is_loading === 0) {\n    console.debug(\"Bokeh: BokehJS loaded, going straight to plotting\");\n    run_inline_js();\n  } else {\n    load_libs(css_urls, js_urls, function() {\n      console.debug(\"Bokeh: BokehJS plotting callback run at\", now());\n      run_inline_js();\n    });\n  }\n}(window));",
      "application/vnd.bokehjs_load.v0+json": ""
     },
     "metadata": {},
     "output_type": "display_data"
    }
   ],
   "source": [
    "# this cell allows for bokeh plots to be displayed inside jupyter notebooks\n",
    "from bokeh.io import output_notebook\n",
    "output_notebook()"
   ]
  },
  {
   "cell_type": "markdown",
   "metadata": {},
   "source": [
    "## load data"
   ]
  },
  {
   "cell_type": "code",
   "execution_count": 11,
   "metadata": {},
   "outputs": [
    {
     "name": "stdout",
     "output_type": "stream",
     "text": [
      "(272, 1570)\n"
     ]
    },
    {
     "data": {
      "text/html": [
       "<div>\n",
       "<style scoped>\n",
       "    .dataframe tbody tr th:only-of-type {\n",
       "        vertical-align: middle;\n",
       "    }\n",
       "\n",
       "    .dataframe tbody tr th {\n",
       "        vertical-align: top;\n",
       "    }\n",
       "\n",
       "    .dataframe thead th {\n",
       "        text-align: right;\n",
       "    }\n",
       "</style>\n",
       "<table border=\"1\" class=\"dataframe\">\n",
       "  <thead>\n",
       "    <tr style=\"text-align: right;\">\n",
       "      <th></th>\n",
       "      <th>patient</th>\n",
       "      <th>id</th>\n",
       "      <th>age</th>\n",
       "      <th>eventdeath</th>\n",
       "      <th>survival</th>\n",
       "      <th>timerecurrence</th>\n",
       "      <th>chemo</th>\n",
       "      <th>hormonal</th>\n",
       "      <th>amputation</th>\n",
       "      <th>histtype</th>\n",
       "      <th>...</th>\n",
       "      <th>contig36312_rc</th>\n",
       "      <th>contig38980_rc</th>\n",
       "      <th>nm_000853</th>\n",
       "      <th>nm_000854</th>\n",
       "      <th>nm_000860</th>\n",
       "      <th>contig29014_rc</th>\n",
       "      <th>contig46616_rc</th>\n",
       "      <th>nm_000888</th>\n",
       "      <th>nm_000898</th>\n",
       "      <th>af067420</th>\n",
       "    </tr>\n",
       "  </thead>\n",
       "  <tbody>\n",
       "    <tr>\n",
       "      <th>0</th>\n",
       "      <td>s122</td>\n",
       "      <td>18</td>\n",
       "      <td>43</td>\n",
       "      <td>False</td>\n",
       "      <td>14.817248</td>\n",
       "      <td>14.817248</td>\n",
       "      <td>False</td>\n",
       "      <td>False</td>\n",
       "      <td>True</td>\n",
       "      <td>1</td>\n",
       "      <td>...</td>\n",
       "      <td>0.591103</td>\n",
       "      <td>-0.355018</td>\n",
       "      <td>0.373644</td>\n",
       "      <td>-0.760690</td>\n",
       "      <td>-0.164025</td>\n",
       "      <td>-0.038726</td>\n",
       "      <td>0.237856</td>\n",
       "      <td>-0.087631</td>\n",
       "      <td>-0.369153</td>\n",
       "      <td>0.153795</td>\n",
       "    </tr>\n",
       "    <tr>\n",
       "      <th>1</th>\n",
       "      <td>s123</td>\n",
       "      <td>19</td>\n",
       "      <td>48</td>\n",
       "      <td>False</td>\n",
       "      <td>14.261465</td>\n",
       "      <td>14.261465</td>\n",
       "      <td>False</td>\n",
       "      <td>False</td>\n",
       "      <td>False</td>\n",
       "      <td>1</td>\n",
       "      <td>...</td>\n",
       "      <td>-0.199829</td>\n",
       "      <td>-0.001635</td>\n",
       "      <td>-0.062922</td>\n",
       "      <td>-0.682204</td>\n",
       "      <td>-0.220934</td>\n",
       "      <td>-0.100088</td>\n",
       "      <td>-0.466537</td>\n",
       "      <td>-0.231547</td>\n",
       "      <td>-0.643019</td>\n",
       "      <td>-0.014098</td>\n",
       "    </tr>\n",
       "    <tr>\n",
       "      <th>2</th>\n",
       "      <td>s124</td>\n",
       "      <td>20</td>\n",
       "      <td>38</td>\n",
       "      <td>False</td>\n",
       "      <td>6.644764</td>\n",
       "      <td>6.644764</td>\n",
       "      <td>False</td>\n",
       "      <td>False</td>\n",
       "      <td>False</td>\n",
       "      <td>1</td>\n",
       "      <td>...</td>\n",
       "      <td>0.328736</td>\n",
       "      <td>-0.047571</td>\n",
       "      <td>0.084228</td>\n",
       "      <td>-0.695950</td>\n",
       "      <td>-0.402840</td>\n",
       "      <td>-0.099965</td>\n",
       "      <td>0.110155</td>\n",
       "      <td>-0.114298</td>\n",
       "      <td>0.258495</td>\n",
       "      <td>-0.198911</td>\n",
       "    </tr>\n",
       "    <tr>\n",
       "      <th>3</th>\n",
       "      <td>s125</td>\n",
       "      <td>21</td>\n",
       "      <td>50</td>\n",
       "      <td>False</td>\n",
       "      <td>7.748118</td>\n",
       "      <td>7.748118</td>\n",
       "      <td>False</td>\n",
       "      <td>True</td>\n",
       "      <td>False</td>\n",
       "      <td>1</td>\n",
       "      <td>...</td>\n",
       "      <td>0.648861</td>\n",
       "      <td>-0.039088</td>\n",
       "      <td>0.182182</td>\n",
       "      <td>-0.524640</td>\n",
       "      <td>0.037320</td>\n",
       "      <td>-0.167688</td>\n",
       "      <td>-0.016790</td>\n",
       "      <td>-0.285344</td>\n",
       "      <td>-0.251188</td>\n",
       "      <td>0.862710</td>\n",
       "    </tr>\n",
       "    <tr>\n",
       "      <th>4</th>\n",
       "      <td>s126</td>\n",
       "      <td>22</td>\n",
       "      <td>38</td>\n",
       "      <td>False</td>\n",
       "      <td>6.436687</td>\n",
       "      <td>6.318960</td>\n",
       "      <td>False</td>\n",
       "      <td>False</td>\n",
       "      <td>True</td>\n",
       "      <td>1</td>\n",
       "      <td>...</td>\n",
       "      <td>-0.287538</td>\n",
       "      <td>-0.286893</td>\n",
       "      <td>0.057082</td>\n",
       "      <td>-0.565021</td>\n",
       "      <td>-0.105632</td>\n",
       "      <td>-0.108148</td>\n",
       "      <td>-0.405853</td>\n",
       "      <td>-0.053601</td>\n",
       "      <td>-0.677072</td>\n",
       "      <td>0.134160</td>\n",
       "    </tr>\n",
       "  </tbody>\n",
       "</table>\n",
       "<p>5 rows × 1570 columns</p>\n",
       "</div>"
      ],
      "text/plain": [
       "  patient  id  age  eventdeath   survival  timerecurrence  chemo  hormonal  \\\n",
       "0    s122  18   43       False  14.817248       14.817248  False     False   \n",
       "1    s123  19   48       False  14.261465       14.261465  False     False   \n",
       "2    s124  20   38       False   6.644764        6.644764  False     False   \n",
       "3    s125  21   50       False   7.748118        7.748118  False      True   \n",
       "4    s126  22   38       False   6.436687        6.318960  False     False   \n",
       "\n",
       "   amputation  histtype  ...  contig36312_rc  contig38980_rc  nm_000853  \\\n",
       "0        True         1  ...        0.591103       -0.355018   0.373644   \n",
       "1       False         1  ...       -0.199829       -0.001635  -0.062922   \n",
       "2       False         1  ...        0.328736       -0.047571   0.084228   \n",
       "3       False         1  ...        0.648861       -0.039088   0.182182   \n",
       "4        True         1  ...       -0.287538       -0.286893   0.057082   \n",
       "\n",
       "   nm_000854  nm_000860  contig29014_rc  contig46616_rc  nm_000888  nm_000898  \\\n",
       "0  -0.760690  -0.164025       -0.038726        0.237856  -0.087631  -0.369153   \n",
       "1  -0.682204  -0.220934       -0.100088       -0.466537  -0.231547  -0.643019   \n",
       "2  -0.695950  -0.402840       -0.099965        0.110155  -0.114298   0.258495   \n",
       "3  -0.524640   0.037320       -0.167688       -0.016790  -0.285344  -0.251188   \n",
       "4  -0.565021  -0.105632       -0.108148       -0.405853  -0.053601  -0.677072   \n",
       "\n",
       "   af067420  \n",
       "0  0.153795  \n",
       "1 -0.014098  \n",
       "2 -0.198911  \n",
       "3  0.862710  \n",
       "4  0.134160  \n",
       "\n",
       "[5 rows x 1570 columns]"
      ]
     },
     "execution_count": 11,
     "metadata": {},
     "output_type": "execute_result"
    }
   ],
   "source": [
    "nki_cleaned_df = pd.read_csv('data/nki_cleaned.csv')\n",
    "print(nki_cleaned_df.shape)\n",
    "nki_cleaned_df.head()"
   ]
  },
  {
   "cell_type": "code",
   "execution_count": 12,
   "metadata": {},
   "outputs": [
    {
     "data": {
      "text/plain": [
       "Index(['patient', 'id', 'age', 'eventdeath', 'survival', 'timerecurrence',\n",
       "       'chemo', 'hormonal', 'amputation', 'histtype', 'diam', 'posnodes',\n",
       "       'grade', 'angioinv', 'lymphinfil', 'barcode', 'esr1'],\n",
       "      dtype='object')"
      ]
     },
     "execution_count": 12,
     "metadata": {},
     "output_type": "execute_result"
    }
   ],
   "source": [
    "# the first 17 columns are patient's info, the others gene expressions data\n",
    "nki_cleaned_df.columns[:17]"
   ]
  },
  {
   "cell_type": "code",
   "execution_count": 13,
   "metadata": {},
   "outputs": [
    {
     "data": {
      "text/plain": [
       "eventdeath    0.283088\n",
       "dtype: float64"
      ]
     },
     "execution_count": 13,
     "metadata": {},
     "output_type": "execute_result"
    }
   ],
   "source": [
    "# we will use the gene expression data as features\n",
    "# and 'eventdeath' as target\n",
    "X = nki_cleaned_df[nki_cleaned_df.columns[17:]]\n",
    "y = nki_cleaned_df[['eventdeath']].astype(int)\n",
    "y.mean()"
   ]
  },
  {
   "cell_type": "code",
   "execution_count": null,
   "metadata": {},
   "outputs": [],
   "source": []
  },
  {
   "cell_type": "markdown",
   "metadata": {},
   "source": [
    "## Euclidean distance"
   ]
  },
  {
   "cell_type": "markdown",
   "metadata": {},
   "source": [
    "Using the standard Euclidean distance does not reveal much..."
   ]
  },
  {
   "cell_type": "code",
   "execution_count": 14,
   "metadata": {},
   "outputs": [
    {
     "name": "stdout",
     "output_type": "stream",
     "text": [
      "using euclidean distance\n",
      "Finding vertices...\n"
     ]
    },
    {
     "data": {
      "application/vnd.jupyter.widget-view+json": {
       "model_id": "fd167efa60284f5b9861d6834a5e053c",
       "version_major": 2,
       "version_minor": 0
      },
      "text/plain": [
       "  0%|          | 0/272 [00:00<?, ?it/s]"
      ]
     },
     "metadata": {},
     "output_type": "display_data"
    },
    {
     "name": "stdout",
     "output_type": "stream",
     "text": [
      "Computing points_covered_by_landmarks...\n"
     ]
    },
    {
     "data": {
      "application/vnd.jupyter.widget-view+json": {
       "model_id": "f074e6568fd9410b8e060e998ada05b6",
       "version_major": 2,
       "version_minor": 0
      },
      "text/plain": [
       "  0%|          | 0/251 [00:00<?, ?it/s]"
      ]
     },
     "metadata": {},
     "output_type": "display_data"
    },
    {
     "name": "stdout",
     "output_type": "stream",
     "text": [
      "Finding edges...\n"
     ]
    },
    {
     "data": {
      "application/vnd.jupyter.widget-view+json": {
       "model_id": "6cf3b677a91e4a34a820c04e9b6250f3",
       "version_major": 2,
       "version_minor": 0
      },
      "text/plain": [
       "0it [00:00, ?it/s]"
      ]
     },
     "metadata": {},
     "output_type": "display_data"
    },
    {
     "name": "stdout",
     "output_type": "stream",
     "text": [
      "Creating Ball Mapper graph...\n",
      "Done\n",
      "color by variable eventdeath \n",
      "MIN_VALUE: 0.000, MAX_VALUE: 1.000\n"
     ]
    },
    {
     "data": {
      "text/html": [
       "\n",
       "  <div class=\"bk-root\" id=\"f29dc956-8609-4766-8c82-cb6222a1e107\" data-root-id=\"1174\"></div>\n"
      ]
     },
     "metadata": {},
     "output_type": "display_data"
    },
    {
     "data": {
      "application/javascript": "(function(root) {\n  function embed_document(root) {\n  const docs_json = {\"54cce632-e831-40b3-908c-351e97e50841\":{\"defs\":[],\"roots\":{\"references\":[{\"attributes\":{\"output_backend\":\"svg\",\"renderers\":[{\"id\":\"1188\"}],\"title\":{\"id\":\"1232\"},\"toolbar\":{\"id\":\"1182\"},\"width\":800,\"x_range\":{\"id\":\"1172\"},\"x_scale\":{\"id\":\"1230\"},\"y_range\":{\"id\":\"1173\"},\"y_scale\":{\"id\":\"1231\"}},\"id\":\"1174\",\"type\":\"Plot\"},{\"attributes\":{},\"id\":\"1180\",\"type\":\"ResetTool\"},{\"attributes\":{\"start\":-1},\"id\":\"1173\",\"type\":\"Range1d\"},{\"attributes\":{},\"id\":\"1244\",\"type\":\"UnionRenderers\"},{\"attributes\":{\"line_alpha\":{\"value\":0.8}},\"id\":\"1203\",\"type\":\"MultiLine\"},{\"attributes\":{},\"id\":\"1181\",\"type\":\"SaveTool\"},{\"attributes\":{\"coordinates\":null,\"group\":null},\"id\":\"1232\",\"type\":\"Title\"},{\"attributes\":{\"fill_alpha\":{\"value\":0.8},\"fill_color\":{\"field\":\"color\"},\"size\":{\"field\":\"size rescaled\"}},\"id\":\"1198\",\"type\":\"Circle\"},{\"attributes\":{},\"id\":\"1245\",\"type\":\"Selection\"},{\"attributes\":{},\"id\":\"1242\",\"type\":\"NodesOnly\"},{\"attributes\":{},\"id\":\"1178\",\"type\":\"WheelZoomTool\"},{\"attributes\":{},\"id\":\"1179\",\"type\":\"PanTool\"},{\"attributes\":{},\"id\":\"1243\",\"type\":\"NodesOnly\"},{\"attributes\":{\"coordinates\":null,\"edge_renderer\":{\"id\":\"1195\"},\"group\":null,\"inspection_policy\":{\"id\":\"1243\"},\"layout_provider\":{\"id\":\"1197\"},\"node_renderer\":{\"id\":\"1191\"},\"selection_policy\":{\"id\":\"1242\"}},\"id\":\"1188\",\"type\":\"GraphRenderer\"},{\"attributes\":{},\"id\":\"1246\",\"type\":\"UnionRenderers\"},{\"attributes\":{},\"id\":\"1247\",\"type\":\"Selection\"},{\"attributes\":{\"start\":-1},\"id\":\"1172\",\"type\":\"Range1d\"},{\"attributes\":{\"graph_layout\":{\"1\":[-0.09970318386760152,0.9850914120490539],\"10\":[-0.006303060252056303,-0.9534839487374449],\"100\":[0.8246274002912553,0.5635386441708601],\"101\":[0.4339288156925477,-0.8965384795344462],\"102\":[-0.4765223306933595,0.8770433893010777],\"103\":[0.23858263118211812,-0.9790032910340856],\"104\":[-0.9362453133786587,0.3031778647377959],\"105\":[-0.9072494630658176,-0.4606721285124297],\"106\":[0.17067811170187905,0.927348667120399],\"107\":[0.5779774555490281,-0.7833505478102935],\"108\":[0.031886061689852425,0.016615287300736727],\"109\":[-0.501004579713344,0.8190742057931284],\"11\":[0.262036331452796,-0.9495793381300209],\"110\":[0.3199751740735806,0.9231653690869553],\"111\":[0.8385753518260186,0.43343919855052],\"112\":[-0.952404452311983,-0.2550106702179091],\"113\":[-0.7560310670561453,-0.6126564370498027],\"114\":[0.9852231529774198,-0.1940526836735952],\"115\":[0.9809155365916072,0.11930575784246555],\"116\":[0.9471416612364295,-0.2017268717699161],\"117\":[0.5141298991332948,-0.7699666582597318],\"118\":[-0.7178868230316886,0.6571881035844634],\"119\":[-0.3121086943569858,-0.9592210197341656],\"12\":[-0.06438077519411918,-0.1225620007967772],\"120\":[0.537307103765595,-0.8196281340546846],\"121\":[0.026309600341817667,0.04866661711125668],\"122\":[0.020038321205338848,0.05099626874059388],\"123\":[0.02601733037684022,0.06579577619952366],\"124\":[-0.02204395368476757,0.9916095058424208],\"125\":[0.867784833961376,0.5316928506605983],\"126\":[-0.8169888981320977,-0.4850738191418945],\"127\":[0.8632124589102925,-0.4824671567239205],\"128\":[-0.9531758817142862,0.15977315243812726],\"129\":[0.9722809289630717,0.2314367696159787],\"13\":[0.046394562336692195,-0.004377975152036846],\"130\":[0.1052346035710392,-0.9839256497204993],\"131\":[0.20210911447292712,0.97848554036591],\"132\":[-0.9690185029610453,-0.06784216183932149],\"133\":[0.8936093942965749,0.4341263260333028],\"134\":[0.765888874992166,0.5830379821052224],\"135\":[-0.44993164580422756,-0.8460372144009054],\"136\":[0.6764480325363602,0.7232659378179991],\"137\":[0.5409756743081714,0.85124633334373],\"138\":[0.827110523942735,-0.39348505307331255],\"139\":[0.928083494276002,0.2943019589917608],\"14\":[-0.9529842568102357,-0.1281264691130347],\"140\":[0.41599707851812445,0.8786493503700911],\"141\":[0.9107185118185398,-0.3966295296045279],\"142\":[-0.08894761056210544,-0.98619799970377],\"143\":[0.059244184133858124,-0.9989257886454614],\"144\":[-0.8289481285415317,0.2004441893970762],\"145\":[-0.8730817081297755,0.36837713333775013],\"146\":[-0.7135224136689785,-0.7446412006697423],\"147\":[0.8784580084716688,-0.43554247781919603],\"148\":[-0.9736307963635578,0.03380138951995152],\"149\":[0.7027438041876118,-0.6952130589376465],\"15\":[0.18260411602156107,-0.9836535582313379],\"150\":[0.30059850335254074,-0.9487457601058761],\"151\":[-0.9818540764248417,-0.11027000873115342],\"152\":[0.29575323785408714,0.8837965582609957],\"153\":[0.29212204532961883,0.9592463178656031],\"154\":[0.41506092052402,-0.849045674765572],\"155\":[0.7633214244509483,-0.6225396258808672],\"156\":[-0.025208536090072158,-0.99213074687825],\"157\":[-0.7061078502977511,0.7437850194498205],\"158\":[0.8505301118660857,0.4928359861526539],\"159\":[-0.05861790978462367,-0.9738004180520478],\"16\":[0.025527441902357978,0.010625322050657518],\"160\":[-0.8315596011347851,-0.5316762620404983],\"161\":[0.05018150697521914,0.9447220255804419],\"162\":[0.6516847925389754,-0.7134287312858723],\"163\":[0.9489219527475428,0.3333715272967927],\"164\":[0.6565306898817058,0.6610383802665992],\"165\":[-0.30928377468762236,-0.9095111651684622],\"166\":[-0.3716832362815888,0.8838047585783088],\"167\":[-0.8702743364844223,-0.5350886508791151],\"168\":[-0.6368515896338866,-0.8080503039513388],\"169\":[0.9042642752103753,0.3952107774562417],\"17\":[0.014379640312374747,0.038696954712435096],\"170\":[0.01887877241308227,-0.9885958381069123],\"171\":[-0.2249768303400211,-0.888982393741152],\"172\":[-0.8952201213175603,-0.3695073751898016],\"173\":[-0.5857098644166024,0.7262088446309725],\"174\":[-0.06318174780524753,-0.1063502332342105],\"175\":[-0.06825883611844921,-0.11368005251379863],\"176\":[0.012226311344322793,0.9716060556723491],\"177\":[0.49211767493014463,-0.8522482980513534],\"178\":[-0.951982711346013,0.26473980173968936],\"179\":[-0.9916831337786073,0.0645340538418048],\"18\":[0.8957385913382316,0.4744505744451378],\"180\":[0.9922585939187653,0.08241725233899055],\"181\":[-0.4361867135621893,0.8292517679159794],\"182\":[-0.8007858723412006,0.4420185536365621],\"183\":[0.968583291349919,-0.24479991787661606],\"184\":[0.7800119265959763,0.6619411321465752],\"185\":[-0.5732704728998406,-0.8295404959536904],\"186\":[-0.5332513137769744,-0.8758200039125629],\"187\":[-0.926455087836287,0.33898030944784174],\"188\":[-0.9291414633936931,-0.35172314311039204],\"189\":[0.6071656371889428,-0.8247464080981031],\"19\":[-0.4360070589803837,-0.8938662151743167],\"190\":[0.8214273349454366,-0.5466117000799344],\"191\":[-0.8652570389971536,0.467871741427018],\"192\":[0.02618626762879002,0.028878203886496007],\"193\":[0.5036447472700197,0.8383751444850402],\"194\":[-0.5904209989768986,-0.7857668808243666],\"195\":[0.549365081136857,0.8133699147362881],\"196\":[0.999426456281767,-0.11534042679197223],\"197\":[-0.2528189108198588,0.9264783273302525],\"198\":[-0.2300778694712464,0.9617563268200076],\"199\":[0.9422048225677502,-0.2784803956375293],\"2\":[0.8954505682360506,0.34129466838447386],\"20\":[0.8107993392633067,-0.4967539548871],\"200\":[0.7147635615670925,0.664466176256995],\"201\":[-0.5582711914920919,0.8357890188485397],\"202\":[0.0900437434740757,0.9620606840113199],\"203\":[-0.3219468893858658,0.9300228160814467],\"204\":[-0.12461925800519613,-0.998025330038196],\"205\":[0.705688815527519,-0.7390692109872371],\"206\":[-0.28368258061674584,0.9521106625777505],\"207\":[0.9967926270597625,0.0325210157301075],\"208\":[0.6905330459064568,-0.6385226809235679],\"209\":[-0.7768903856996481,-0.5613283567469973],\"21\":[-0.9507353103617904,-0.21680827908649591],\"210\":[0.4562452562806166,0.8495861429044294],\"211\":[0.7567511930727793,0.6317759224817744],\"212\":[-0.055947428552783555,-0.10911234563019555],\"213\":[-0.9875236753820403,-0.0037856662678761636],\"214\":[-0.060418755240144964,0.9757023203833736],\"215\":[-0.2704230789748794,-0.9510285303691042],\"216\":[-0.7670543325208034,0.6187566470044554],\"217\":[0.3438191044781818,-0.9305737724185174],\"218\":[-0.9031003160601193,0.4047652620395719],\"219\":[-0.8971510824114453,0.4441958715863077],\"22\":[-0.8104987382070737,0.615292876379691],\"220\":[0.472229599796021,-0.8832490742324817],\"221\":[-0.42243210784439156,0.9243159628402563],\"222\":[-0.5258507558905479,-0.7848129309862963],\"223\":[0.4228956425380436,0.913142931420464],\"224\":[0.9718379637576218,0.2796605753729683],\"225\":[-0.16867089867894292,-0.9782057505028359],\"226\":[0.96354940023376,0.0628786109431613],\"227\":[-0.1417947149515069,0.9709770508321609],\"228\":[-0.96420319218087,-0.16209161992382612],\"229\":[-0.9774396945039225,-0.19346589924208227],\"23\":[-0.6547074763363384,0.6969972311121994],\"230\":[-0.7495068547626644,-0.6880743659598304],\"231\":[-0.9544107097663901,0.2231515201318958],\"232\":[0.9306433226082775,0.24017939367491423],\"233\":[0.9525491185069023,-0.3152762235056054],\"234\":[-0.4279184384187697,0.884655762903596],\"235\":[-0.3650748539584685,0.9334465166951276],\"236\":[-0.7736375379675489,0.6770520210055454],\"237\":[-0.8470970551163259,0.5569045442145671],\"238\":[0.05561249621473896,0.995279700193081],\"239\":[-0.9796111376357919,0.10048012854703005],\"24\":[-0.9034400059816097,0.0657261602691878],\"240\":[1.0,-0.03009946548575608],\"241\":[0.5663031522951584,0.7657280714967564],\"242\":[-0.3017151184813471,0.8787415435798156],\"243\":[0.12221225339545135,0.9735242815581069],\"244\":[-0.9143829710265702,-0.4072229249140387],\"245\":[0.8178084783226179,0.6090882782979227],\"246\":[-0.03307117423656902,0.9270012460859044],\"247\":[-0.6755390293635273,-0.7077899244338584],\"248\":[0.14928276806421417,-0.9278910323755801],\"249\":[0.1425394594895363,-0.984007104769676],\"25\":[0.2095798347370339,-0.9512299175859822],\"250\":[0.6908859273698108,0.7688536296376003],\"251\":[0.9428746631637215,-0.11755412876353644],\"26\":[0.9351612788122684,0.3845856144257014],\"27\":[0.6376041853440414,0.7909050062442174],\"28\":[0.1595744751019958,0.9730651507358387],\"29\":[-0.8175221907867688,-0.5811349705805013],\"3\":[-0.6548235549234898,-0.7558108333459008],\"30\":[-0.949405602834896,-0.30415441312352554],\"31\":[-0.054365094092175104,-0.11609231891322712],\"32\":[-0.06544642786990743,-0.14157072026744782],\"33\":[-0.9104298808999269,0.257778687681063],\"34\":[-0.6164373030733071,0.7729116823969622],\"35\":[-0.5241500210368214,0.8759091000048278],\"36\":[0.6196024554891705,-0.7730981436262947],\"37\":[-0.9385542595277303,0.37413320834672736],\"38\":[0.6242449246503158,0.7377527655294859],\"39\":[0.5402105365969204,-0.8519934801013986],\"4\":[-0.8700497889215197,0.5096669324638862],\"40\":[-0.2025374887354494,-0.9653535353685312],\"41\":[0.9708650720388777,0.15561879247396776],\"42\":[-0.23773423271092797,-0.970272568365191],\"43\":[-0.6132830116136174,-0.7355953133163872],\"44\":[0.8037496118708651,0.5263563967381794],\"45\":[0.9744252237646366,-0.15254003512451453],\"46\":[-0.8040563125654927,0.5666811687251062],\"47\":[0.9607039707932041,-0.04203827365298909],\"48\":[0.9001217006271877,-0.340005689577154],\"49\":[0.023067851704622038,0.04096442792225936],\"5\":[0.3689100231998266,0.8747618765571836],\"50\":[-0.8033378302672172,-0.6323771660558475],\"51\":[-0.975784341295821,0.1929983365466978],\"52\":[-0.8962349219540013,-0.2528977296091807],\"53\":[0.04073837193869426,0.011550152200794486],\"54\":[-0.18908181012086944,0.9359799967659074],\"55\":[-0.4790723267730826,-0.8826076075719195],\"56\":[-0.5165400325655383,-0.8390633028893056],\"57\":[0.013843045824387633,0.04524197846337826],\"58\":[0.22867559326826056,0.9516869544492402],\"59\":[0.6532459761603504,-0.7525099170399725],\"6\":[-0.6154766333536309,0.82045182100846],\"60\":[0.9830688147989212,-0.07797108431377349],\"61\":[0.4766793605474027,0.8779141766349732],\"62\":[0.036292853647299575,0.006582640523889706],\"63\":[-0.864259807034761,-0.4176735873008327],\"64\":[0.5938907207822217,0.8009508206927134],\"65\":[-0.9952141786579034,-0.056328243719457584],\"66\":[-0.13481748299924542,-0.9568973449872644],\"67\":[-0.864687693910475,-0.4711163312550525],\"68\":[0.9365011301292916,-0.3596651604722371],\"69\":[-0.1141562506462181,0.9353447759244816],\"7\":[0.7389278475142966,-0.6694577153201876],\"70\":[-0.18405601451789455,0.9778577409617877],\"71\":[0.8635975156197138,-0.5279884153562348],\"72\":[0.05276621063609665,0.002601010236781791],\"73\":[-0.38843902883512443,-0.9284409198430157],\"74\":[0.9001508760926424,-0.25140967358437993],\"75\":[-0.0795222029203421,-0.12131793129826114],\"76\":[0.8137517237009739,-0.5893898428298374],\"77\":[-0.9198718051805295,-0.3059276311152226],\"78\":[0.9112071014092714,-0.4510305688837269],\"79\":[0.2572755638658335,0.9264483672160715],\"8\":[-0.740461475392281,-0.6607051738629266],\"80\":[-0.5566531150898724,0.7902122996933241],\"81\":[-0.7274077005468842,0.5937109384977827],\"82\":[0.9275402293878454,0.14777119593213536],\"83\":[-0.7162393226836792,0.6993064165691498],\"84\":[-0.3961303210536184,-0.8951051989345863],\"85\":[-0.9816986021541889,0.1384736077851003],\"86\":[0.38474876454392054,-0.934308231844586],\"87\":[0.06874454754305435,-0.9629489503833762],\"88\":[0.38955439916942025,-0.900538355290118],\"89\":[0.7673911554801378,-0.5719568247547326],\"9\":[-0.941101405717792,-0.024051872134987575],\"90\":[0.7881515441274405,-0.6480610500775815],\"91\":[-0.34805886882954507,-0.926254629555056],\"92\":[0.7289639308862241,0.7050865661154655],\"93\":[-0.809768289963997,0.5115736207744643],\"94\":[0.9730131200242902,0.005685041030390871],\"95\":[0.30739587887051945,-0.9120435042471714],\"96\":[-0.6610931894818648,0.7608222430328725],\"97\":[0.9712132644414393,0.19289895277819108],\"98\":[-0.6883366355639148,-0.6549369771136706],\"99\":[0.3636813269825502,0.921485852009654]}},\"id\":\"1197\",\"type\":\"StaticLayoutProvider\"},{\"attributes\":{\"coordinates\":null,\"data_source\":{\"id\":\"1194\"},\"glyph\":{\"id\":\"1203\"},\"group\":null,\"hover_glyph\":null,\"view\":{\"id\":\"1196\"}},\"id\":\"1195\",\"type\":\"GlyphRenderer\"},{\"attributes\":{},\"id\":\"1231\",\"type\":\"LinearScale\"},{\"attributes\":{\"active_scroll\":{\"id\":\"1178\"},\"tools\":[{\"id\":\"1179\"},{\"id\":\"1177\"},{\"id\":\"1178\"},{\"id\":\"1180\"},{\"id\":\"1181\"}]},\"id\":\"1182\",\"type\":\"Toolbar\"},{\"attributes\":{\"data\":{\"end\":[31,32,75,174,175,212,53,62,72,53,62,108,192,49,57,121,122,192,174,175,212,57,121,122,192,62,72,108,192,121,122,192,72,108,192,175,192,122,123,192,123,192,175,212,212],\"start\":[12,12,12,12,12,12,13,13,13,16,16,16,16,17,17,17,17,17,31,31,31,49,49,49,49,53,53,53,53,57,57,57,62,62,62,75,108,121,121,121,122,122,174,174,175]},\"selected\":{\"id\":\"1247\"},\"selection_policy\":{\"id\":\"1246\"}},\"id\":\"1194\",\"type\":\"ColumnDataSource\"},{\"attributes\":{},\"id\":\"1230\",\"type\":\"LinearScale\"},{\"attributes\":{\"source\":{\"id\":\"1190\"}},\"id\":\"1192\",\"type\":\"CDSView\"},{\"attributes\":{\"data\":{\"color\":[\"#fff5f0\",\"#fff5f0\",\"#fff5f0\",\"#fff5f0\",\"#fff5f0\",\"#fff5f0\",\"#fff5f0\",\"#fff5f0\",\"#fff5f0\",\"#67000d\",\"#fff5f0\",\"#fff5f0\",\"#fca082\",\"#fff5f0\",\"#67000d\",\"#fff5f0\",\"#fdcab5\",\"#fff5f0\",\"#fff5f0\",\"#67000d\",\"#fff5f0\",\"#fff5f0\",\"#fff5f0\",\"#67000d\",\"#67000d\",\"#fff5f0\",\"#fff5f0\",\"#67000d\",\"#fff5f0\",\"#67000d\",\"#fff5f0\",\"#fb694a\",\"#fff5f0\",\"#67000d\",\"#67000d\",\"#fff5f0\",\"#67000d\",\"#fff5f0\",\"#fff5f0\",\"#fff5f0\",\"#67000d\",\"#67000d\",\"#fff5f0\",\"#fff5f0\",\"#67000d\",\"#fff5f0\",\"#67000d\",\"#67000d\",\"#fff5f0\",\"#fff5f0\",\"#67000d\",\"#fff5f0\",\"#fff5f0\",\"#67000d\",\"#67000d\",\"#67000d\",\"#fff5f0\",\"#fff5f0\",\"#fff5f0\",\"#fff5f0\",\"#67000d\",\"#fff5f0\",\"#fff5f0\",\"#fff5f0\",\"#fff5f0\",\"#fff5f0\",\"#fff5f0\",\"#67000d\",\"#fff5f0\",\"#fff5f0\",\"#fff5f0\",\"#fff5f0\",\"#67000d\",\"#67000d\",\"#fff5f0\",\"#fff5f0\",\"#67000d\",\"#67000d\",\"#fff5f0\",\"#67000d\",\"#fff5f0\",\"#67000d\",\"#67000d\",\"#67000d\",\"#fff5f0\",\"#fff5f0\",\"#fff5f0\",\"#67000d\",\"#67000d\",\"#fff5f0\",\"#fff5f0\",\"#67000d\",\"#fff5f0\",\"#fff5f0\",\"#fff5f0\",\"#fff5f0\",\"#fff5f0\",\"#fff5f0\",\"#fff5f0\",\"#67000d\",\"#fff5f0\",\"#67000d\",\"#67000d\",\"#fff5f0\",\"#fff5f0\",\"#fff5f0\",\"#67000d\",\"#fff5f0\",\"#fff5f0\",\"#fff5f0\",\"#fff5f0\",\"#fff5f0\",\"#67000d\",\"#67000d\",\"#fff5f0\",\"#fff5f0\",\"#fff5f0\",\"#fff5f0\",\"#67000d\",\"#fff5f0\",\"#fff5f0\",\"#fff5f0\",\"#fff5f0\",\"#fff5f0\",\"#67000d\",\"#fff5f0\",\"#fff5f0\",\"#67000d\",\"#fff5f0\",\"#fff5f0\",\"#fff5f0\",\"#fff5f0\",\"#fff5f0\",\"#fff5f0\",\"#fff5f0\",\"#67000d\",\"#fff5f0\",\"#fff5f0\",\"#fff5f0\",\"#67000d\",\"#fff5f0\",\"#fff5f0\",\"#fff5f0\",\"#67000d\",\"#fff5f0\",\"#fff5f0\",\"#67000d\",\"#fff5f0\",\"#67000d\",\"#67000d\",\"#fff5f0\",\"#fff5f0\",\"#fff5f0\",\"#fff5f0\",\"#fff5f0\",\"#fff5f0\",\"#fff5f0\",\"#fff5f0\",\"#fff5f0\",\"#fff5f0\",\"#67000d\",\"#fff5f0\",\"#fff5f0\",\"#fff5f0\",\"#fff5f0\",\"#fff5f0\",\"#fff5f0\",\"#fff5f0\",\"#67000d\",\"#67000d\",\"#fff5f0\",\"#fff5f0\",\"#fff5f0\",\"#fff5f0\",\"#fff5f0\",\"#fff5f0\",\"#fff5f0\",\"#fff5f0\",\"#fff5f0\",\"#fff5f0\",\"#fff5f0\",\"#fff5f0\",\"#fff5f0\",\"#fff5f0\",\"#fff5f0\",\"#fff5f0\",\"#fff5f0\",\"#fff5f0\",\"#67000d\",\"#fff5f0\",\"#67000d\",\"#fca082\",\"#67000d\",\"#fff5f0\",\"#67000d\",\"#fff5f0\",\"#67000d\",\"#fff5f0\",\"#fff5f0\",\"#fff5f0\",\"#fff5f0\",\"#fff5f0\",\"#67000d\",\"#fff5f0\",\"#fff5f0\",\"#67000d\",\"#fff5f0\",\"#fff5f0\",\"#fff5f0\",\"#fff5f0\",\"#fff5f0\",\"#fff5f0\",\"#fff5f0\",\"#67000d\",\"#fff5f0\",\"#fff5f0\",\"#fff5f0\",\"#fff5f0\",\"#fff5f0\",\"#67000d\",\"#67000d\",\"#67000d\",\"#67000d\",\"#fff5f0\",\"#fff5f0\",\"#fff5f0\",\"#fff5f0\",\"#fff5f0\",\"#fff5f0\",\"#fff5f0\",\"#fff5f0\",\"#fff5f0\",\"#fff5f0\",\"#fff5f0\",\"#fff5f0\",\"#fff5f0\",\"#fff5f0\",\"#fff5f0\",\"#fff5f0\",\"#fff5f0\",\"#67000d\",\"#67000d\",\"#67000d\",\"#67000d\",\"#67000d\",\"#67000d\",\"#67000d\",\"#67000d\",\"#67000d\",\"#67000d\",\"#67000d\"],\"esr1\":[-0.413955,0.195251,0.596177,0.501286,-0.066771,0.121859,0.27341,0.088803,-1.006341,-1.324176,-0.202664,-0.006307750000000001,-0.10446099999999998,-1.160662,-0.661729,0.03729366666666666,-0.07650660000000001,-0.048179,0.034581,-1.255379,-0.3873,-1.088931,-0.164632,0.008423,-1.303928,0.582304,-0.885781,-0.421592,-0.268419,-1.007845,0.22856150000000003,0.1203245,0.352512,-1.188748,0.006759,-0.0162055,-0.147207,-0.111838,0.343665,-1.359296,0.154528,0.378869,0.387274,0.064001,-0.116044,-0.13603,-1.511655,-0.909104,0.0522415,-0.902375,-0.270681,-1.305098,0.2249555,-1.126599,0.309705,-1.116131,-0.2504955,-0.648426,0.188991,0.256504,0.419559,-0.1739282,-1.158259,-1.30751,-0.300751,-0.597746,0.2949775,-0.965673,0.190609,0.209422,0.473494,-0.09299400000000002,-1.099084,-0.162281,0.2943165,-1.359423,-1.429082,0.046133,-0.361686,-1.149146,-0.105017,-1.400621,-0.34081,-1.287865,0.442379,-0.43785,0.043225,-0.891372,-1.262985,0.151557,-0.070873,-1.186065,-0.043293,0.005666,-1.23731,0.065051,-0.341476,-0.523278,-0.018613,-0.095563,-0.463737,-0.987391,-0.424719,-0.37353,0.081441,0.435272,-0.170719,0.0258755,-1.29561,-0.213401,-0.309659,-1.208053,-1.385915,-1.373331,0.286231,-0.040568,0.338275,0.335091,-1.307807,-0.146067,0.09357033333333335,0.2027615,0.14884233333333333,0.197161,0.051452,0.51868,0.406976,-0.590073,-0.417041,0.054635,0.335089,-0.255982,-0.400787,-0.110902,0.086819,-0.185495,0.031225,0.027914,-0.089822,-1.315739,-0.581141,0.160823,-1.378536,0.109356,-0.04558,-0.385181,0.070522,0.112605,0.247885,-0.494486,-0.228539,0.178182,0.226397,-1.047617,-0.263174,-1.176533,0.033616,0.362232,0.061767,-1.003159,0.228925,-1.466478,-1.413574,0.083247,-1.129338,-0.096341,-1.392765,0.522648,0.4258,-1.030526,0.175113,-1.247951,0.061856,-0.0093105,0.20929475,-0.220652,-0.167348,0.178846,-0.084927,-0.05216,0.226498,0.37663,0.300923,-0.57949,0.351714,-0.867899,0.16355,0.187085,-0.517116,-0.168443,-1.334223,0.19701733333333335,-0.341585,-0.342984,0.232049,-0.294615,-1.209474,-0.343299,0.352425,0.164124,-0.037643,-0.036138,0.395972,0.050067,0.207192,-0.294233,0.222838,0.123128,-0.274458,0.13999,0.501602,-0.1074415,-1.233425,0.587983,-0.921313,0.420483,-0.952915,-0.33158,0.142405,-1.462303,0.138597,-0.388893,-0.821286,-0.136145,0.114946,0.401954,0.073601,-0.766778,-0.820146,-0.180312,-0.295729,-0.16347,0.059033,-0.034661,-0.132915,0.028529,-0.668578,0.103277,0.151225,0.088049,-1.256106,0.203644,0.040157,-0.082388,-0.049818,-0.204023,-1.235442,0.062265,-0.635322,-1.055801,-1.063121],\"eventdeath\":[0.0,0.0,0.0,0.0,0.0,0.0,0.0,0.0,0.0,1.0,0.0,0.0,0.3333333333333333,0.0,1.0,0.0,0.2,0.0,0.0,1.0,0.0,0.0,0.0,1.0,1.0,0.0,0.0,1.0,0.0,1.0,0.0,0.5,0.0,1.0,1.0,0.0,1.0,0.0,0.0,0.0,1.0,1.0,0.0,0.0,1.0,0.0,1.0,1.0,0.0,0.0,1.0,0.0,0.0,1.0,1.0,1.0,0.0,0.0,0.0,0.0,1.0,0.0,0.0,0.0,0.0,0.0,0.0,1.0,0.0,0.0,0.0,0.0,1.0,1.0,0.0,0.0,1.0,1.0,0.0,1.0,0.0,1.0,1.0,1.0,0.0,0.0,0.0,1.0,1.0,0.0,0.0,1.0,0.0,0.0,0.0,0.0,0.0,0.0,0.0,1.0,0.0,1.0,1.0,0.0,0.0,0.0,1.0,0.0,0.0,0.0,0.0,0.0,1.0,1.0,0.0,0.0,0.0,0.0,1.0,0.0,0.0,0.0,0.0,0.0,1.0,0.0,0.0,1.0,0.0,0.0,0.0,0.0,0.0,0.0,0.0,1.0,0.0,0.0,0.0,1.0,0.0,0.0,0.0,1.0,0.0,0.0,1.0,0.0,1.0,1.0,0.0,0.0,0.0,0.0,0.0,0.0,0.0,0.0,0.0,0.0,1.0,0.0,0.0,0.0,0.0,0.0,0.0,0.0,1.0,1.0,0.0,0.0,0.0,0.0,0.0,0.0,0.0,0.0,0.0,0.0,0.0,0.0,0.0,0.0,0.0,0.0,0.0,0.0,1.0,0.0,1.0,0.3333333333333333,1.0,0.0,1.0,0.0,1.0,0.0,0.0,0.0,0.0,0.0,1.0,0.0,0.0,1.0,0.0,0.0,0.0,0.0,0.0,0.0,0.0,1.0,0.0,0.0,0.0,0.0,0.0,1.0,1.0,1.0,1.0,0.0,0.0,0.0,0.0,0.0,0.0,0.0,0.0,0.0,0.0,0.0,0.0,0.0,0.0,0.0,0.0,0.0,1.0,1.0,1.0,1.0,1.0,1.0,1.0,1.0,1.0,1.0,1.0],\"index\":[1,2,3,4,5,6,7,8,9,10,11,12,13,14,15,16,17,18,19,20,21,22,23,24,25,26,27,28,29,30,31,32,33,34,35,36,37,38,39,40,41,42,43,44,45,46,47,48,49,50,51,52,53,54,55,56,57,58,59,60,61,62,63,64,65,66,67,68,69,70,71,72,73,74,75,76,77,78,79,80,81,82,83,84,85,86,87,88,89,90,91,92,93,94,95,96,97,98,99,100,101,102,103,104,105,106,107,108,109,110,111,112,113,114,115,116,117,118,119,120,121,122,123,124,125,126,127,128,129,130,131,132,133,134,135,136,137,138,139,140,141,142,143,144,145,146,147,148,149,150,151,152,153,154,155,156,157,158,159,160,161,162,163,164,165,166,167,168,169,170,171,172,173,174,175,176,177,178,179,180,181,182,183,184,185,186,187,188,189,190,191,192,193,194,195,196,197,198,199,200,201,202,203,204,205,206,207,208,209,210,211,212,213,214,215,216,217,218,219,220,221,222,223,224,225,226,227,228,229,230,231,232,233,234,235,236,237,238,239,240,241,242,243,244,245,246,247,248,249,250,251],\"landmark\":[0,1,2,3,4,5,6,7,8,9,10,11,12,13,14,15,16,17,18,19,20,21,22,23,24,25,26,27,28,29,30,31,33,34,35,36,37,38,39,40,41,42,44,45,46,47,48,49,50,51,52,53,55,56,57,58,59,61,62,63,64,66,67,69,70,71,72,74,75,76,77,78,81,82,83,84,85,86,89,90,91,92,93,94,95,96,97,98,99,100,101,102,103,104,105,106,107,109,110,111,112,113,114,115,116,117,118,119,120,121,122,123,124,125,126,127,128,129,130,131,132,133,134,136,137,138,139,140,141,142,143,144,146,147,148,149,150,152,153,154,155,156,157,158,159,160,161,162,163,164,165,166,167,168,169,170,171,172,173,174,175,176,177,178,179,180,182,183,184,185,186,188,189,190,192,193,194,195,196,197,200,202,203,204,205,206,207,208,209,210,211,212,213,214,215,216,217,218,219,220,221,222,223,224,225,226,227,228,229,230,231,232,233,234,235,236,237,238,239,240,241,242,243,244,245,246,247,248,249,250,251,252,253,254,255,256,257,258,259,260,261,262,263,264,265,266,267,268,269,270,271],\"points covered\":[[0],[1],[2],[3],[4],[5],[6],[7],[8],[9],[10],[11,32,88,145],[12,79,181],[13],[14],[15,54,65],[16,68,151,198,201],[17],[18],[19],[20],[21],[22],[23],[24],[25],[26],[27],[28],[29],[30,43,145,191],[31,32],[33],[34],[35],[36,108],[37],[38],[39],[40],[41],[42],[44],[45],[46],[47],[48],[49],[50,68],[51],[52],[53],[55,60,65,79],[56],[57],[58],[59,68],[61],[62],[63],[64],[54,65,66,79,87],[67],[69],[70],[71],[72,73],[74],[75],[76],[77],[78,79,80],[81],[82],[83,88],[84],[85],[86],[89],[90],[91],[92],[93],[94],[95],[96],[97],[98],[99],[100],[101],[102],[103],[104],[105],[106],[107],[109],[110],[111],[112],[113],[114],[115],[116],[117],[118],[65,119],[120],[121],[122],[123],[124],[125],[126],[127],[128],[129],[130],[131],[68,132,187],[68,133,135,199],[134,187,199],[136],[137],[138],[139],[140],[141],[142],[143],[144],[146],[147],[148],[149],[150],[152],[153],[154],[155],[156],[157],[158],[159],[160],[161],[162],[163],[164],[165],[166],[167],[168],[169],[170],[171],[172],[173],[174],[175],[176],[177],[178],[179],[180],[182],[183],[184],[185],[186],[188],[189],[145,190],[43,88,145,192],[193],[194],[195],[196],[197],[200],[202],[203],[204],[205],[206],[207],[208],[209],[210],[211],[65,68,212],[213],[214],[215],[216],[217],[218],[219],[220],[221],[222],[223],[224],[225],[226],[227],[228],[229],[230],[231],[145,232],[233],[234],[235],[236],[237],[238],[239],[240],[241],[242],[243],[244],[245],[246],[247],[248],[249],[250],[251],[252],[253],[254],[255],[256],[257],[258],[259],[260],[261],[262],[263],[264],[265],[266],[267],[268],[269],[270],[271]],\"size\":[1,1,1,1,1,1,1,1,1,1,1,4,3,1,1,3,5,1,1,1,1,1,1,1,1,1,1,1,1,1,4,2,1,1,1,2,1,1,1,1,1,1,1,1,1,1,1,1,2,1,1,1,4,1,1,1,2,1,1,1,1,5,1,1,1,1,2,1,1,1,1,3,1,1,2,1,1,1,1,1,1,1,1,1,1,1,1,1,1,1,1,1,1,1,1,1,1,1,1,1,1,1,1,1,1,1,1,2,1,1,1,1,1,1,1,1,1,1,1,1,3,4,3,1,1,1,1,1,1,1,1,1,1,1,1,1,1,1,1,1,1,1,1,1,1,1,1,1,1,1,1,1,1,1,1,1,1,1,1,1,1,1,1,1,1,1,1,1,1,1,1,1,1,2,4,1,1,1,1,1,1,1,1,1,1,1,1,1,1,1,1,3,1,1,1,1,1,1,1,1,1,1,1,1,1,1,1,1,1,1,1,2,1,1,1,1,1,1,1,1,1,1,1,1,1,1,1,1,1,1,1,1,1,1,1,1,1,1,1,1,1,1,1,1,1,1,1,1,1,1,1],\"size rescaled\":[11.0,11.0,11.0,11.0,11.0,11.0,11.0,11.0,11.0,11.0,11.0,23.0,19.0,11.0,11.0,19.0,27.0,11.0,11.0,11.0,11.0,11.0,11.0,11.0,11.0,11.0,11.0,11.0,11.0,11.0,23.0,15.0,11.0,11.0,11.0,15.0,11.0,11.0,11.0,11.0,11.0,11.0,11.0,11.0,11.0,11.0,11.0,11.0,15.0,11.0,11.0,11.0,23.0,11.0,11.0,11.0,15.0,11.0,11.0,11.0,11.0,27.0,11.0,11.0,11.0,11.0,15.0,11.0,11.0,11.0,11.0,19.0,11.0,11.0,15.0,11.0,11.0,11.0,11.0,11.0,11.0,11.0,11.0,11.0,11.0,11.0,11.0,11.0,11.0,11.0,11.0,11.0,11.0,11.0,11.0,11.0,11.0,11.0,11.0,11.0,11.0,11.0,11.0,11.0,11.0,11.0,11.0,15.0,11.0,11.0,11.0,11.0,11.0,11.0,11.0,11.0,11.0,11.0,11.0,11.0,19.0,23.0,19.0,11.0,11.0,11.0,11.0,11.0,11.0,11.0,11.0,11.0,11.0,11.0,11.0,11.0,11.0,11.0,11.0,11.0,11.0,11.0,11.0,11.0,11.0,11.0,11.0,11.0,11.0,11.0,11.0,11.0,11.0,11.0,11.0,11.0,11.0,11.0,11.0,11.0,11.0,11.0,11.0,11.0,11.0,11.0,11.0,11.0,11.0,11.0,11.0,11.0,11.0,15.0,23.0,11.0,11.0,11.0,11.0,11.0,11.0,11.0,11.0,11.0,11.0,11.0,11.0,11.0,11.0,11.0,11.0,19.0,11.0,11.0,11.0,11.0,11.0,11.0,11.0,11.0,11.0,11.0,11.0,11.0,11.0,11.0,11.0,11.0,11.0,11.0,11.0,15.0,11.0,11.0,11.0,11.0,11.0,11.0,11.0,11.0,11.0,11.0,11.0,11.0,11.0,11.0,11.0,11.0,11.0,11.0,11.0,11.0,11.0,11.0,11.0,11.0,11.0,11.0,11.0,11.0,11.0,11.0,11.0,11.0,11.0,11.0,11.0,11.0,11.0,11.0,11.0]},\"selected\":{\"id\":\"1245\"},\"selection_policy\":{\"id\":\"1244\"}},\"id\":\"1190\",\"type\":\"ColumnDataSource\"},{\"attributes\":{\"coordinates\":null,\"data_source\":{\"id\":\"1190\"},\"glyph\":{\"id\":\"1198\"},\"group\":null,\"hover_glyph\":null,\"view\":{\"id\":\"1192\"}},\"id\":\"1191\",\"type\":\"GlyphRenderer\"},{\"attributes\":{\"source\":{\"id\":\"1194\"}},\"id\":\"1196\",\"type\":\"CDSView\"},{\"attributes\":{\"callback\":null,\"tooltips\":[[\"index\",\"@index\"],[\"size\",\"@size\"],[\"eventdeath\",\"@eventdeath\"],[\"esr1\",\"@esr1\"]]},\"id\":\"1177\",\"type\":\"HoverTool\"}],\"root_ids\":[\"1174\"]},\"title\":\"Bokeh Application\",\"version\":\"2.4.3\"}};\n  const render_items = [{\"docid\":\"54cce632-e831-40b3-908c-351e97e50841\",\"root_ids\":[\"1174\"],\"roots\":{\"1174\":\"f29dc956-8609-4766-8c82-cb6222a1e107\"}}];\n  root.Bokeh.embed.embed_items_notebook(docs_json, render_items);\n  }\n  if (root.Bokeh !== undefined) {\n    embed_document(root);\n  } else {\n    let attempts = 0;\n    const timer = setInterval(function(root) {\n      if (root.Bokeh !== undefined) {\n        clearInterval(timer);\n        embed_document(root);\n      } else {\n        attempts++;\n        if (attempts > 100) {\n          clearInterval(timer);\n          console.log(\"Bokeh: ERROR: Unable to run BokehJS code because BokehJS library is missing\");\n        }\n      }\n    }, 10, root)\n  }\n})(window);",
      "application/vnd.bokehjs_exec.v0+json": ""
     },
     "metadata": {
      "application/vnd.bokehjs_exec.v0+json": {
       "id": "1174"
      }
     },
     "output_type": "display_data"
    }
   ],
   "source": [
    "EPS = 10\n",
    "\n",
    "X = nki_cleaned_df[nki_cleaned_df.columns[17:]]\n",
    "\n",
    "nki_bm = BallMapper(points = X.values, # the pointcloud, as a numpy array\n",
    "                    epsilon = EPS,\n",
    "                    dbg=True) # the radius of the balls\n",
    "\n",
    "my_red_palette = cm.get_cmap(name='Reds')\n",
    "nki_bm.add_coloring(coloring_df=nki_cleaned_df[['eventdeath', 'esr1']])\n",
    "\n",
    "euclidean_gui = graph_GUI(nki_bm.Graph,\n",
    "                          my_red_palette,\n",
    "                          ['eventdeath', 'esr1'])\n",
    "euclidean_gui.color_by_variable('eventdeath')\n",
    "\n",
    "\n",
    "show(euclidean_gui.plot)"
   ]
  },
  {
   "cell_type": "markdown",
   "metadata": {},
   "source": [
    "## Cosine distance"
   ]
  },
  {
   "cell_type": "markdown",
   "metadata": {},
   "source": [
    "But if we use the cosine distance we see two clusters"
   ]
  },
  {
   "cell_type": "code",
   "execution_count": 15,
   "metadata": {},
   "outputs": [],
   "source": [
    "from scipy.spatial.distance import cosine"
   ]
  },
  {
   "cell_type": "code",
   "execution_count": 16,
   "metadata": {},
   "outputs": [
    {
     "name": "stdout",
     "output_type": "stream",
     "text": [
      "using custom distance <function cosine at 0x1181e43a0>\n",
      "Finding vertices...\n"
     ]
    },
    {
     "data": {
      "application/vnd.jupyter.widget-view+json": {
       "model_id": "9786f738758f4be58691df0f79090a85",
       "version_major": 2,
       "version_minor": 0
      },
      "text/plain": [
       "  0%|          | 0/272 [00:00<?, ?it/s]"
      ]
     },
     "metadata": {},
     "output_type": "display_data"
    },
    {
     "name": "stdout",
     "output_type": "stream",
     "text": [
      "Computing points_covered_by_landmarks...\n"
     ]
    },
    {
     "data": {
      "application/vnd.jupyter.widget-view+json": {
       "model_id": "9c9439cc02c14fd383ae07b11e7264d8",
       "version_major": 2,
       "version_minor": 0
      },
      "text/plain": [
       "  0%|          | 0/193 [00:00<?, ?it/s]"
      ]
     },
     "metadata": {},
     "output_type": "display_data"
    },
    {
     "name": "stdout",
     "output_type": "stream",
     "text": [
      "Finding edges...\n"
     ]
    },
    {
     "data": {
      "application/vnd.jupyter.widget-view+json": {
       "model_id": "2c86910ca358451da2165cb55dc57f16",
       "version_major": 2,
       "version_minor": 0
      },
      "text/plain": [
       "0it [00:00, ?it/s]"
      ]
     },
     "metadata": {},
     "output_type": "display_data"
    },
    {
     "name": "stdout",
     "output_type": "stream",
     "text": [
      "Creating Ball Mapper graph...\n",
      "Done\n",
      "color by variable eventdeath \n",
      "MIN_VALUE: 0.000, MAX_VALUE: 1.000\n"
     ]
    },
    {
     "data": {
      "text/html": [
       "\n",
       "  <div class=\"bk-root\" id=\"59cd536d-9ada-4fca-8cba-098595b07bed\" data-root-id=\"1360\"></div>\n"
      ]
     },
     "metadata": {},
     "output_type": "display_data"
    },
    {
     "data": {
      "application/javascript": "(function(root) {\n  function embed_document(root) {\n  const docs_json = {\"4b5fe0c5-54c8-420b-8a56-934d0f46e998\":{\"defs\":[],\"roots\":{\"references\":[{\"attributes\":{\"output_backend\":\"svg\",\"renderers\":[{\"id\":\"1374\"}],\"title\":{\"id\":\"1436\"},\"toolbar\":{\"id\":\"1368\"},\"width\":800,\"x_range\":{\"id\":\"1358\"},\"x_scale\":{\"id\":\"1434\"},\"y_range\":{\"id\":\"1359\"},\"y_scale\":{\"id\":\"1435\"}},\"id\":\"1360\",\"type\":\"Plot\"},{\"attributes\":{\"data\":{\"color\":[\"#fff5f0\",\"#fff5f0\",\"#fff5f0\",\"#fff5f0\",\"#fff5f0\",\"#fff5f0\",\"#fff5f0\",\"#fb694a\",\"#f7593f\",\"#fb694a\",\"#fff5f0\",\"#67000d\",\"#67000d\",\"#fff5f0\",\"#fdcab5\",\"#fff5f0\",\"#fff5f0\",\"#fff5f0\",\"#fb694a\",\"#fff5f0\",\"#67000d\",\"#bc141a\",\"#fb694a\",\"#fff5f0\",\"#fb694a\",\"#fff5f0\",\"#67000d\",\"#fff5f0\",\"#fb694a\",\"#fff5f0\",\"#67000d\",\"#67000d\",\"#67000d\",\"#fb694a\",\"#fb694a\",\"#67000d\",\"#fff5f0\",\"#fb694a\",\"#fff5f0\",\"#fff5f0\",\"#fb694a\",\"#67000d\",\"#fff5f0\",\"#fb694a\",\"#fff5f0\",\"#fff5f0\",\"#fff5f0\",\"#fff5f0\",\"#e32f27\",\"#fff5f0\",\"#fff5f0\",\"#fb694a\",\"#fff5f0\",\"#fff5f0\",\"#fff5f0\",\"#fff5f0\",\"#fff5f0\",\"#fff5f0\",\"#fff5f0\",\"#fff5f0\",\"#fff5f0\",\"#fff5f0\",\"#f24734\",\"#67000d\",\"#fff5f0\",\"#fff5f0\",\"#fff5f0\",\"#fff5f0\",\"#67000d\",\"#fff5f0\",\"#fff5f0\",\"#fff5f0\",\"#fff5f0\",\"#fff5f0\",\"#fff5f0\",\"#fff5f0\",\"#fff5f0\",\"#fff5f0\",\"#67000d\",\"#fff5f0\",\"#67000d\",\"#fff5f0\",\"#fff5f0\",\"#fff5f0\",\"#67000d\",\"#fff5f0\",\"#fb694a\",\"#fff5f0\",\"#fff5f0\",\"#fff5f0\",\"#fff5f0\",\"#e32f27\",\"#fff5f0\",\"#fff5f0\",\"#fff5f0\",\"#fff5f0\",\"#67000d\",\"#fff5f0\",\"#fca082\",\"#fff5f0\",\"#fff5f0\",\"#fff5f0\",\"#fff5f0\",\"#fff5f0\",\"#fff5f0\",\"#67000d\",\"#fff5f0\",\"#fff5f0\",\"#fff5f0\",\"#67000d\",\"#67000d\",\"#67000d\",\"#fff5f0\",\"#fff5f0\",\"#fff5f0\",\"#fff5f0\",\"#fff5f0\",\"#fff5f0\",\"#fff5f0\",\"#67000d\",\"#fca082\",\"#fff5f0\",\"#fff5f0\",\"#fff5f0\",\"#e32f27\",\"#67000d\",\"#fff5f0\",\"#fff5f0\",\"#fff5f0\",\"#fff5f0\",\"#fff5f0\",\"#fff5f0\",\"#fff5f0\",\"#fff5f0\",\"#fff5f0\",\"#fff5f0\",\"#fff5f0\",\"#fff5f0\",\"#fff5f0\",\"#fff5f0\",\"#fff5f0\",\"#67000d\",\"#fff5f0\",\"#67000d\",\"#67000d\",\"#67000d\",\"#fff5f0\",\"#67000d\",\"#fb694a\",\"#67000d\",\"#fca082\",\"#fff5f0\",\"#67000d\",\"#fff5f0\",\"#67000d\",\"#fff5f0\",\"#fff5f0\",\"#fff5f0\",\"#fff5f0\",\"#fff5f0\",\"#fff5f0\",\"#67000d\",\"#fff5f0\",\"#fff5f0\",\"#fcbba1\",\"#fff5f0\",\"#67000d\",\"#67000d\",\"#67000d\",\"#fff5f0\",\"#fff5f0\",\"#fff5f0\",\"#fff5f0\",\"#fca082\",\"#fff5f0\",\"#fff5f0\",\"#fff5f0\",\"#fff5f0\",\"#fff5f0\",\"#fff5f0\",\"#fff5f0\",\"#fff5f0\",\"#fff5f0\",\"#fff5f0\",\"#fff5f0\",\"#67000d\",\"#67000d\",\"#67000d\",\"#67000d\",\"#67000d\",\"#67000d\",\"#67000d\",\"#67000d\"],\"esr1\":[-0.16651400000000002,0.395714,0.2826435,-0.066771,0.121859,0.27341,-0.030847666666666662,-1.13086,-1.247684227272727,-0.142526,-0.037416666666666674,-0.162349,-0.661729,-0.13544266666666668,-0.21510020000000002,-0.048179,0.176033,-0.3873,-1.196523,-0.164632,0.008423,-1.2279322,0.4805865,-0.885781,-0.863345,-0.268419,-1.007845,0.242485,0.1203245,0.352512,-1.2902685,0.006759,-0.147207,-0.03285250000000001,0.0014274999999999982,0.154528,0.32804940000000005,-0.3485925,-0.13603,0.022536,-1.09512,-0.270681,0.438809,0.13105250000000002,-0.582938,0.33570775,-0.648426,0.188991,0.2808353333333333,0.080359,-0.29935233333333333,-1.1999465,0.081947,-1.2777305,-0.300751,-0.597746,0.2949775,-0.18202333333333334,0.209422,0.473494,-0.11351950000000001,-0.051943,-1.2419793181818182,-0.162281,-0.361686,-0.105017,0.2351465,0.043225,-0.891372,0.151557,-0.070873,-0.043293,0.005666,-1.23731,0.046482499999999996,-0.341476,-0.14805844444444444,-0.018613,-0.095563,-0.463737,-0.424719,-0.37353,0.081441,0.2792,-0.170719,-0.028608,-0.8693705,0.2713675,-0.040568,0.338275,0.335091,-1.3175853333333334,-0.03324233333333333,0.20694239999999997,0.14884233333333333,0.123614,0.051452,0.0986345,-0.3402779999999999,-0.417041,0.06036975000000001,-0.255982,-0.372043,-0.110902,-0.149181,-0.185495,0.040646,-0.089822,0.1624735,0.109356,0.247885,-0.494486,-0.228539,0.178182,0.226397,-0.263174,0.033616,0.25305900000000003,0.061767,0.228925,-1.3246836666666668,0.083247,-0.099091,0.522648,0.15379,-1.030526,0.175113,-0.220652,-0.167348,0.178846,-0.084927,-0.05216,0.226498,-0.102944,0.37663,0.30493033333333336,-0.57949,0.351714,-0.867899,0.0112886,0.187085,-0.517116,-0.168443,-1.334223,0.428746,-0.341585,-0.342984,0.232049,-0.641003,-1.2486695,-0.0006910000000000041,-0.036138,0.395972,0.207192,-0.294233,0.2513493333333333,-0.274458,0.13999,0.501602,-0.1074415,-1.233425,0.587983,-0.921313,0.044451500000000005,-1.15146225,0.142405,0.138597,-0.388893,-0.821286,-0.136145,0.114946,0.1650525,-0.706763,-0.9633039999999999,-0.180312,-0.295729,-0.16347,0.059033,-0.034661,-0.132915,0.028529,-0.668578,0.103277,0.151225,0.088049,0.203644,0.040157,-0.049818,-0.204023,0.062265,-0.635322,-1.2398023333333332,-1.063121],\"eventdeath\":[0.0,0.0,0.0,0.0,0.0,0.0,0.0,0.5,0.5454545454545454,0.5,0.0,1.0,1.0,0.0,0.2,0.0,0.0,0.0,0.5,0.0,1.0,0.8,0.5,0.0,0.5,0.0,1.0,0.0,0.5,0.0,1.0,1.0,1.0,0.5,0.5,1.0,0.0,0.5,0.0,0.0,0.5,1.0,0.0,0.5,0.0,0.0,0.0,0.0,0.6666666666666666,0.0,0.0,0.5,0.0,0.0,0.0,0.0,0.0,0.0,0.0,0.0,0.0,0.0,0.5909090909090909,1.0,0.0,0.0,0.0,0.0,1.0,0.0,0.0,0.0,0.0,0.0,0.0,0.0,0.0,0.0,1.0,0.0,1.0,0.0,0.0,0.0,1.0,0.0,0.5,0.0,0.0,0.0,0.0,0.6666666666666666,0.0,0.0,0.0,0.0,1.0,0.0,0.3333333333333333,0.0,0.0,0.0,0.0,0.0,0.0,1.0,0.0,0.0,0.0,1.0,1.0,1.0,0.0,0.0,0.0,0.0,0.0,0.0,0.0,1.0,0.3333333333333333,0.0,0.0,0.0,0.6666666666666666,1.0,0.0,0.0,0.0,0.0,0.0,0.0,0.0,0.0,0.0,0.0,0.0,0.0,0.0,0.0,0.0,1.0,0.0,1.0,1.0,1.0,0.0,1.0,0.5,1.0,0.3333333333333333,0.0,1.0,0.0,1.0,0.0,0.0,0.0,0.0,0.0,0.0,1.0,0.0,0.0,0.25,0.0,1.0,1.0,1.0,0.0,0.0,0.0,0.0,0.3333333333333333,0.0,0.0,0.0,0.0,0.0,0.0,0.0,0.0,0.0,0.0,0.0,1.0,1.0,1.0,1.0,1.0,1.0,1.0,1.0],\"index\":[1,2,3,4,5,6,7,8,9,10,11,12,13,14,15,16,17,18,19,20,21,22,23,24,25,26,27,28,29,30,31,32,33,34,35,36,37,38,39,40,41,42,43,44,45,46,47,48,49,50,51,52,53,54,55,56,57,58,59,60,61,62,63,64,65,66,67,68,69,70,71,72,73,74,75,76,77,78,79,80,81,82,83,84,85,86,87,88,89,90,91,92,93,94,95,96,97,98,99,100,101,102,103,104,105,106,107,108,109,110,111,112,113,114,115,116,117,118,119,120,121,122,123,124,125,126,127,128,129,130,131,132,133,134,135,136,137,138,139,140,141,142,143,144,145,146,147,148,149,150,151,152,153,154,155,156,157,158,159,160,161,162,163,164,165,166,167,168,169,170,171,172,173,174,175,176,177,178,179,180,181,182,183,184,185,186,187,188,189,190,191,192,193],\"landmark\":[0,1,3,4,5,6,7,8,9,10,11,12,14,15,16,17,18,20,21,22,23,24,25,26,27,28,29,30,31,33,34,35,37,38,39,41,44,46,47,50,51,52,55,57,59,60,61,62,64,65,66,67,68,69,70,71,72,75,76,77,78,79,81,82,89,91,95,97,98,100,101,103,104,105,106,107,108,110,111,112,114,115,116,117,118,119,122,126,127,128,129,130,132,133,134,136,137,139,140,141,142,144,146,147,148,149,150,153,156,158,163,164,165,166,167,169,171,172,173,175,177,178,181,183,184,185,186,193,194,195,196,197,200,201,202,203,204,205,206,207,208,209,210,211,212,213,214,215,216,217,221,222,223,225,226,227,229,230,231,232,233,234,235,236,237,239,241,242,243,244,245,247,248,249,250,251,252,253,254,255,256,257,258,259,260,262,263,265,266,268,269,270,271],\"points covered\":[[0,36,180],[1,2],[3,45],[4],[5],[6],[7,63,96],[8,19],[9,13,40,48,49,56,58,84,90,92,120,123,124,125,154,157,168,170,174,179,240,261],[10,264],[11,88,145],[12],[14],[15,54,96],[16,54,87,151,198],[17],[18,83],[20],[13,21,56,90,123,125,174,240],[22],[23],[19,24,53,94,113],[25,42],[26],[27,53],[28],[29],[30,43,88,138,145,190,191,228],[31,32],[33],[19,34,85,94],[35],[37],[38,86],[39,93],[41],[44,143,190,191,192],[46,155],[47],[50],[51,94],[52],[55],[57,198],[59],[43,60,187,192],[61],[62],[64,161,219],[65],[54,66,87],[67,74,94,120,154,170],[68],[69,188],[70],[71],[72,73],[75,109,121],[76],[77],[78,80],[79],[13,40,56,58,74,81,84,90,92,99,102,123,125,154,170,174,176,182,188,240,261,267],[82],[89],[91],[95,152],[97],[98],[100],[101],[103],[104],[105],[106,152],[107],[32,36,54,87,108,131,159,160,180],[110],[111],[112],[114],[115],[116],[117,228],[118],[119],[85,122],[63,126],[127],[128],[129],[48,58,92,130,170,182],[36,132,180],[133,135,180,199,246],[134,187,199],[136,224],[137],[83,88,139,145,160,190],[140,159,160],[141],[142,151,162,198],[144],[146,218],[147],[148,160],[149],[150,224],[153],[156,220],[158],[163],[164],[165],[166],[167],[169],[171],[143,172,189],[173],[175],[19,53,177],[178],[181],[183],[42,184,218],[185],[186],[193],[194],[195],[196],[197],[200],[201],[202],[135,199,203],[204],[205],[206],[63,96,151,198,207],[208],[209],[210],[211],[212],[213],[214],[215],[113,216],[94,217],[42,218,221],[222],[223],[225],[226],[63,135,227],[229],[230],[231],[145,232],[233],[234],[235],[236,238],[13,154,170,237],[239],[241],[242],[243],[244],[245],[63,247],[87,248],[13,49,249],[250],[251],[252],[253],[254],[255],[256],[257],[258],[259],[260],[262],[263],[265],[266],[268],[269],[92,99,270],[271]],\"size\":[3,2,2,1,1,1,3,2,22,2,3,1,1,3,5,1,2,1,8,1,1,5,2,1,2,1,1,8,2,1,4,1,1,2,2,1,5,2,1,1,2,1,1,2,1,4,1,1,3,1,3,6,1,2,1,1,2,3,1,1,2,1,22,1,1,1,2,1,1,1,1,1,1,1,2,1,9,1,1,1,1,1,1,2,1,1,2,2,1,1,1,6,3,5,3,2,1,6,3,1,4,1,2,1,2,1,2,1,2,1,1,1,1,1,1,1,1,3,1,1,3,1,1,1,3,1,1,1,1,1,1,1,1,1,1,3,1,1,1,5,1,1,1,1,1,1,1,1,2,2,3,1,1,1,1,3,1,1,1,2,1,1,1,2,4,1,1,1,1,1,1,2,2,3,1,1,1,1,1,1,1,1,1,1,1,1,1,1,1,1,1,3,1],\"size rescaled\":[9.727272727272727,8.818181818181818,8.818181818181818,7.909090909090909,7.909090909090909,7.909090909090909,9.727272727272727,8.818181818181818,27.0,8.818181818181818,9.727272727272727,7.909090909090909,7.909090909090909,9.727272727272727,11.545454545454547,7.909090909090909,8.818181818181818,7.909090909090909,14.272727272727273,7.909090909090909,7.909090909090909,11.545454545454547,8.818181818181818,7.909090909090909,8.818181818181818,7.909090909090909,7.909090909090909,14.272727272727273,8.818181818181818,7.909090909090909,10.636363636363637,7.909090909090909,7.909090909090909,8.818181818181818,8.818181818181818,7.909090909090909,11.545454545454547,8.818181818181818,7.909090909090909,7.909090909090909,8.818181818181818,7.909090909090909,7.909090909090909,8.818181818181818,7.909090909090909,10.636363636363637,7.909090909090909,7.909090909090909,9.727272727272727,7.909090909090909,9.727272727272727,12.454545454545453,7.909090909090909,8.818181818181818,7.909090909090909,7.909090909090909,8.818181818181818,9.727272727272727,7.909090909090909,7.909090909090909,8.818181818181818,7.909090909090909,27.0,7.909090909090909,7.909090909090909,7.909090909090909,8.818181818181818,7.909090909090909,7.909090909090909,7.909090909090909,7.909090909090909,7.909090909090909,7.909090909090909,7.909090909090909,8.818181818181818,7.909090909090909,15.181818181818182,7.909090909090909,7.909090909090909,7.909090909090909,7.909090909090909,7.909090909090909,7.909090909090909,8.818181818181818,7.909090909090909,7.909090909090909,8.818181818181818,8.818181818181818,7.909090909090909,7.909090909090909,7.909090909090909,12.454545454545453,9.727272727272727,11.545454545454547,9.727272727272727,8.818181818181818,7.909090909090909,12.454545454545453,9.727272727272727,7.909090909090909,10.636363636363637,7.909090909090909,8.818181818181818,7.909090909090909,8.818181818181818,7.909090909090909,8.818181818181818,7.909090909090909,8.818181818181818,7.909090909090909,7.909090909090909,7.909090909090909,7.909090909090909,7.909090909090909,7.909090909090909,7.909090909090909,7.909090909090909,9.727272727272727,7.909090909090909,7.909090909090909,9.727272727272727,7.909090909090909,7.909090909090909,7.909090909090909,9.727272727272727,7.909090909090909,7.909090909090909,7.909090909090909,7.909090909090909,7.909090909090909,7.909090909090909,7.909090909090909,7.909090909090909,7.909090909090909,7.909090909090909,9.727272727272727,7.909090909090909,7.909090909090909,7.909090909090909,11.545454545454547,7.909090909090909,7.909090909090909,7.909090909090909,7.909090909090909,7.909090909090909,7.909090909090909,7.909090909090909,7.909090909090909,8.818181818181818,8.818181818181818,9.727272727272727,7.909090909090909,7.909090909090909,7.909090909090909,7.909090909090909,9.727272727272727,7.909090909090909,7.909090909090909,7.909090909090909,8.818181818181818,7.909090909090909,7.909090909090909,7.909090909090909,8.818181818181818,10.636363636363637,7.909090909090909,7.909090909090909,7.909090909090909,7.909090909090909,7.909090909090909,7.909090909090909,8.818181818181818,8.818181818181818,9.727272727272727,7.909090909090909,7.909090909090909,7.909090909090909,7.909090909090909,7.909090909090909,7.909090909090909,7.909090909090909,7.909090909090909,7.909090909090909,7.909090909090909,7.909090909090909,7.909090909090909,7.909090909090909,7.909090909090909,7.909090909090909,7.909090909090909,7.909090909090909,9.727272727272727,7.909090909090909]},\"selected\":{\"id\":\"1449\"},\"selection_policy\":{\"id\":\"1448\"}},\"id\":\"1376\",\"type\":\"ColumnDataSource\"},{\"attributes\":{\"coordinates\":null,\"edge_renderer\":{\"id\":\"1381\"},\"group\":null,\"inspection_policy\":{\"id\":\"1447\"},\"layout_provider\":{\"id\":\"1383\"},\"node_renderer\":{\"id\":\"1377\"},\"selection_policy\":{\"id\":\"1446\"}},\"id\":\"1374\",\"type\":\"GraphRenderer\"},{\"attributes\":{},\"id\":\"1450\",\"type\":\"UnionRenderers\"},{\"attributes\":{\"start\":-1},\"id\":\"1358\",\"type\":\"Range1d\"},{\"attributes\":{\"callback\":null,\"tooltips\":[[\"index\",\"@index\"],[\"size\",\"@size\"],[\"eventdeath\",\"@eventdeath\"],[\"esr1\",\"@esr1\"]]},\"id\":\"1363\",\"type\":\"HoverTool\"},{\"attributes\":{\"source\":{\"id\":\"1376\"}},\"id\":\"1378\",\"type\":\"CDSView\"},{\"attributes\":{},\"id\":\"1451\",\"type\":\"Selection\"},{\"attributes\":{},\"id\":\"1446\",\"type\":\"NodesOnly\"},{\"attributes\":{\"line_alpha\":{\"value\":0.8}},\"id\":\"1389\",\"type\":\"MultiLine\"},{\"attributes\":{\"data\":{\"end\":[77,93,94,14,88,140,156,172,22,31,121,19,52,63,92,165,174,192,28,98,160,15,51,77,140,44,51,77,101,140,173,98,63,165,174,25,31,41,52,121,149,150,125,151,121,37,46,84,98,160,77,41,52,87,121,150,46,98,118,52,150,101,140,95,77,173,63,92,150,165,63,92,165,174,192,75,93,94,98,99,105,173,140,156,172,165,192,94,95,136,156,136,107,99,105,160,105,140,125,151,151,156,156,172,172,174],\"start\":[1,1,1,7,7,7,7,7,8,8,8,9,9,9,9,9,9,9,11,11,11,14,14,14,14,15,15,15,15,15,15,17,19,19,19,22,22,22,22,22,22,22,23,23,25,28,28,28,28,28,29,31,31,31,31,31,37,37,37,41,41,44,44,46,51,51,52,52,52,52,54,63,63,63,63,67,77,77,77,77,77,77,88,88,88,92,92,93,94,94,94,95,96,98,98,98,99,101,103,103,125,136,140,140,156,165]},\"selected\":{\"id\":\"1451\"},\"selection_policy\":{\"id\":\"1450\"}},\"id\":\"1380\",\"type\":\"ColumnDataSource\"},{\"attributes\":{\"graph_layout\":{\"1\":[-0.10773486301741866,-0.06620467005171037],\"10\":[-0.3991405313905415,-0.8509241942789902],\"100\":[0.623009234577116,0.7357141811654867],\"101\":[-0.08047837368409806,-0.11962029511098554],\"102\":[-0.4592889961322379,0.8818634037431763],\"103\":[0.45836157394922683,0.19940170716243386],\"104\":[-0.9235787604178393,0.35655626097266024],\"105\":[-0.14192793441277735,-0.059852433144832205],\"106\":[0.08204134215532335,0.9223297534663187],\"107\":[-0.7121766814591347,-0.06782754025058117],\"108\":[0.47142933601713116,-0.8137115564250934],\"109\":[-0.5002109704080283,0.8178044168968457],\"11\":[-0.17989429634107165,-0.0302434160768295],\"110\":[0.13915030280782922,0.9463166551578246],\"111\":[0.6951966526687644,0.5830913468572886],\"112\":[-0.9741485791224297,-0.1710787375737973],\"113\":[-0.8106003332869991,-0.53130412002652],\"114\":[0.953351183897339,-0.10318840245775972],\"115\":[0.9303287962697178,0.17272849198609208],\"116\":[0.9257313604489708,-0.0015285792656162553],\"117\":[0.7206036431331866,-0.5161359471478979],\"118\":[-0.17009644674693708,0.014585582364864918],\"119\":[-0.30584864787892896,-0.9428062385987159],\"12\":[-0.8459719432116525,-0.4420515821311797],\"120\":[0.18291574801326765,-0.9283421290789629],\"121\":[0.1376733434260498,0.12873682565803285],\"122\":[0.9194235032433296,-0.24302723997212544],\"123\":[-0.8346299999079239,0.5966431417234082],\"124\":[-0.19072175726876753,0.9639428636698236],\"125\":[0.45532011183039667,0.182366544283785],\"126\":[-0.9180153457016458,-0.25266750891150824],\"127\":[0.7627810560025449,-0.5593724652230755],\"128\":[-0.9460424879995837,0.22708572455081258],\"129\":[0.9151274666137241,0.28726950662565304],\"13\":[-0.2882236150080216,0.9059985976346336],\"130\":[0.08853307128570376,-0.9586629079813964],\"131\":[-0.006276688384632841,0.9819225783226632],\"132\":[-0.9764091354251855,-0.017119308346192533],\"133\":[0.7668998311109219,0.5736489236570668],\"134\":[0.5293848914376347,0.7661852693382241],\"135\":[-0.547533887049832,-0.7738692037325758],\"136\":[-0.08158358093549213,-0.04707122549317205],\"137\":[0.4427086462538647,0.8749640733520593],\"138\":[0.5482427422332095,0.6891325842948259],\"139\":[0.7952128306749578,0.49252520827883084],\"14\":[-0.09018860289286246,-0.09018276333374704],\"140\":[-0.06895045717665474,-0.09857164637421886],\"141\":[0.8696071074088321,-0.38199894512083077],\"142\":[-0.08464332823852609,-0.9635208631723335],\"143\":[0.038746280414845104,-0.9737657208796588],\"144\":[-0.07446610945941627,0.8807074837298131],\"145\":[-0.8455607000943385,0.438956189667658],\"146\":[-0.7749047030467405,-0.672182739103753],\"147\":[0.88942166282876,-0.28592805268120597],\"148\":[-0.9794031407666011,0.040341491086601906],\"149\":[0.16497922120887445,0.12979887823491346],\"15\":[-0.09383935582324696,-0.1021664665917063],\"150\":[0.14268265215563236,0.09849167830119578],\"151\":[0.45115245874884125,0.19047393587684988],\"152\":[-0.16255154788707563,0.905051245506058],\"153\":[0.22428050086975743,0.9561573709344822],\"154\":[0.22333327242674153,-0.8756412645715111],\"155\":[0.5790663058509674,-0.746034679927086],\"156\":[-0.06739197242426412,-0.07302633023734258],\"157\":[-0.746948334986671,0.7052289984035444],\"158\":[0.6724774581445135,0.6664585713077056],\"159\":[-0.13078715054522644,-0.9451718557060399],\"16\":[0.1329669034863353,-0.9407536104237858],\"160\":[-0.17234292204393734,-0.031245467737394842],\"161\":[-0.029380166351542992,0.9326220969469444],\"162\":[0.3510205569192846,-0.8579176315059065],\"163\":[0.9002058441224899,0.35048257549942186],\"164\":[0.31366145944384066,0.8516377803202331],\"165\":[0.14379689377689403,0.05270780274980668],\"166\":[-0.4131209582593786,0.860949203659775],\"167\":[-0.89949197798725,-0.48073726835228137],\"168\":[-0.7128322133291299,-0.7324767203848767],\"169\":[0.8524770819133188,0.41585404096750384],\"17\":[-0.18222336998292413,-0.05229531450834331],\"170\":[-0.029693555479177063,-0.9638279940236611],\"171\":[-0.7221693301899822,-0.5522099669637297],\"172\":[-0.05174763081309498,-0.08489702570230744],\"173\":[-0.11569231096175644,-0.10115288007426289],\"174\":[0.14633424657402644,0.03801261373968669],\"175\":[-0.7543515708693976,0.5614756856788039],\"176\":[-0.10512251660289854,0.9543225342007293],\"177\":[0.28969324263324714,-0.9053707415336947],\"178\":[-0.9515956128064936,0.2882691970665802],\"179\":[-0.9944066675612787,0.10105821406606988],\"18\":[0.8168289963927854,0.5358888190515418],\"180\":[0.9484295637391891,0.09423198539089031],\"181\":[-0.3546913198553966,0.8612927011978229],\"182\":[-0.5283333288658797,0.7458882694833915],\"183\":[0.9398022386727853,-0.16535897940113883],\"184\":[0.6889884364962152,0.7102763936450068],\"185\":[-0.6257219691976796,-0.7791708616679871],\"186\":[-0.5827064189957577,-0.8316577008482158],\"187\":[-0.9014426824258902,0.4139417744721333],\"188\":[-0.9464560893009374,-0.30880041650773515],\"189\":[0.4877757114472216,-0.8579251324456487],\"19\":[0.15485535033559444,0.03667701406772792],\"190\":[0.638509866910545,-0.6939264051198687],\"191\":[-0.8331979110428616,0.5302988297997664],\"192\":[0.17104651368763213,0.055930525482733966],\"193\":[0.37884747768319965,0.8743295194628812],\"2\":[0.8469985258143935,0.3600709806386654],\"20\":[0.8236725766659747,-0.3821887620848644],\"21\":[-0.97400504656741,-0.11377325638904617],\"22\":[0.14385668191527828,0.11333524851496558],\"23\":[0.4676997606498175,0.1844924311491299],\"24\":[-0.8885647130496098,0.302289830912015],\"25\":[0.14764391286232958,0.13800799190780633],\"26\":[0.8559260119967071,0.46195411865910285],\"27\":[0.5845711996800651,0.7939124387485362],\"28\":[-0.16700454386575098,-0.01798064226821424],\"29\":[-0.14046658524631273,-0.09493281866904064],\"3\":[-0.7838972962151716,-0.6128616277802005],\"30\":[-0.9718105917376406,-0.2328580878981964],\"31\":[0.12938836847123644,0.1086117007707515],\"32\":[0.8115135029879638,-0.4708250758205726],\"33\":[-0.943904597211954,0.12530069353351736],\"34\":[-0.683600108920522,0.7179418781362327],\"35\":[-0.5506786728946735,0.8571027240057346],\"36\":[0.4152075424194497,-0.8578560634009845],\"37\":[-0.15820874364990062,-0.009758779174386832],\"38\":[0.4441481516368692,0.8262556296094834],\"39\":[0.35581085578561894,-0.9056104452910221],\"4\":[-0.8836058873512015,0.4938199819113621],\"40\":[-0.17835895943061822,-0.950681373315237],\"41\":[0.13383655419291707,0.09659788145888105],\"42\":[-0.22857131254684726,-0.9525813877637415],\"43\":[-0.6900737075175122,-0.6561955376607158],\"44\":[-0.0725612561849974,-0.11741943039785327],\"45\":[0.9414271473581617,-0.04824381820087224],\"46\":[-0.13792730293578204,-0.015157324888588659],\"47\":[0.9125103370491069,0.1243204208024445],\"48\":[0.898507534536988,-0.19794631930792872],\"49\":[0.47895137467668436,-0.7408995433531174],\"5\":[0.18483569661778387,0.9112214312259268],\"50\":[-0.8536895423806584,-0.555992927073592],\"51\":[-0.10739725760715871,-0.09488672200481822],\"52\":[0.14275697891990008,0.07884222127297683],\"53\":[0.7401891871933788,-0.6111750397552286],\"54\":[0.1823074763648824,0.035832475150040774],\"55\":[-0.5201897314705818,-0.8457687962304226],\"56\":[-0.651383633526047,-0.7271786107428035],\"57\":[0.7389073235989743,0.6332183899166465],\"58\":[0.059206813519274266,0.9591499740656549],\"59\":[0.5418956499952446,-0.7895987883066858],\"6\":[-0.6421465591792244,0.8000731892082624],\"60\":[0.9427833837788563,0.042628968248488566],\"61\":[0.32608530239990235,0.9165956336951676],\"62\":[-0.4684119888121626,-0.859463086087623],\"63\":[0.15900318913899045,0.05007772861215953],\"64\":[0.5086781037942092,0.8240334008707384],\"65\":[-1.0,-0.05736955213270859],\"66\":[-0.2672193005884439,-0.9112809201476471],\"67\":[-0.9086143582971007,-0.38025472650144065],\"68\":[0.8997675045107384,-0.3321113177084081],\"69\":[-0.23277019867154503,0.9041046416196256],\"7\":[-0.0645482670777577,-0.08857831453377409],\"70\":[-0.33318193218963893,0.9310600733774398],\"71\":[0.8131403492172335,-0.5272666953819221],\"72\":[-0.004928189914308897,-0.9274180648582836],\"73\":[-0.4163219054876037,-0.9005468823492069],\"74\":[0.8854274573950967,-0.10628644683823622],\"75\":[-0.9233822700954126,-0.3860429179011451],\"76\":[0.699365192540589,-0.6618956543302349],\"77\":[-0.12030589735977139,-0.07523020452839095],\"78\":[0.8643958241165899,-0.44673510443514597],\"79\":[0.2601441681142116,0.9051101411472172],\"8\":[0.12853325188730338,0.1258032524278969],\"80\":[-0.6039030220845276,0.7555744276645104],\"81\":[-0.666975191000432,0.6586539602768997],\"82\":[0.860103601027946,0.25650946478224335],\"83\":[-0.7749229132855348,0.6393861759988638],\"84\":[-0.19049790407445946,-0.0025022750821578886],\"85\":[-0.9809471922158709,0.18158620285568888],\"86\":[0.2373876655911168,-0.9494698375545266],\"87\":[0.10939024423530688,0.12420278057262357],\"88\":[-0.05172439065654215,-0.092773070158468],\"89\":[0.6640959754267105,-0.6292914157115422],\"9\":[0.15157450766699904,0.053726212696916444],\"90\":[0.6361710028196942,-0.7441769990145327],\"91\":[-0.35239767792739224,-0.9084457285218548],\"92\":[0.155716912497927,0.0632464727864074],\"93\":[-0.11237017632130243,-0.05783676796775833],\"94\":[-0.09541286670952936,-0.057074031601976855],\"95\":[-0.10535395130109095,-0.030977871757710038],\"96\":[-0.7277037203958984,-0.06883970417986054],\"97\":[0.9221209474930331,0.22510762788201288],\"98\":[-0.15568994028010147,-0.043272441884185775],\"99\":[-0.14754863521258096,-0.06634950314745862]}},\"id\":\"1383\",\"type\":\"StaticLayoutProvider\"},{\"attributes\":{},\"id\":\"1434\",\"type\":\"LinearScale\"},{\"attributes\":{},\"id\":\"1447\",\"type\":\"NodesOnly\"},{\"attributes\":{\"coordinates\":null,\"data_source\":{\"id\":\"1380\"},\"glyph\":{\"id\":\"1389\"},\"group\":null,\"hover_glyph\":null,\"view\":{\"id\":\"1382\"}},\"id\":\"1381\",\"type\":\"GlyphRenderer\"},{\"attributes\":{\"start\":-1},\"id\":\"1359\",\"type\":\"Range1d\"},{\"attributes\":{\"source\":{\"id\":\"1380\"}},\"id\":\"1382\",\"type\":\"CDSView\"},{\"attributes\":{\"coordinates\":null,\"data_source\":{\"id\":\"1376\"},\"glyph\":{\"id\":\"1384\"},\"group\":null,\"hover_glyph\":null,\"view\":{\"id\":\"1378\"}},\"id\":\"1377\",\"type\":\"GlyphRenderer\"},{\"attributes\":{},\"id\":\"1364\",\"type\":\"WheelZoomTool\"},{\"attributes\":{},\"id\":\"1448\",\"type\":\"UnionRenderers\"},{\"attributes\":{},\"id\":\"1367\",\"type\":\"SaveTool\"},{\"attributes\":{\"fill_alpha\":{\"value\":0.8},\"fill_color\":{\"field\":\"color\"},\"size\":{\"field\":\"size rescaled\"}},\"id\":\"1384\",\"type\":\"Circle\"},{\"attributes\":{},\"id\":\"1449\",\"type\":\"Selection\"},{\"attributes\":{\"coordinates\":null,\"group\":null},\"id\":\"1436\",\"type\":\"Title\"},{\"attributes\":{},\"id\":\"1435\",\"type\":\"LinearScale\"},{\"attributes\":{},\"id\":\"1365\",\"type\":\"PanTool\"},{\"attributes\":{\"active_scroll\":{\"id\":\"1364\"},\"tools\":[{\"id\":\"1365\"},{\"id\":\"1363\"},{\"id\":\"1364\"},{\"id\":\"1366\"},{\"id\":\"1367\"}]},\"id\":\"1368\",\"type\":\"Toolbar\"},{\"attributes\":{},\"id\":\"1366\",\"type\":\"ResetTool\"}],\"root_ids\":[\"1360\"]},\"title\":\"Bokeh Application\",\"version\":\"2.4.3\"}};\n  const render_items = [{\"docid\":\"4b5fe0c5-54c8-420b-8a56-934d0f46e998\",\"root_ids\":[\"1360\"],\"roots\":{\"1360\":\"59cd536d-9ada-4fca-8cba-098595b07bed\"}}];\n  root.Bokeh.embed.embed_items_notebook(docs_json, render_items);\n  }\n  if (root.Bokeh !== undefined) {\n    embed_document(root);\n  } else {\n    let attempts = 0;\n    const timer = setInterval(function(root) {\n      if (root.Bokeh !== undefined) {\n        clearInterval(timer);\n        embed_document(root);\n      } else {\n        attempts++;\n        if (attempts > 100) {\n          clearInterval(timer);\n          console.log(\"Bokeh: ERROR: Unable to run BokehJS code because BokehJS library is missing\");\n        }\n      }\n    }, 10, root)\n  }\n})(window);",
      "application/vnd.bokehjs_exec.v0+json": ""
     },
     "metadata": {
      "application/vnd.bokehjs_exec.v0+json": {
       "id": "1360"
      }
     },
     "output_type": "display_data"
    }
   ],
   "source": [
    "EPS_cosine = 0.43\n",
    "\n",
    "X = nki_cleaned_df[nki_cleaned_df.columns[17:]]\n",
    "\n",
    "nki_cosine_bm = BallMapper(points = X.values,    # the pointcloud, as a numpy array\n",
    "                           epsilon = EPS_cosine, # the radius of the balls\n",
    "                           distance=cosine,      # a custom distance function\n",
    "                           dbg=True) \n",
    "nki_cosine_bm.add_coloring(coloring_df=nki_cleaned_df[['eventdeath', 'esr1']])\n",
    "\n",
    "my_red_palette = cm.get_cmap(name='Reds')\n",
    "\n",
    "cosine_gui = graph_GUI(nki_cosine_bm.Graph,\n",
    "                       my_red_palette,\n",
    "                       tooltips_variables=['eventdeath', 'esr1']\n",
    "                       )\n",
    "cosine_gui.color_by_variable('eventdeath')\n",
    "\n",
    "show(cosine_gui.plot)"
   ]
  },
  {
   "cell_type": "markdown",
   "metadata": {},
   "source": [
    "By coloring by the expression level of the estrogen receptor gene we see a good separation"
   ]
  },
  {
   "cell_type": "code",
   "execution_count": 10,
   "metadata": {},
   "outputs": [
    {
     "name": "stdout",
     "output_type": "stream",
     "text": [
      "color by variable esr1 \n",
      "MIN_VALUE: -1.334, MAX_VALUE: 0.588\n"
     ]
    },
    {
     "data": {
      "text/html": [
       "\n",
       "  <div class=\"bk-root\" id=\"dc658da0-1346-488a-8fc3-25aeba2cd1d1\" data-root-id=\"1173\"></div>\n"
      ]
     },
     "metadata": {},
     "output_type": "display_data"
    },
    {
     "data": {
      "application/javascript": "(function(root) {\n  function embed_document(root) {\n  const docs_json = {\"4653228c-46ea-4edd-9b53-3d83b8f23126\":{\"defs\":[],\"roots\":{\"references\":[{\"attributes\":{\"output_backend\":\"svg\",\"renderers\":[{\"id\":\"1187\"}],\"title\":{\"id\":\"1231\"},\"toolbar\":{\"id\":\"1181\"},\"width\":800,\"x_range\":{\"id\":\"1171\"},\"x_scale\":{\"id\":\"1229\"},\"y_range\":{\"id\":\"1172\"},\"y_scale\":{\"id\":\"1230\"}},\"id\":\"1173\",\"type\":\"Plot\"},{\"attributes\":{},\"id\":\"1179\",\"type\":\"ResetTool\"},{\"attributes\":{\"coordinates\":null,\"group\":null},\"id\":\"1231\",\"type\":\"Title\"},{\"attributes\":{\"line_alpha\":{\"value\":0.8}},\"id\":\"1202\",\"type\":\"MultiLine\"},{\"attributes\":{},\"id\":\"1178\",\"type\":\"PanTool\"},{\"attributes\":{\"fill_alpha\":{\"value\":0.8},\"fill_color\":{\"field\":\"color\"},\"size\":{\"field\":\"size rescaled\"}},\"id\":\"1197\",\"type\":\"Circle\"},{\"attributes\":{\"coordinates\":null,\"data_source\":{\"id\":\"1189\"},\"glyph\":{\"id\":\"1197\"},\"group\":null,\"hover_glyph\":null,\"view\":{\"id\":\"1191\"}},\"id\":\"1190\",\"type\":\"GlyphRenderer\"},{\"attributes\":{},\"id\":\"1241\",\"type\":\"NodesOnly\"},{\"attributes\":{},\"id\":\"1243\",\"type\":\"UnionRenderers\"},{\"attributes\":{},\"id\":\"1177\",\"type\":\"WheelZoomTool\"},{\"attributes\":{\"source\":{\"id\":\"1193\"}},\"id\":\"1195\",\"type\":\"CDSView\"},{\"attributes\":{\"graph_layout\":{\"1\":[-0.10827389282859054,-0.06619014754020493],\"10\":[-0.39884889021263936,-0.8513094721360116],\"100\":[0.6236816059376589,0.7359807450341336],\"101\":[-0.08047622580990978,-0.11941227490092343],\"102\":[-0.45905387165147693,0.882211508115059],\"103\":[0.46284144744672884,0.19670674951931313],\"104\":[-0.9235496474313756,0.35668104312023075],\"105\":[-0.14247916374452216,-0.06040913665580772],\"106\":[0.08254893706645193,0.9226784803566644],\"107\":[-0.7120580408362828,-0.06792295906248495],\"108\":[0.47204512489747863,-0.814047425271035],\"109\":[-0.49998682061340327,0.8181312092411871],\"11\":[-0.18020132661174812,-0.031257908915357936],\"110\":[0.13965515134140116,0.9466768281691308],\"111\":[0.6958856306077339,0.5833053647999432],\"112\":[-0.9741367001820281,-0.17118263485451327],\"113\":[-0.8105063962645543,-0.5315675977311767],\"114\":[0.9541391459824302,-0.10326233431854885],\"115\":[0.9311105343575854,0.17277288812469022],\"116\":[0.9265096678268686,-0.001567983980782171],\"117\":[0.7213012438009752,-0.5163598396934203],\"118\":[-0.17117034904973324,0.01395166750082316],\"119\":[-0.30554439398663547,-0.9432133816799105],\"12\":[-0.8458947839300384,-0.44228045714891917],\"120\":[0.1834227723364361,-0.928731198365186],\"121\":[0.1308148751441452,0.1285467042144689],\"122\":[0.9201953603899516,-0.24315792422523555],\"123\":[-0.8345613886434199,0.5968708593101208],\"124\":[-0.19036813733530827,0.9643209221374542],\"125\":[0.4581564113471605,0.1799169921775478],\"126\":[-0.9179761543651545,-0.2528160884527029],\"127\":[0.7634957478176284,-0.559613869817773],\"128\":[-0.9460234088369295,0.22715312887148287],\"129\":[0.915901310732373,0.28736898910436903],\"13\":[-0.2879006036899687,0.9063591970482481],\"130\":[0.08900097406202323,-0.9590665358324918],\"131\":[-0.005842957063256347,0.9823031972434338],\"132\":[-0.9764013196904833,-0.01715936953375212],\"133\":[0.7676150336311437,0.5738619805523356],\"134\":[0.5300392517434956,0.7664556163118453],\"135\":[-0.5473119818797139,-0.7742282377139986],\"136\":[-0.08232671940139627,-0.04662908549558301],\"137\":[0.4433188231326585,0.8752880525185212],\"138\":[0.5489144555510777,0.689357528095409],\"139\":[0.7959343907991172,0.4927135580730809],\"14\":[-0.09038501533841685,-0.08977616064247361],\"140\":[-0.06993689056305862,-0.09831946213250578],\"141\":[0.8703611715537085,-0.3821751556931995],\"142\":[-0.08424410822211262,-0.9639314173450221],\"143\":[0.03919105737011731,-0.9741768863316682],\"144\":[-0.07400271418201833,0.8810588846908431],\"145\":[-0.8454987693930712,0.43911715505910687],\"146\":[-0.7748010517168396,-0.6724877852306909],\"147\":[0.8901807133858685,-0.28607599831659225],\"148\":[-0.979396526809106,0.04032785621488113],\"149\":[0.15745412305128728,0.1309269460692266],\"15\":[-0.0937659911415811,-0.10191382358426783],\"150\":[0.13790255271278484,0.098939919242714],\"151\":[0.45468099916082866,0.18839869063618983],\"152\":[-0.16215662028670752,0.9054120327505787],\"153\":[0.22480901216072394,0.9565195506678471],\"154\":[0.2238761259656781,-0.8760018743940812],\"155\":[0.5797177786529184,-0.7463446507639637],\"156\":[-0.06794521007268524,-0.07245102892144958],\"157\":[-0.7468413601310958,0.7055028368953232],\"158\":[0.673165715409962,0.6666981884943046],\"159\":[-0.13040106215508906,-0.9455769812697729],\"16\":[0.13345483130951738,-0.941148526934606],\"160\":[-0.17257274693765537,-0.031181691474144155],\"161\":[-0.028933533192675207,0.9329841633522115],\"162\":[0.3516003827865797,-0.8582695369493969],\"163\":[0.900972928467487,0.35060941378596755],\"164\":[0.31427247001980363,0.8519387328151216],\"165\":[0.14355053993331998,0.053856997436969554],\"166\":[-0.41285567479670393,0.8612938287857642],\"167\":[-0.8994440420034406,-0.48096606530656383],\"168\":[-0.7127017455494986,-0.7328059806820101],\"169\":[0.853222593852666,0.4160116901260875],\"17\":[-0.1828136935776784,-0.05305873953513883],\"170\":[-0.029275961563783138,-0.9642375775261461],\"171\":[-0.7220242680947546,-0.5524948924540934],\"172\":[-0.052421555107155196,-0.0842830479875381],\"173\":[-0.11557344537771998,-0.1012704167417072],\"174\":[0.14713057732582724,0.03929065044339358],\"175\":[-0.7542465661480964,0.5616942376033456],\"176\":[-0.1047261396981962,0.9546953878506379],\"177\":[0.2902391746374755,-0.905747392748567],\"178\":[-0.9515782188020142,0.2883645435581757],\"179\":[-0.9944062918426034,0.10107334220766216],\"18\":[0.8175626848835208,0.5360890336293932],\"180\":[0.949218316034861,0.09423938976040164],\"181\":[-0.35439257634653726,0.861639782331887],\"182\":[-0.5281140551895969,0.7461945593902941],\"183\":[0.9405838651703207,-0.1654588026832763],\"184\":[0.6896801259328361,0.7105377666623016],\"185\":[-0.6255503825326896,-0.7795205937939735],\"186\":[-0.5825199797261876,-0.8320248123796297],\"187\":[-0.9014038157907602,0.4140918053133291],\"188\":[-0.9464298843079744,-0.30896141144582506],\"189\":[0.48838864538071564,-0.8582837978057117],\"19\":[0.15575957290641804,0.03872048334449399],\"190\":[0.6391821122195078,-0.6942161598554614],\"191\":[-0.8331290688531402,0.5304996774500579],\"192\":[0.17040941269452156,0.05863497176970185],\"193\":[0.3794458847209708,0.8746488875554544],\"2\":[0.8477397099854925,0.3602116173603604],\"20\":[0.82440055737383,-0.3823792763869905],\"21\":[-0.9739940064868101,-0.11385355561722747],\"22\":[0.137133108491834,0.113294962158899],\"23\":[0.4704762766633507,0.18102719811192028],\"24\":[-0.8885228895514299,0.3023882867882848],\"25\":[0.14022282620395093,0.13824819447796627],\"26\":[0.856673529992513,0.46212787079737516],\"27\":[0.5852291328294928,0.7942034115105753],\"28\":[-0.16755514056841453,-0.018403612779134406],\"29\":[-0.14051575574665012,-0.09541038000573833],\"3\":[-0.7837960043093811,-0.6131478761295],\"30\":[-0.9717970379543075,-0.23298601491364027],\"31\":[0.12338829064008663,0.10780876795561009],\"32\":[0.8122442040967885,-0.4710360552822295],\"33\":[-0.9438851521456142,0.12531960796775596],\"34\":[-0.6834648407603775,0.7182219652138213],\"35\":[-0.5504853794419237,0.8574399344660832],\"36\":[0.4157995210875674,-0.8582119913032863],\"37\":[-0.158778707816571,-0.010118772070678033],\"38\":[0.44478049523606744,0.8265473131192533],\"39\":[0.35637522354300427,-0.9059887290293828],\"4\":[-0.8835586079055706,0.49400457063486186],\"40\":[-0.17799585230286588,-0.9510896529760486],\"41\":[0.12929482575256418,0.09619359508748063],\"42\":[-0.2282318184204005,-0.9529910896704231],\"43\":[-0.6899206504919476,-0.6565088783768199],\"44\":[-0.07266795563153665,-0.11728829229957079],\"45\":[0.9422109374693479,-0.048300144464576776],\"46\":[-0.13862649279633468,-0.015315249614477293],\"47\":[0.9132851617299356,0.12433939289915161],\"48\":[0.89926898843345,-0.1980672752833984],\"49\":[0.47958404636321794,-0.7411956321545722],\"5\":[0.18538008920053145,0.9115615640143702],\"50\":[-0.8536218490498945,-0.5562509938670451],\"51\":[-0.10749319748061414,-0.09488303483045488],\"52\":[0.1400432778145187,0.0796177289849126],\"53\":[0.7408956879457882,-0.6114366074845055],\"54\":[0.18288997551799976,0.039323086488057275],\"55\":[-0.5199720792534873,-0.8461433629942542],\"56\":[-0.6512175403573994,-0.7275135762750155],\"57\":[0.7396149139764293,0.6334514755010919],\"58\":[0.05967347753611101,0.9595198529644984],\"59\":[0.5425313322006502,-0.7899278887955302],\"6\":[-0.6419940272208754,0.8003861436905765],\"60\":[0.9435694469299422,0.04261154640644779],\"61\":[0.32665460505371624,0.9169380036836451],\"62\":[-0.46816991421248266,-0.8598436142361893],\"63\":[0.15876444525974445,0.05231270243486457],\"64\":[0.5093147214659024,0.8243337887221108],\"65\":[-1.0,-0.05742191788484246],\"66\":[-0.2668804087562771,-0.9116795051664937],\"67\":[-0.9085709867287173,-0.38044594995823233],\"68\":[0.9005316137997772,-0.33227349599839506],\"69\":[-0.232416651325779,0.9044652861745518],\"7\":[-0.06501584517423606,-0.08813420592370944],\"70\":[-0.3328907545000574,0.9314278758261103],\"71\":[0.8138730608421083,-0.5274982045962815],\"72\":[-0.004472983985116503,-0.9278094483850522],\"73\":[-0.41606473551042955,-0.9009388777686048],\"74\":[0.8861844500947789,-0.10638705618358621],\"75\":[-0.923343383680246,-0.38624036390090805],\"76\":[0.7000570025860203,-0.6621762830702993],\"77\":[-0.12060863371990528,-0.0754107901634299],\"78\":[0.8651477525317572,-0.4469369390409517],\"79\":[0.26070677958705984,0.9054452734616404],\"8\":[0.12161114005323735,0.12503445216866174],\"80\":[-0.6037279664083037,0.755875413803586],\"81\":[-0.6668254564927553,0.6589215148433178],\"82\":[0.8608537230989161,0.25660143462856827],\"83\":[-0.7748279341595624,0.6396332673277939],\"84\":[-0.1909971986801549,-0.0029392103310949534],\"85\":[-0.9809418512682672,0.1816352308656211],\"86\":[0.2379071757304782,-0.949866956473985],\"87\":[0.10323308202316624,0.1229919743988864],\"88\":[-0.05227244150553588,-0.09212039630793235],\"89\":[0.6647791384194517,-0.6295534348321227],\"9\":[0.15122396627568105,0.05559354927226293],\"90\":[0.636839718894664,-0.7444899762976976],\"91\":[-0.352106304565298,-0.908842450429005],\"92\":[0.15490202809659784,0.06541309119438268],\"93\":[-0.11311619953588072,-0.057951664498093754],\"94\":[-0.09607191603480775,-0.05683888852563082],\"95\":[-0.10613942639616807,-0.03083053565640565],\"96\":[-0.7275904660875853,-0.06894531974962942],\"97\":[0.9228987758575741,0.22517731512712172],\"98\":[-0.1561511802098611,-0.04377396466374301],\"99\":[-0.14804971619879806,-0.06692894916352962]}},\"id\":\"1196\",\"type\":\"StaticLayoutProvider\"},{\"attributes\":{},\"id\":\"1244\",\"type\":\"Selection\"},{\"attributes\":{},\"id\":\"1230\",\"type\":\"LinearScale\"},{\"attributes\":{\"start\":-1},\"id\":\"1172\",\"type\":\"Range1d\"},{\"attributes\":{\"active_scroll\":{\"id\":\"1177\"},\"tools\":[{\"id\":\"1178\"},{\"id\":\"1176\"},{\"id\":\"1177\"},{\"id\":\"1179\"},{\"id\":\"1180\"}]},\"id\":\"1181\",\"type\":\"Toolbar\"},{\"attributes\":{},\"id\":\"1180\",\"type\":\"SaveTool\"},{\"attributes\":{\"data\":{\"color\":[\"#f14130\",\"#980c13\",\"#af1117\",\"#e53228\",\"#c9181d\",\"#b01217\",\"#e02c26\",\"#fee3d7\",\"#ffeee6\",\"#f03d2d\",\"#e12d26\",\"#f0402f\",\"#fc9b7c\",\"#ef3c2c\",\"#f34a36\",\"#e22e27\",\"#bf151b\",\"#fb6c4c\",\"#fee9df\",\"#f14130\",\"#da2723\",\"#ffece3\",\"#820711\",\"#fcc1a8\",\"#fcbda4\",\"#f6563d\",\"#fdd3c1\",\"#b61319\",\"#c9181d\",\"#a30f15\",\"#fff2eb\",\"#da2723\",\"#f03d2d\",\"#e02c26\",\"#db2824\",\"#c3161b\",\"#a81016\",\"#fa6547\",\"#ef3c2c\",\"#d82422\",\"#fee1d3\",\"#f6563d\",\"#8c0912\",\"#c7171c\",\"#fc8d6d\",\"#a60f15\",\"#fc9879\",\"#be151a\",\"#af1117\",\"#cf1c1f\",\"#f75c41\",\"#feeae0\",\"#cf1c1f\",\"#fff0e9\",\"#f75c41\",\"#fc8f6f\",\"#ad1117\",\"#f14432\",\"#bb141a\",\"#840711\",\"#ec382b\",\"#e32f27\",\"#ffede5\",\"#f0402f\",\"#fa6849\",\"#eb372a\",\"#b61319\",\"#d42121\",\"#fcc2aa\",\"#c4161c\",\"#e53228\",\"#e22e27\",\"#da2723\",\"#ffede5\",\"#d42121\",\"#f96346\",\"#f03f2e\",\"#dd2a25\",\"#ea362a\",\"#fb7a5a\",\"#fb7252\",\"#fb6b4b\",\"#cf1c1f\",\"#b01217\",\"#f14331\",\"#e02c26\",\"#fcbea5\",\"#b11218\",\"#e12d26\",\"#a60f15\",\"#a60f15\",\"#fff4ee\",\"#e02c26\",\"#bb141a\",\"#c4161c\",\"#c8171c\",\"#d32020\",\"#cc191e\",\"#f96346\",\"#fb7151\",\"#d21f20\",\"#f5533b\",\"#fb694a\",\"#ec382b\",\"#f03f2e\",\"#f24633\",\"#d42121\",\"#e93529\",\"#c2161b\",\"#ca181d\",\"#b51318\",\"#fc7f5f\",\"#f44d38\",\"#bf151b\",\"#b81419\",\"#f6553c\",\"#d52221\",\"#b31218\",\"#d21f20\",\"#b71319\",\"#fff4ef\",\"#cf1c1f\",\"#ea362a\",\"#77040f\",\"#c3161b\",\"#fdd7c6\",\"#bf151b\",\"#f34c37\",\"#f14130\",\"#bf151b\",\"#e83429\",\"#e32f27\",\"#b81419\",\"#eb372a\",\"#9d0d14\",\"#ab1016\",\"#fc8d6d\",\"#a30f15\",\"#fcbda4\",\"#d92523\",\"#be151a\",\"#fc8262\",\"#f14130\",\"#fff5f0\",\"#900a12\",\"#f96346\",\"#f96346\",\"#b71319\",\"#fc9777\",\"#ffeee6\",\"#db2824\",\"#e12d26\",\"#980c13\",\"#bb141a\",\"#f75b40\",\"#b31218\",\"#f6563d\",\"#c5171c\",\"#7c0510\",\"#eb372a\",\"#ffece4\",\"#67000d\",\"#fdc6b0\",\"#d42121\",\"#fee5d9\",\"#c5171c\",\"#c5171c\",\"#fb6d4d\",\"#fcb69b\",\"#ef3c2c\",\"#c9181d\",\"#c2161b\",\"#fca285\",\"#fdccb8\",\"#f14432\",\"#f75b40\",\"#f14130\",\"#d21f20\",\"#e02c26\",\"#ef3c2c\",\"#d72322\",\"#fc9c7d\",\"#cb181d\",\"#c4161c\",\"#ce1a1e\",\"#bc141a\",\"#d42121\",\"#e22e27\",\"#f34935\",\"#d21f20\",\"#fc9576\",\"#ffede5\",\"#fedbcc\"],\"esr1\":[-0.16651400000000002,0.395714,0.2826435,-0.066771,0.121859,0.27341,-0.030847666666666662,-1.13086,-1.247684227272727,-0.142526,-0.037416666666666674,-0.162349,-0.661729,-0.13544266666666668,-0.21510020000000002,-0.048179,0.176033,-0.3873,-1.196523,-0.164632,0.008423,-1.2279322,0.4805865,-0.885781,-0.863345,-0.268419,-1.007845,0.242485,0.1203245,0.352512,-1.2902685,0.006759,-0.147207,-0.03285250000000001,0.0014274999999999982,0.154528,0.32804940000000005,-0.3485925,-0.13603,0.022536,-1.09512,-0.270681,0.438809,0.13105250000000002,-0.582938,0.33570775,-0.648426,0.188991,0.2808353333333333,0.080359,-0.29935233333333333,-1.1999465,0.081947,-1.2777305,-0.300751,-0.597746,0.2949775,-0.18202333333333334,0.209422,0.473494,-0.11351950000000001,-0.051943,-1.2419793181818182,-0.162281,-0.361686,-0.105017,0.2351465,0.043225,-0.891372,0.151557,-0.070873,-0.043293,0.005666,-1.23731,0.046482499999999996,-0.341476,-0.14805844444444444,-0.018613,-0.095563,-0.463737,-0.424719,-0.37353,0.081441,0.2792,-0.170719,-0.028608,-0.8693705,0.2713675,-0.040568,0.338275,0.335091,-1.3175853333333334,-0.03324233333333333,0.20694239999999997,0.14884233333333333,0.123614,0.051452,0.0986345,-0.3402779999999999,-0.417041,0.06036975000000001,-0.255982,-0.372043,-0.110902,-0.149181,-0.185495,0.040646,-0.089822,0.1624735,0.109356,0.247885,-0.494486,-0.228539,0.178182,0.226397,-0.263174,0.033616,0.25305900000000003,0.061767,0.228925,-1.3246836666666668,0.083247,-0.099091,0.522648,0.15379,-1.030526,0.175113,-0.220652,-0.167348,0.178846,-0.084927,-0.05216,0.226498,-0.102944,0.37663,0.30493033333333336,-0.57949,0.351714,-0.867899,0.0112886,0.187085,-0.517116,-0.168443,-1.334223,0.428746,-0.341585,-0.342984,0.232049,-0.641003,-1.2486695,-0.0006910000000000041,-0.036138,0.395972,0.207192,-0.294233,0.2513493333333333,-0.274458,0.13999,0.501602,-0.1074415,-1.233425,0.587983,-0.921313,0.044451500000000005,-1.15146225,0.142405,0.138597,-0.388893,-0.821286,-0.136145,0.114946,0.1650525,-0.706763,-0.9633039999999999,-0.180312,-0.295729,-0.16347,0.059033,-0.034661,-0.132915,0.028529,-0.668578,0.103277,0.151225,0.088049,0.203644,0.040157,-0.049818,-0.204023,0.062265,-0.635322,-1.2398023333333332,-1.063121],\"eventdeath\":[0.0,0.0,0.0,0.0,0.0,0.0,0.0,0.5,0.5454545454545454,0.5,0.0,1.0,1.0,0.0,0.2,0.0,0.0,0.0,0.5,0.0,1.0,0.8,0.5,0.0,0.5,0.0,1.0,0.0,0.5,0.0,1.0,1.0,1.0,0.5,0.5,1.0,0.0,0.5,0.0,0.0,0.5,1.0,0.0,0.5,0.0,0.0,0.0,0.0,0.6666666666666666,0.0,0.0,0.5,0.0,0.0,0.0,0.0,0.0,0.0,0.0,0.0,0.0,0.0,0.5909090909090909,1.0,0.0,0.0,0.0,0.0,1.0,0.0,0.0,0.0,0.0,0.0,0.0,0.0,0.0,0.0,1.0,0.0,1.0,0.0,0.0,0.0,1.0,0.0,0.5,0.0,0.0,0.0,0.0,0.6666666666666666,0.0,0.0,0.0,0.0,1.0,0.0,0.3333333333333333,0.0,0.0,0.0,0.0,0.0,0.0,1.0,0.0,0.0,0.0,1.0,1.0,1.0,0.0,0.0,0.0,0.0,0.0,0.0,0.0,1.0,0.3333333333333333,0.0,0.0,0.0,0.6666666666666666,1.0,0.0,0.0,0.0,0.0,0.0,0.0,0.0,0.0,0.0,0.0,0.0,0.0,0.0,0.0,0.0,1.0,0.0,1.0,1.0,1.0,0.0,1.0,0.5,1.0,0.3333333333333333,0.0,1.0,0.0,1.0,0.0,0.0,0.0,0.0,0.0,0.0,1.0,0.0,0.0,0.25,0.0,1.0,1.0,1.0,0.0,0.0,0.0,0.0,0.3333333333333333,0.0,0.0,0.0,0.0,0.0,0.0,0.0,0.0,0.0,0.0,0.0,1.0,1.0,1.0,1.0,1.0,1.0,1.0,1.0],\"index\":[1,2,3,4,5,6,7,8,9,10,11,12,13,14,15,16,17,18,19,20,21,22,23,24,25,26,27,28,29,30,31,32,33,34,35,36,37,38,39,40,41,42,43,44,45,46,47,48,49,50,51,52,53,54,55,56,57,58,59,60,61,62,63,64,65,66,67,68,69,70,71,72,73,74,75,76,77,78,79,80,81,82,83,84,85,86,87,88,89,90,91,92,93,94,95,96,97,98,99,100,101,102,103,104,105,106,107,108,109,110,111,112,113,114,115,116,117,118,119,120,121,122,123,124,125,126,127,128,129,130,131,132,133,134,135,136,137,138,139,140,141,142,143,144,145,146,147,148,149,150,151,152,153,154,155,156,157,158,159,160,161,162,163,164,165,166,167,168,169,170,171,172,173,174,175,176,177,178,179,180,181,182,183,184,185,186,187,188,189,190,191,192,193],\"landmark\":[0,1,3,4,5,6,7,8,9,10,11,12,14,15,16,17,18,20,21,22,23,24,25,26,27,28,29,30,31,33,34,35,37,38,39,41,44,46,47,50,51,52,55,57,59,60,61,62,64,65,66,67,68,69,70,71,72,75,76,77,78,79,81,82,89,91,95,97,98,100,101,103,104,105,106,107,108,110,111,112,114,115,116,117,118,119,122,126,127,128,129,130,132,133,134,136,137,139,140,141,142,144,146,147,148,149,150,153,156,158,163,164,165,166,167,169,171,172,173,175,177,178,181,183,184,185,186,193,194,195,196,197,200,201,202,203,204,205,206,207,208,209,210,211,212,213,214,215,216,217,221,222,223,225,226,227,229,230,231,232,233,234,235,236,237,239,241,242,243,244,245,247,248,249,250,251,252,253,254,255,256,257,258,259,260,262,263,265,266,268,269,270,271],\"points covered\":[[0,36,180],[1,2],[3,45],[4],[5],[6],[7,63,96],[8,19],[9,13,40,48,49,56,58,84,90,92,120,123,124,125,154,157,168,170,174,179,240,261],[10,264],[11,88,145],[12],[14],[15,54,96],[16,54,87,151,198],[17],[18,83],[20],[13,21,56,90,123,125,174,240],[22],[23],[19,24,53,94,113],[25,42],[26],[27,53],[28],[29],[30,43,88,138,145,190,191,228],[31,32],[33],[19,34,85,94],[35],[37],[38,86],[39,93],[41],[44,143,190,191,192],[46,155],[47],[50],[51,94],[52],[55],[57,198],[59],[43,60,187,192],[61],[62],[64,161,219],[65],[54,66,87],[67,74,94,120,154,170],[68],[69,188],[70],[71],[72,73],[75,109,121],[76],[77],[78,80],[79],[13,40,56,58,74,81,84,90,92,99,102,123,125,154,170,174,176,182,188,240,261,267],[82],[89],[91],[95,152],[97],[98],[100],[101],[103],[104],[105],[106,152],[107],[32,36,54,87,108,131,159,160,180],[110],[111],[112],[114],[115],[116],[117,228],[118],[119],[85,122],[63,126],[127],[128],[129],[48,58,92,130,170,182],[36,132,180],[133,135,180,199,246],[134,187,199],[136,224],[137],[83,88,139,145,160,190],[140,159,160],[141],[142,151,162,198],[144],[146,218],[147],[148,160],[149],[150,224],[153],[156,220],[158],[163],[164],[165],[166],[167],[169],[171],[143,172,189],[173],[175],[19,53,177],[178],[181],[183],[42,184,218],[185],[186],[193],[194],[195],[196],[197],[200],[201],[202],[135,199,203],[204],[205],[206],[63,96,151,198,207],[208],[209],[210],[211],[212],[213],[214],[215],[113,216],[94,217],[42,218,221],[222],[223],[225],[226],[63,135,227],[229],[230],[231],[145,232],[233],[234],[235],[236,238],[13,154,170,237],[239],[241],[242],[243],[244],[245],[63,247],[87,248],[13,49,249],[250],[251],[252],[253],[254],[255],[256],[257],[258],[259],[260],[262],[263],[265],[266],[268],[269],[92,99,270],[271]],\"size\":[3,2,2,1,1,1,3,2,22,2,3,1,1,3,5,1,2,1,8,1,1,5,2,1,2,1,1,8,2,1,4,1,1,2,2,1,5,2,1,1,2,1,1,2,1,4,1,1,3,1,3,6,1,2,1,1,2,3,1,1,2,1,22,1,1,1,2,1,1,1,1,1,1,1,2,1,9,1,1,1,1,1,1,2,1,1,2,2,1,1,1,6,3,5,3,2,1,6,3,1,4,1,2,1,2,1,2,1,2,1,1,1,1,1,1,1,1,3,1,1,3,1,1,1,3,1,1,1,1,1,1,1,1,1,1,3,1,1,1,5,1,1,1,1,1,1,1,1,2,2,3,1,1,1,1,3,1,1,1,2,1,1,1,2,4,1,1,1,1,1,1,2,2,3,1,1,1,1,1,1,1,1,1,1,1,1,1,1,1,1,1,3,1],\"size rescaled\":[9.727272727272727,8.818181818181818,8.818181818181818,7.909090909090909,7.909090909090909,7.909090909090909,9.727272727272727,8.818181818181818,27.0,8.818181818181818,9.727272727272727,7.909090909090909,7.909090909090909,9.727272727272727,11.545454545454547,7.909090909090909,8.818181818181818,7.909090909090909,14.272727272727273,7.909090909090909,7.909090909090909,11.545454545454547,8.818181818181818,7.909090909090909,8.818181818181818,7.909090909090909,7.909090909090909,14.272727272727273,8.818181818181818,7.909090909090909,10.636363636363637,7.909090909090909,7.909090909090909,8.818181818181818,8.818181818181818,7.909090909090909,11.545454545454547,8.818181818181818,7.909090909090909,7.909090909090909,8.818181818181818,7.909090909090909,7.909090909090909,8.818181818181818,7.909090909090909,10.636363636363637,7.909090909090909,7.909090909090909,9.727272727272727,7.909090909090909,9.727272727272727,12.454545454545453,7.909090909090909,8.818181818181818,7.909090909090909,7.909090909090909,8.818181818181818,9.727272727272727,7.909090909090909,7.909090909090909,8.818181818181818,7.909090909090909,27.0,7.909090909090909,7.909090909090909,7.909090909090909,8.818181818181818,7.909090909090909,7.909090909090909,7.909090909090909,7.909090909090909,7.909090909090909,7.909090909090909,7.909090909090909,8.818181818181818,7.909090909090909,15.181818181818182,7.909090909090909,7.909090909090909,7.909090909090909,7.909090909090909,7.909090909090909,7.909090909090909,8.818181818181818,7.909090909090909,7.909090909090909,8.818181818181818,8.818181818181818,7.909090909090909,7.909090909090909,7.909090909090909,12.454545454545453,9.727272727272727,11.545454545454547,9.727272727272727,8.818181818181818,7.909090909090909,12.454545454545453,9.727272727272727,7.909090909090909,10.636363636363637,7.909090909090909,8.818181818181818,7.909090909090909,8.818181818181818,7.909090909090909,8.818181818181818,7.909090909090909,8.818181818181818,7.909090909090909,7.909090909090909,7.909090909090909,7.909090909090909,7.909090909090909,7.909090909090909,7.909090909090909,7.909090909090909,9.727272727272727,7.909090909090909,7.909090909090909,9.727272727272727,7.909090909090909,7.909090909090909,7.909090909090909,9.727272727272727,7.909090909090909,7.909090909090909,7.909090909090909,7.909090909090909,7.909090909090909,7.909090909090909,7.909090909090909,7.909090909090909,7.909090909090909,7.909090909090909,9.727272727272727,7.909090909090909,7.909090909090909,7.909090909090909,11.545454545454547,7.909090909090909,7.909090909090909,7.909090909090909,7.909090909090909,7.909090909090909,7.909090909090909,7.909090909090909,7.909090909090909,8.818181818181818,8.818181818181818,9.727272727272727,7.909090909090909,7.909090909090909,7.909090909090909,7.909090909090909,9.727272727272727,7.909090909090909,7.909090909090909,7.909090909090909,8.818181818181818,7.909090909090909,7.909090909090909,7.909090909090909,8.818181818181818,10.636363636363637,7.909090909090909,7.909090909090909,7.909090909090909,7.909090909090909,7.909090909090909,7.909090909090909,8.818181818181818,8.818181818181818,9.727272727272727,7.909090909090909,7.909090909090909,7.909090909090909,7.909090909090909,7.909090909090909,7.909090909090909,7.909090909090909,7.909090909090909,7.909090909090909,7.909090909090909,7.909090909090909,7.909090909090909,7.909090909090909,7.909090909090909,7.909090909090909,7.909090909090909,7.909090909090909,9.727272727272727,7.909090909090909]},\"selected\":{\"id\":\"1244\"},\"selection_policy\":{\"id\":\"1243\"}},\"id\":\"1189\",\"type\":\"ColumnDataSource\"},{\"attributes\":{\"coordinates\":null,\"data_source\":{\"id\":\"1193\"},\"glyph\":{\"id\":\"1202\"},\"group\":null,\"hover_glyph\":null,\"view\":{\"id\":\"1195\"}},\"id\":\"1194\",\"type\":\"GlyphRenderer\"},{\"attributes\":{},\"id\":\"1242\",\"type\":\"NodesOnly\"},{\"attributes\":{\"source\":{\"id\":\"1189\"}},\"id\":\"1191\",\"type\":\"CDSView\"},{\"attributes\":{\"start\":-1},\"id\":\"1171\",\"type\":\"Range1d\"},{\"attributes\":{},\"id\":\"1245\",\"type\":\"UnionRenderers\"},{\"attributes\":{},\"id\":\"1229\",\"type\":\"LinearScale\"},{\"attributes\":{\"data\":{\"end\":[77,93,94,14,88,140,156,172,22,31,121,19,52,63,92,165,174,192,28,98,160,15,51,77,140,44,51,77,101,140,173,98,63,165,174,25,31,41,52,121,149,150,125,151,121,37,46,84,98,160,77,41,52,87,121,150,46,98,118,52,150,101,140,95,77,173,63,92,150,165,63,92,165,174,192,75,93,94,98,99,105,173,140,156,172,165,192,94,95,136,156,136,107,99,105,160,105,140,125,151,151,156,156,172,172,174],\"start\":[1,1,1,7,7,7,7,7,8,8,8,9,9,9,9,9,9,9,11,11,11,14,14,14,14,15,15,15,15,15,15,17,19,19,19,22,22,22,22,22,22,22,23,23,25,28,28,28,28,28,29,31,31,31,31,31,37,37,37,41,41,44,44,46,51,51,52,52,52,52,54,63,63,63,63,67,77,77,77,77,77,77,88,88,88,92,92,93,94,94,94,95,96,98,98,98,99,101,103,103,125,136,140,140,156,165]},\"selected\":{\"id\":\"1246\"},\"selection_policy\":{\"id\":\"1245\"}},\"id\":\"1193\",\"type\":\"ColumnDataSource\"},{\"attributes\":{},\"id\":\"1246\",\"type\":\"Selection\"},{\"attributes\":{\"coordinates\":null,\"edge_renderer\":{\"id\":\"1194\"},\"group\":null,\"inspection_policy\":{\"id\":\"1242\"},\"layout_provider\":{\"id\":\"1196\"},\"node_renderer\":{\"id\":\"1190\"},\"selection_policy\":{\"id\":\"1241\"}},\"id\":\"1187\",\"type\":\"GraphRenderer\"},{\"attributes\":{\"callback\":null,\"tooltips\":[[\"index\",\"@index\"],[\"size\",\"@size\"],[\"eventdeath\",\"@eventdeath\"],[\"esr1\",\"@esr1\"]]},\"id\":\"1176\",\"type\":\"HoverTool\"}],\"root_ids\":[\"1173\"]},\"title\":\"Bokeh Application\",\"version\":\"2.4.3\"}};\n  const render_items = [{\"docid\":\"4653228c-46ea-4edd-9b53-3d83b8f23126\",\"root_ids\":[\"1173\"],\"roots\":{\"1173\":\"dc658da0-1346-488a-8fc3-25aeba2cd1d1\"}}];\n  root.Bokeh.embed.embed_items_notebook(docs_json, render_items);\n  }\n  if (root.Bokeh !== undefined) {\n    embed_document(root);\n  } else {\n    let attempts = 0;\n    const timer = setInterval(function(root) {\n      if (root.Bokeh !== undefined) {\n        clearInterval(timer);\n        embed_document(root);\n      } else {\n        attempts++;\n        if (attempts > 100) {\n          clearInterval(timer);\n          console.log(\"Bokeh: ERROR: Unable to run BokehJS code because BokehJS library is missing\");\n        }\n      }\n    }, 10, root)\n  }\n})(window);",
      "application/vnd.bokehjs_exec.v0+json": ""
     },
     "metadata": {
      "application/vnd.bokehjs_exec.v0+json": {
       "id": "1173"
      }
     },
     "output_type": "display_data"
    }
   ],
   "source": [
    "cosine_gui.color_by_variable('esr1')\n",
    "\n",
    "show(cosine_gui.plot)"
   ]
  },
  {
   "cell_type": "markdown",
   "metadata": {},
   "source": [
    "## distance correlation"
   ]
  },
  {
   "cell_type": "code",
   "execution_count": 11,
   "metadata": {},
   "outputs": [],
   "source": [
    "from scipy.spatial.distance import correlation"
   ]
  },
  {
   "cell_type": "code",
   "execution_count": 12,
   "metadata": {},
   "outputs": [
    {
     "name": "stdout",
     "output_type": "stream",
     "text": [
      "using custom distance <function correlation at 0x1688339a0>\n",
      "Finding vertices...\n"
     ]
    },
    {
     "data": {
      "application/vnd.jupyter.widget-view+json": {
       "model_id": "f5e6905cf0d34120aab68b42c0fff281",
       "version_major": 2,
       "version_minor": 0
      },
      "text/plain": [
       "  0%|          | 0/272 [00:00<?, ?it/s]"
      ]
     },
     "metadata": {},
     "output_type": "display_data"
    },
    {
     "name": "stdout",
     "output_type": "stream",
     "text": [
      "Computing points_covered_by_landmarks...\n"
     ]
    },
    {
     "data": {
      "application/vnd.jupyter.widget-view+json": {
       "model_id": "726d1385999c4b4ead01a13adbf42104",
       "version_major": 2,
       "version_minor": 0
      },
      "text/plain": [
       "  0%|          | 0/185 [00:00<?, ?it/s]"
      ]
     },
     "metadata": {},
     "output_type": "display_data"
    },
    {
     "name": "stdout",
     "output_type": "stream",
     "text": [
      "Finding edges...\n"
     ]
    },
    {
     "data": {
      "application/vnd.jupyter.widget-view+json": {
       "model_id": "8196951eac90449a87f326a205acc16f",
       "version_major": 2,
       "version_minor": 0
      },
      "text/plain": [
       "0it [00:00, ?it/s]"
      ]
     },
     "metadata": {},
     "output_type": "display_data"
    },
    {
     "name": "stdout",
     "output_type": "stream",
     "text": [
      "Creating Ball Mapper graph...\n",
      "Done\n",
      "color by variable eventdeath \n",
      "MIN_VALUE: 0.000, MAX_VALUE: 1.000\n"
     ]
    },
    {
     "data": {
      "text/html": [
       "\n",
       "  <div class=\"bk-root\" id=\"10a326d0-3ab2-4547-a8cf-3f561eaa684c\" data-root-id=\"1473\"></div>\n"
      ]
     },
     "metadata": {},
     "output_type": "display_data"
    },
    {
     "data": {
      "application/javascript": "(function(root) {\n  function embed_document(root) {\n  const docs_json = {\"f57b981c-3e5f-4967-b720-678f046403f1\":{\"defs\":[],\"roots\":{\"references\":[{\"attributes\":{\"output_backend\":\"svg\",\"renderers\":[{\"id\":\"1487\"}],\"title\":{\"id\":\"1549\"},\"toolbar\":{\"id\":\"1481\"},\"width\":800,\"x_range\":{\"id\":\"1471\"},\"x_scale\":{\"id\":\"1547\"},\"y_range\":{\"id\":\"1472\"},\"y_scale\":{\"id\":\"1548\"}},\"id\":\"1473\",\"type\":\"Plot\"},{\"attributes\":{},\"id\":\"1560\",\"type\":\"NodesOnly\"},{\"attributes\":{},\"id\":\"1548\",\"type\":\"LinearScale\"},{\"attributes\":{\"data\":{\"end\":[76,90,161,49,86,14,15,51,76,86,132,162,22,30,46,150,19,39,114,152,154,164,181,184,17,27,28,36,76,149,15,50,51,76,132,44,50,51,52,76,121,132,163,27,36,128,149,39,114,154,164,184,30,41,46,114,140,141,150,185,103,118,142,29,36,44,83,128,149,76,41,46,85,114,141,150,185,149,52,114,141,152,154,164,181,184,51,55,69,86,128,132,161,171,114,141,185,51,121,132,149,150,84,103,52,76,163,55,76,86,104,121,128,132,161,162,171,76,114,141,163,184,128,132,161,171,74,121,86,126,128,161,162,84,90,92,97,132,161,163,92,97,103,132,161,162,161,99,121,97,118,121,118,142,141,152,154,164,181,184,185,142,132,128,132,161,162,171,161,162,171,184,185,181,164,171,184],\"start\":[1,1,1,2,2,7,7,7,7,7,7,7,8,8,8,8,9,9,9,9,9,9,9,9,11,11,11,11,11,11,14,14,14,14,14,15,15,15,15,15,15,15,15,17,17,17,17,19,19,19,19,19,22,22,22,22,22,22,22,22,23,23,23,27,27,27,27,27,27,28,30,30,30,30,30,30,30,36,39,39,39,39,39,39,39,39,40,40,40,40,40,40,40,40,41,41,41,44,44,44,44,46,48,48,50,50,50,51,51,51,51,51,51,51,51,51,51,52,52,52,52,52,55,55,55,55,66,66,69,69,69,69,69,76,76,76,76,76,76,76,84,84,84,86,86,86,90,91,91,92,95,99,103,103,114,114,114,114,114,114,114,118,121,126,128,128,128,128,132,132,132,141,141,152,154,161,181]},\"selected\":{\"id\":\"1564\"},\"selection_policy\":{\"id\":\"1563\"}},\"id\":\"1493\",\"type\":\"ColumnDataSource\"},{\"attributes\":{\"data\":{\"color\":[\"#fff5f0\",\"#fff5f0\",\"#fff5f0\",\"#fff5f0\",\"#fff5f0\",\"#fff5f0\",\"#fff5f0\",\"#fb694a\",\"#f6583e\",\"#fff5f0\",\"#fff5f0\",\"#67000d\",\"#67000d\",\"#fff5f0\",\"#fcc4ad\",\"#fff5f0\",\"#fff5f0\",\"#fff5f0\",\"#fb694a\",\"#fff5f0\",\"#67000d\",\"#bc141a\",\"#fb694a\",\"#fff5f0\",\"#67000d\",\"#fff5f0\",\"#fff5f0\",\"#fb694a\",\"#fff5f0\",\"#bc141a\",\"#67000d\",\"#67000d\",\"#fff5f0\",\"#fff5f0\",\"#67000d\",\"#fff5f0\",\"#fb694a\",\"#fff5f0\",\"#f75b40\",\"#fff5f0\",\"#fb694a\",\"#67000d\",\"#fff5f0\",\"#fca082\",\"#fff5f0\",\"#fca082\",\"#fff5f0\",\"#fb694a\",\"#fff5f0\",\"#fff5f0\",\"#fff5f0\",\"#fff5f0\",\"#fff5f0\",\"#fff5f0\",\"#fff5f0\",\"#fff5f0\",\"#fff5f0\",\"#fff5f0\",\"#fff5f0\",\"#fff5f0\",\"#67000d\",\"#67000d\",\"#fff5f0\",\"#fff5f0\",\"#67000d\",\"#fff5f0\",\"#fff5f0\",\"#67000d\",\"#fff5f0\",\"#fff5f0\",\"#fff5f0\",\"#fff5f0\",\"#fff5f0\",\"#fff5f0\",\"#fff5f0\",\"#fff5f0\",\"#fff5f0\",\"#67000d\",\"#fff5f0\",\"#67000d\",\"#fff5f0\",\"#fff5f0\",\"#fff5f0\",\"#fb694a\",\"#fb694a\",\"#fff5f0\",\"#fff5f0\",\"#fff5f0\",\"#fff5f0\",\"#fff5f0\",\"#fff5f0\",\"#fca082\",\"#fff5f0\",\"#fff5f0\",\"#fff5f0\",\"#fff5f0\",\"#fff5f0\",\"#67000d\",\"#fff5f0\",\"#fff5f0\",\"#fff5f0\",\"#67000d\",\"#e32f27\",\"#fff5f0\",\"#67000d\",\"#67000d\",\"#fff5f0\",\"#fff5f0\",\"#fff5f0\",\"#fff5f0\",\"#fff5f0\",\"#fff5f0\",\"#67000d\",\"#f5533b\",\"#fff5f0\",\"#fff5f0\",\"#fff5f0\",\"#e32f27\",\"#67000d\",\"#fff5f0\",\"#fff5f0\",\"#fff5f0\",\"#fff5f0\",\"#fff5f0\",\"#fff5f0\",\"#fff5f0\",\"#fff5f0\",\"#fff5f0\",\"#fff5f0\",\"#fff5f0\",\"#fff5f0\",\"#fff5f0\",\"#fff5f0\",\"#67000d\",\"#67000d\",\"#67000d\",\"#67000d\",\"#fff5f0\",\"#67000d\",\"#fb694a\",\"#e32f27\",\"#fb694a\",\"#67000d\",\"#fff5f0\",\"#67000d\",\"#fff5f0\",\"#fff5f0\",\"#fff5f0\",\"#fff5f0\",\"#fb694a\",\"#67000d\",\"#fb694a\",\"#fff5f0\",\"#fcbba1\",\"#fff5f0\",\"#fff5f0\",\"#67000d\",\"#67000d\",\"#fff5f0\",\"#fff5f0\",\"#fff5f0\",\"#fff5f0\",\"#fff5f0\",\"#fdcab5\",\"#fff5f0\",\"#fff5f0\",\"#fff5f0\",\"#fff5f0\",\"#fff5f0\",\"#fff5f0\",\"#fff5f0\",\"#fff5f0\",\"#fff5f0\",\"#fff5f0\",\"#fff5f0\",\"#67000d\",\"#67000d\",\"#67000d\",\"#67000d\",\"#67000d\",\"#67000d\",\"#67000d\",\"#67000d\",\"#ec382b\",\"#67000d\"],\"esr1\":[-0.16651400000000002,0.25427333333333335,0.2826435,-0.066771,0.121859,0.27341,-0.0596525,-1.13086,-1.22656735,-0.202664,-0.006307750000000001,-0.162349,-0.661729,-0.13544266666666668,-0.310287,-0.048179,0.1518644,-0.3873,-1.196523,-0.164632,0.008423,-1.2279322,0.4805865,-0.885781,-0.421592,-0.268419,0.2241317,0.1203245,0.43459633333333336,-1.2638666,0.006759,-0.147207,-0.111838,0.343665,0.154528,0.25149133333333334,-0.3485925,-0.13603,-1.2589859583333334,0.137491,-1.09512,-0.270681,0.438809,0.223027,-0.582938,-1.105793,0.188991,0.385992,0.0258755,-0.29935233333333333,0.043454428571428574,-1.0674029999999999,-0.300751,-0.597746,0.28822033333333336,-0.18202333333333334,0.209422,0.473494,-0.11351950000000001,-0.051943,-0.162281,-0.17138,-0.361686,-0.105017,-0.34081,0.2775083333333333,0.043225,-0.891372,0.207197,-0.070873,-0.043293,0.005666,-1.23731,0.01894233333333333,-0.341476,-0.17703760000000002,-0.018613,-0.095563,-0.463737,-0.424719,-0.37353,0.081441,0.2792,-0.038005750000000005,-0.8693705,0.31353575,-0.040568,0.338275,0.335091,0.028294250000000003,0.054100333333333334,-0.3402779999999999,-0.417041,-0.255982,-0.372043,-0.110902,-0.149181,-0.185495,0.040646,-0.089822,0.1624735,0.109356,0.267272,0.08362,0.247885,-0.494486,-0.228539,0.178182,0.226397,-0.263174,0.033616,0.061767,0.228925,-1.25744116,0.083247,-0.099091,0.522648,0.15379,-1.030526,0.175113,0.10663875,-0.220652,-0.167348,0.178846,-0.05216,0.28283,0.37663,0.2810072,-0.57949,0.351714,-0.867899,0.055191500000000004,0.187085,-0.517116,-1.334223,0.428746,-0.341585,-0.342984,0.232049,-0.641003,-1.24843,0.17061300000000001,0.395972,0.207192,-0.294233,-0.274458,0.13999,0.501602,0.11518379999999999,-1.244402,0.587983,-1.018722,0.420483,-1.15146225,-0.33158,0.142405,0.138597,-0.821286,-0.136145,0.114946,0.17388749999999997,0.18431433333333336,-0.706763,-1.0377361999999999,-0.180312,-0.295729,-0.16347,0.059033,-0.034661,-0.132915,0.15161750000000002,-0.668578,0.103277,0.151225,0.088049,0.203644,0.040157,-0.082388,-0.049818,-0.204023,-1.1785656,0.062265,-0.635322,-1.2496996363636366,-1.175493],\"eventdeath\":[0.0,0.0,0.0,0.0,0.0,0.0,0.0,0.5,0.55,0.0,0.0,1.0,1.0,0.0,0.2222222222222222,0.0,0.0,0.0,0.5,0.0,1.0,0.8,0.5,0.0,1.0,0.0,0.0,0.5,0.0,0.8,1.0,1.0,0.0,0.0,1.0,0.0,0.5,0.0,0.5416666666666666,0.0,0.5,1.0,0.0,0.3333333333333333,0.0,0.3333333333333333,0.0,0.5,0.0,0.0,0.0,0.0,0.0,0.0,0.0,0.0,0.0,0.0,0.0,0.0,1.0,1.0,0.0,0.0,1.0,0.0,0.0,1.0,0.0,0.0,0.0,0.0,0.0,0.0,0.0,0.0,0.0,1.0,0.0,1.0,0.0,0.0,0.0,0.5,0.5,0.0,0.0,0.0,0.0,0.0,0.0,0.3333333333333333,0.0,0.0,0.0,0.0,0.0,1.0,0.0,0.0,0.0,1.0,0.6666666666666666,0.0,1.0,1.0,0.0,0.0,0.0,0.0,0.0,0.0,1.0,0.56,0.0,0.0,0.0,0.6666666666666666,1.0,0.0,0.0,0.0,0.0,0.0,0.0,0.0,0.0,0.0,0.0,0.0,0.0,0.0,0.0,1.0,1.0,1.0,1.0,0.0,1.0,0.5,0.6666666666666666,0.5,1.0,0.0,1.0,0.0,0.0,0.0,0.0,0.5,1.0,0.5,0.0,0.25,0.0,0.0,1.0,1.0,0.0,0.0,0.0,0.0,0.0,0.2,0.0,0.0,0.0,0.0,0.0,0.0,0.0,0.0,0.0,0.0,0.0,1.0,1.0,1.0,1.0,1.0,1.0,1.0,1.0,0.6363636363636364,1.0],\"index\":[1,2,3,4,5,6,7,8,9,10,11,12,13,14,15,16,17,18,19,20,21,22,23,24,25,26,27,28,29,30,31,32,33,34,35,36,37,38,39,40,41,42,43,44,45,46,47,48,49,50,51,52,53,54,55,56,57,58,59,60,61,62,63,64,65,66,67,68,69,70,71,72,73,74,75,76,77,78,79,80,81,82,83,84,85,86,87,88,89,90,91,92,93,94,95,96,97,98,99,100,101,102,103,104,105,106,107,108,109,110,111,112,113,114,115,116,117,118,119,120,121,122,123,124,125,126,127,128,129,130,131,132,133,134,135,136,137,138,139,140,141,142,143,144,145,146,147,148,149,150,151,152,153,154,155,156,157,158,159,160,161,162,163,164,165,166,167,168,169,170,171,172,173,174,175,176,177,178,179,180,181,182,183,184,185],\"landmark\":[0,1,3,4,5,6,7,8,9,10,11,12,14,15,16,17,18,20,21,22,23,24,25,26,27,28,30,31,33,34,35,37,38,39,41,44,46,47,48,50,51,52,55,57,59,61,62,64,65,66,68,69,70,71,72,75,76,77,78,79,82,86,89,91,93,95,97,98,100,101,103,104,105,106,107,108,110,111,112,114,115,116,117,118,122,126,127,128,129,132,136,140,141,144,146,147,148,149,150,153,156,158,161,162,163,164,165,166,167,169,171,173,175,176,178,181,183,184,185,186,189,193,194,195,197,200,202,203,204,205,206,207,208,209,211,212,213,214,215,216,217,221,223,225,226,229,230,231,232,233,234,235,236,237,238,239,241,243,244,245,246,247,248,249,250,251,252,253,254,255,256,257,258,259,260,262,263,264,265,266,267,268,269,270,271],\"points covered\":[[0,36,180],[1,2,119],[3,45],[4],[5],[6],[7,63,96,131],[8,19],[9,13,40,49,58,81,84,90,92,120,123,124,125,154,168,170,174,179,240,261],[10],[11,32,88,145],[12],[14],[15,54,96],[16,29,54,87,96,151,198,201,210],[17],[18,43,83,88,145],[20],[13,21,56,90,123,125,174,240],[22],[23],[19,24,53,94,113],[25,42],[26],[27],[28],[30,43,88,134,138,139,145,190,191,228],[31,32],[33,60,138],[19,34,67,85,94],[35],[37],[38],[39],[41],[44,143,145,190,191,192],[46,155],[47],[13,40,48,56,58,74,84,90,92,99,102,120,123,124,125,130,157,170,174,179,182,188,240,261],[50,133,135],[51,94],[52],[55],[57,139,198],[59],[19,61,177],[62],[64,219],[65,119],[54,66,87],[63,68,96,135,142,151,198],[69,87,188],[70],[71],[72,73,135],[75,109,121],[76],[77],[78,80],[79],[82],[86,242],[89],[91],[93],[95,152,172],[97],[98],[100,133,199,227],[101],[103],[104],[105],[106,152,222],[107],[32,36,54,87,96,108,131,159,160,180],[110],[111],[112],[114],[115],[116],[117,228],[118,137,160,219],[85,122],[2,63,126,133],[127],[128],[129],[36,132,180,187],[136,196,224],[140,159,160],[141],[144],[146,218],[147],[148,160],[149],[150,224],[153],[156,220],[158],[42,161,219],[142,162],[163],[164],[165],[166],[167],[169],[171],[173],[175],[13,40,56,58,74,81,84,90,92,94,99,102,120,123,124,125,154,157,170,174,176,182,188,240,261],[178],[181],[183],[42,184,218],[185],[186],[172,189,198,224],[193],[194],[195],[197],[199,200],[202],[43,135,199,203,227],[204],[205],[206],[63,96,135,151,198,207],[208],[209],[211],[212],[213],[214],[215],[113,216],[94,188,217],[42,221],[223],[225],[226],[229],[230],[231],[88,139,145,190,232],[19,233],[234],[58,235],[236],[13,154,170,237],[238],[239],[241],[243],[244],[245],[133,135,180,246],[63,227,247],[87,248],[13,49,120,174,249],[250],[251],[252],[253],[254],[255],[135,256],[257],[258],[259],[260],[262],[263],[264],[265],[266],[58,81,102,261,267],[268],[269],[40,56,81,84,92,99,102,182,188,261,270],[94,271]],\"size\":[3,3,2,1,1,1,4,2,20,1,4,1,1,3,9,1,5,1,8,1,1,5,2,1,1,1,10,2,3,5,1,1,1,1,1,6,2,1,24,3,2,1,1,3,1,3,1,2,2,3,7,3,1,1,3,3,1,1,2,1,1,2,1,1,1,3,1,1,4,1,1,1,1,3,1,10,1,1,1,1,1,1,2,4,2,4,1,1,1,4,3,3,1,1,2,1,2,1,2,1,2,1,3,2,1,1,1,1,1,1,1,1,1,25,1,1,1,3,1,1,4,1,1,1,1,2,1,5,1,1,1,6,1,1,1,1,1,1,1,2,3,2,1,1,1,1,1,1,5,2,1,2,1,4,1,1,1,1,1,1,4,3,2,5,1,1,1,1,1,1,2,1,1,1,1,1,1,1,1,1,5,1,1,11,2],\"size rescaled\":[9.4,9.4,8.6,7.8,7.8,7.8,10.2,8.6,23.0,7.8,10.2,7.8,7.8,9.4,14.2,7.8,11.0,7.8,13.4,7.8,7.8,11.0,8.6,7.8,7.8,7.8,15.0,8.6,9.4,11.0,7.8,7.8,7.8,7.8,7.8,11.8,8.6,7.8,26.2,9.4,8.6,7.8,7.8,9.4,7.8,9.4,7.8,8.6,8.6,9.4,12.6,9.4,7.8,7.8,9.4,9.4,7.8,7.8,8.6,7.8,7.8,8.6,7.8,7.8,7.8,9.4,7.8,7.8,10.2,7.8,7.8,7.8,7.8,9.4,7.8,15.0,7.8,7.8,7.8,7.8,7.8,7.8,8.6,10.2,8.6,10.2,7.8,7.8,7.8,10.2,9.4,9.4,7.8,7.8,8.6,7.8,8.6,7.8,8.6,7.8,8.6,7.8,9.4,8.6,7.8,7.8,7.8,7.8,7.8,7.8,7.8,7.8,7.8,27.0,7.8,7.8,7.8,9.4,7.8,7.8,10.2,7.8,7.8,7.8,7.8,8.6,7.8,11.0,7.8,7.8,7.8,11.8,7.8,7.8,7.8,7.8,7.8,7.8,7.8,8.6,9.4,8.6,7.8,7.8,7.8,7.8,7.8,7.8,11.0,8.6,7.8,8.6,7.8,10.2,7.8,7.8,7.8,7.8,7.8,7.8,10.2,9.4,8.6,11.0,7.8,7.8,7.8,7.8,7.8,7.8,8.6,7.8,7.8,7.8,7.8,7.8,7.8,7.8,7.8,7.8,11.0,7.8,7.8,15.8,8.6]},\"selected\":{\"id\":\"1562\"},\"selection_policy\":{\"id\":\"1561\"}},\"id\":\"1489\",\"type\":\"ColumnDataSource\"},{\"attributes\":{},\"id\":\"1563\",\"type\":\"UnionRenderers\"},{\"attributes\":{},\"id\":\"1564\",\"type\":\"Selection\"},{\"attributes\":{\"graph_layout\":{\"1\":[-0.014792588379664824,-0.06896572537704766],\"10\":[-0.15101054593282204,-0.939832631418917],\"100\":[0.6726549388898898,0.7152064255219132],\"101\":[0.42364631553308335,-0.8996703241984816],\"102\":[-0.4213926099649574,0.8950191941372989],\"103\":[0.010778847496254478,-0.16374780660869678],\"104\":[-0.03950513668052607,-0.0818476418190606],\"105\":[-0.9045508256668952,-0.4760818284658853],\"106\":[0.04264230198162255,0.9293531668891946],\"107\":[0.5605756422645491,-0.7912028116723374],\"108\":[0.6476807340963054,-0.7274530843923017],\"109\":[-0.46486310108285334,0.832183966932736],\"11\":[-0.03564511605966778,-0.009091419307022215],\"110\":[0.2285708675410786,0.9361636685316437],\"111\":[0.6788506746592673,0.630541846608695],\"112\":[-0.9574532322827601,-0.24964201922460724],\"113\":[-0.7209507833356413,-0.6618051677670723],\"114\":[0.07682092904112198,0.06020726844192849],\"115\":[0.9628230530505775,0.16262840316211757],\"116\":[0.9568050390196656,-0.05200624437898085],\"117\":[0.9061991005310984,-0.14501141947917062],\"118\":[0.009521083530967821,-0.20268109471585757],\"119\":[-0.3484271440157858,-0.9508939708233549],\"12\":[-0.8895953590286972,-0.3511752517142167],\"120\":[0.516639014319327,-0.8298195319713689],\"121\":[0.011056848259205122,-0.05081619480172951],\"122\":[0.9517517419748236,-0.25659657954828113],\"123\":[-0.8491790927681652,0.5640127013678774],\"124\":[-0.15306666161367058,0.9700475786899738],\"125\":[0.7389479010765703,0.6773524817910109],\"126\":[-0.0828580014998406,-0.04644731691539358],\"127\":[0.8256048603296252,-0.5312087364621378],\"128\":[-0.053775826384020106,-0.03599768073001543],\"129\":[0.9537908804893636,0.2547091323243483],\"13\":[-0.09535068217408837,0.9434199768660221],\"130\":[0.1994537366748232,-0.9699543526375336],\"131\":[0.06030088622190057,0.9839616878457416],\"132\":[-0.02482136426876398,-0.041958874159321445],\"133\":[0.8272616810686579,0.5253570096769922],\"134\":[0.6032362785490053,0.7311587747875354],\"135\":[-0.6127319955832078,-0.7401989202687097],\"136\":[0.5479713485818383,0.8041266282295056],\"137\":[0.6126504837560355,0.7856822299248344],\"138\":[0.36452642033814847,0.8179746506566395],\"139\":[0.853347797257427,0.4399579482228949],\"14\":[-0.005370509831931747,-0.03308462281137922],\"140\":[0.11129523231970692,0.11990415522997543],\"141\":[0.0662123471462648,0.06439230621983333],\"142\":[0.006762375687430485,-0.19082126967952082],\"143\":[0.062436928144594825,-1.0],\"144\":[-0.11828613333485806,0.8798004467113235],\"145\":[-0.8905244738653384,0.31708244754679],\"146\":[-0.761326512035972,-0.7022326854478663],\"147\":[0.9083747242317387,-0.340323062497272],\"148\":[-0.9660090720301132,0.12790769770726074],\"149\":[-0.04768410858384335,0.00046827679663690493],\"15\":[0.0035846357691389644,-0.025337100467759336],\"150\":[0.08792589435746063,0.12182427088189896],\"151\":[-0.9866158542776725,0.07370206616673643],\"152\":[0.09967088403020852,0.043963165154908605],\"153\":[0.2927805623746378,0.9461032255082491],\"154\":[0.09571141521853524,0.06256247352036429],\"155\":[0.6944286748327626,-0.690595551547443],\"156\":[-0.12070855591361575,-0.9878212435634063],\"157\":[-0.7593012018653885,0.6833693918773677],\"158\":[0.7541089244230013,0.6056378638251578],\"159\":[-0.212859851269273,-0.9558451135290459],\"16\":[0.261720938955249,-0.94345896599793],\"160\":[-0.837442363499215,-0.5313068816174399],\"161\":[-0.03287325739551391,-0.05385290505249179],\"162\":[-0.04202142804754291,-0.05392116606258723],\"163\":[0.025313657207470832,-0.014758490649278085],\"164\":[0.10017691792586719,0.05597245472686662],\"165\":[-0.33757646427708365,-0.9033936107183621],\"166\":[-0.36231074330477603,0.8793363318314547],\"167\":[-0.8297687816139515,-0.6054644649842965],\"168\":[-0.6274772075794095,-0.8209907127905738],\"169\":[0.9221147186734487,0.3111380726284964],\"17\":[-0.05913316196723884,-0.008692406238061341],\"170\":[-0.0038529238751276625,-0.9905392880164324],\"171\":[-0.0451315455909549,-0.04423930924061266],\"172\":[-0.9520695238288175,-0.19476346480939732],\"173\":[-0.29206552258664775,0.8702047657948666],\"174\":[0.31887687351919386,-0.9500519436426628],\"175\":[-0.7238161335133506,0.58850787036676],\"176\":[-0.027437535679341676,0.9604977311039123],\"177\":[0.46896518035832513,-0.8629320510249897],\"178\":[-0.9450992071457134,0.2875302668901746],\"179\":[-0.9719893205575308,0.20890108284821157],\"18\":[0.8796153645350463,0.47643681715634806],\"180\":[0.9821553173689773,0.05812853437921245],\"181\":[0.08826894239868587,0.039331141682860365],\"182\":[-0.5022895801604997,0.7566489100057652],\"183\":[0.9702487061397654,-0.18775325179353763],\"184\":[0.06912411334489998,0.04212251857498968],\"185\":[0.0797958904130182,0.08335388196116957],\"19\":[0.08708978937590162,0.05620772081414447],\"2\":[-0.08410192809793703,-0.09153258250967633],\"20\":[0.8991030773070148,-0.2795757703267638],\"21\":[-0.9773262501613911,0.015539321285529973],\"22\":[0.0859045542152155,0.09669803716365735],\"23\":[0.017625744467937045,-0.1916953103756399],\"24\":[-0.8411485000125324,0.3993040000953142],\"25\":[0.10216243646617972,-0.9688848866654775],\"26\":[0.923885340938397,0.37748153825232544],\"27\":[-0.06330127064242781,-0.0025092517318630395],\"28\":[-0.012027636897243895,-0.012623597819984199],\"29\":[-0.09575503994882026,0.009245117951981028],\"3\":[-0.6815975066317093,-0.7381060759305221],\"30\":[0.07630940484837037,0.09939294277725051],\"31\":[-0.48382288216672514,-0.8319183416655177],\"32\":[0.8586088699239813,-0.46008270399824247],\"33\":[-0.9274902553092369,0.19345654392668268],\"34\":[-0.7812278078296705,0.6029440010077539],\"35\":[-0.5233723901348241,0.8681356587458346],\"36\":[-0.05815082539317414,0.009821738416304378],\"37\":[-0.9330756595966818,0.38672921010492095],\"38\":[0.4453505934088815,0.8394461439243307],\"39\":[0.07755344855440495,0.044114842820461825],\"4\":[-0.8891940067827656,0.4694518909678195],\"40\":[-0.04918869322725974,-0.05086936260390644],\"41\":[0.07164503056548396,0.08503348372318606],\"42\":[-0.26971472077643965,-0.9654243068065729],\"43\":[-0.7624857727822836,-0.5866165726334632],\"44\":[-0.024941254592701686,-0.02280454585801434],\"45\":[0.9692213058032619,-0.11349719680509776],\"46\":[0.09340348320979767,0.11590089255121375],\"47\":[0.9260529821758281,0.21082045384551407],\"48\":[0.012556044649882348,-0.14174458084176994],\"49\":[-0.10934382291391866,-0.1097116762941879],\"5\":[0.17530776651959093,0.9188154572547875],\"50\":[0.01707279328054657,-0.015076834907974783],\"51\":[-0.02536194496946148,-0.04775543217373306],\"52\":[0.04173577047164301,0.013874241699850586],\"53\":[0.748507759770676,-0.6560460516071104],\"54\":[-0.21958507142780695,0.9194331157323697],\"55\":[-0.04202741163775799,-0.038376828757299405],\"56\":[-0.5592469101976042,-0.815742807259375],\"57\":[0.805494543229157,0.5820935199234079],\"58\":[0.12825815113028183,0.956862920752923],\"59\":[0.6168273796690016,-0.7774056094027756],\"6\":[-0.6787423976190243,0.7633435940042498],\"60\":[0.9755037014536038,0.00047509640203544236],\"61\":[0.4007592510519484,0.8986901944354956],\"62\":[-0.41894212018680554,-0.9030718132478098],\"63\":[-0.9510821717945455,-0.13857265176031333],\"64\":[0.5002630781506289,0.8441376087661026],\"65\":[-0.9985403617342816,-0.04065657109650934],\"66\":[0.04852394153310245,-0.07937663873794899],\"67\":[-0.9381096189292578,-0.3063330926247582],\"68\":[0.9134138403556948,-0.39369422098590434],\"69\":[-0.0621377262828586,-0.05475404794945115],\"7\":[-0.017736716131222366,-0.047487978273351536],\"70\":[-0.28304413609805323,0.9449959539657534],\"71\":[0.8124898061269538,-0.5908200449244146],\"72\":[0.1618337540904987,-0.9380767754296516],\"73\":[-0.49082184587706135,-0.8824802192177841],\"74\":[0.07432581036821984,-0.09881784321750434],\"75\":[-0.9232637928777172,-0.39498651036358595],\"76\":[0.001306640440705935,-0.042943292338931814],\"77\":[-0.9702065148421022,-0.08609325275412909],\"78\":[0.8908308995125989,-0.47422838954801666],\"79\":[0.32361134963851174,0.8939794786002593],\"8\":[0.08057088477414903,0.11882911459210382],\"80\":[-0.6775292755829825,0.6847676011412862],\"81\":[-0.5919289932692964,0.7179962113764989],\"82\":[0.8482194157743475,0.36379816990560365],\"83\":[-0.08806424779151012,0.021465359398056445],\"84\":[0.009283685229443554,-0.10719787052523434],\"85\":[0.06961579423903676,0.13273722557660084],\"86\":[-0.047920942989135545,-0.06411899695896843],\"87\":[-0.055600315866519784,-0.9655962543654155],\"88\":[0.3649337064805028,-0.9099594263150781],\"89\":[0.7415250335526203,-0.5948549665604147],\"9\":[0.09099976126543079,0.0490267592753551],\"90\":[-0.008650248204475644,-0.06406367007980229],\"91\":[0.03794171183573417,-0.06620100240987345],\"92\":[0.007144565576817601,-0.0827469310632797],\"93\":[-0.8160423035576274,0.497580209274753],\"94\":[0.9556320268388314,0.10501663162300494],\"95\":[0.007957461786888586,-0.23158124452148993],\"96\":[-0.5973146251134901,0.8036370805273079],\"97\":[0.014852592826685362,-0.08092938718752284],\"98\":[-0.8373070770439078,-0.4543478868014968],\"99\":[0.04249042548294719,-0.05689449303506701]}},\"id\":\"1496\",\"type\":\"StaticLayoutProvider\"},{\"attributes\":{\"active_scroll\":{\"id\":\"1477\"},\"tools\":[{\"id\":\"1478\"},{\"id\":\"1476\"},{\"id\":\"1477\"},{\"id\":\"1479\"},{\"id\":\"1480\"}]},\"id\":\"1481\",\"type\":\"Toolbar\"},{\"attributes\":{\"line_alpha\":{\"value\":0.8}},\"id\":\"1502\",\"type\":\"MultiLine\"},{\"attributes\":{\"source\":{\"id\":\"1489\"}},\"id\":\"1491\",\"type\":\"CDSView\"},{\"attributes\":{\"coordinates\":null,\"group\":null},\"id\":\"1549\",\"type\":\"Title\"},{\"attributes\":{},\"id\":\"1547\",\"type\":\"LinearScale\"},{\"attributes\":{\"coordinates\":null,\"data_source\":{\"id\":\"1489\"},\"glyph\":{\"id\":\"1497\"},\"group\":null,\"hover_glyph\":null,\"view\":{\"id\":\"1491\"}},\"id\":\"1490\",\"type\":\"GlyphRenderer\"},{\"attributes\":{\"source\":{\"id\":\"1493\"}},\"id\":\"1495\",\"type\":\"CDSView\"},{\"attributes\":{\"start\":-1},\"id\":\"1471\",\"type\":\"Range1d\"},{\"attributes\":{\"fill_alpha\":{\"value\":0.8},\"fill_color\":{\"field\":\"color\"},\"size\":{\"field\":\"size rescaled\"}},\"id\":\"1497\",\"type\":\"Circle\"},{\"attributes\":{\"coordinates\":null,\"edge_renderer\":{\"id\":\"1494\"},\"group\":null,\"inspection_policy\":{\"id\":\"1560\"},\"layout_provider\":{\"id\":\"1496\"},\"node_renderer\":{\"id\":\"1490\"},\"selection_policy\":{\"id\":\"1559\"}},\"id\":\"1487\",\"type\":\"GraphRenderer\"},{\"attributes\":{},\"id\":\"1478\",\"type\":\"PanTool\"},{\"attributes\":{},\"id\":\"1479\",\"type\":\"ResetTool\"},{\"attributes\":{\"start\":-1},\"id\":\"1472\",\"type\":\"Range1d\"},{\"attributes\":{\"callback\":null,\"tooltips\":[[\"index\",\"@index\"],[\"size\",\"@size\"]]},\"id\":\"1476\",\"type\":\"HoverTool\"},{\"attributes\":{\"coordinates\":null,\"data_source\":{\"id\":\"1493\"},\"glyph\":{\"id\":\"1502\"},\"group\":null,\"hover_glyph\":null,\"view\":{\"id\":\"1495\"}},\"id\":\"1494\",\"type\":\"GlyphRenderer\"},{\"attributes\":{},\"id\":\"1559\",\"type\":\"NodesOnly\"},{\"attributes\":{},\"id\":\"1561\",\"type\":\"UnionRenderers\"},{\"attributes\":{},\"id\":\"1477\",\"type\":\"WheelZoomTool\"},{\"attributes\":{},\"id\":\"1562\",\"type\":\"Selection\"},{\"attributes\":{},\"id\":\"1480\",\"type\":\"SaveTool\"}],\"root_ids\":[\"1473\"]},\"title\":\"Bokeh Application\",\"version\":\"2.4.3\"}};\n  const render_items = [{\"docid\":\"f57b981c-3e5f-4967-b720-678f046403f1\",\"root_ids\":[\"1473\"],\"roots\":{\"1473\":\"10a326d0-3ab2-4547-a8cf-3f561eaa684c\"}}];\n  root.Bokeh.embed.embed_items_notebook(docs_json, render_items);\n  }\n  if (root.Bokeh !== undefined) {\n    embed_document(root);\n  } else {\n    let attempts = 0;\n    const timer = setInterval(function(root) {\n      if (root.Bokeh !== undefined) {\n        clearInterval(timer);\n        embed_document(root);\n      } else {\n        attempts++;\n        if (attempts > 100) {\n          clearInterval(timer);\n          console.log(\"Bokeh: ERROR: Unable to run BokehJS code because BokehJS library is missing\");\n        }\n      }\n    }, 10, root)\n  }\n})(window);",
      "application/vnd.bokehjs_exec.v0+json": ""
     },
     "metadata": {
      "application/vnd.bokehjs_exec.v0+json": {
       "id": "1473"
      }
     },
     "output_type": "display_data"
    }
   ],
   "source": [
    "EPS_correlation = 0.5\n",
    "\n",
    "X = nki_cleaned_df[nki_cleaned_df.columns[17:]]\n",
    "\n",
    "nki_correlation_bm = BallMapper(points = X.values, # the pointcloud, as a numpy array\n",
    "                           epsilon = EPS_correlation,\n",
    "                           distance=correlation,\n",
    "                           dbg=True) # the radius of the balls\n",
    "\n",
    "my_red_palette = cm.get_cmap(name='Reds')\n",
    "nki_correlation_bm.add_coloring(coloring_df=nki_cleaned_df[['eventdeath', 'esr1']])\n",
    "correlation_gui = graph_GUI(nki_correlation_bm.Graph, my_red_palette,\n",
    "                            )\n",
    "correlation_gui.color_by_variable('eventdeath')\n",
    "\n",
    "show(correlation_gui.plot)"
   ]
  },
  {
   "cell_type": "markdown",
   "metadata": {},
   "source": [
    "The flare with lower survival probability corresponds to high ESR1 patients that do not respond well to therapy."
   ]
  },
  {
   "cell_type": "code",
   "execution_count": 13,
   "metadata": {},
   "outputs": [
    {
     "name": "stdout",
     "output_type": "stream",
     "text": [
      "color by variable esr1 \n",
      "MIN_VALUE: -1.334, MAX_VALUE: 0.588\n"
     ]
    },
    {
     "data": {
      "text/html": [
       "\n",
       "  <div class=\"bk-root\" id=\"0f7c1db1-b2d8-4ca2-a13f-23d1ba6b0496\" data-root-id=\"1473\"></div>\n"
      ]
     },
     "metadata": {},
     "output_type": "display_data"
    },
    {
     "data": {
      "application/javascript": "(function(root) {\n  function embed_document(root) {\n  const docs_json = {\"69a7d2fb-f00e-4559-97bb-d21d75bf7e05\":{\"defs\":[],\"roots\":{\"references\":[{\"attributes\":{\"output_backend\":\"svg\",\"renderers\":[{\"id\":\"1487\"}],\"title\":{\"id\":\"1549\"},\"toolbar\":{\"id\":\"1481\"},\"width\":800,\"x_range\":{\"id\":\"1471\"},\"x_scale\":{\"id\":\"1547\"},\"y_range\":{\"id\":\"1472\"},\"y_scale\":{\"id\":\"1548\"}},\"id\":\"1473\",\"type\":\"Plot\"},{\"attributes\":{},\"id\":\"1560\",\"type\":\"NodesOnly\"},{\"attributes\":{},\"id\":\"1548\",\"type\":\"LinearScale\"},{\"attributes\":{\"data\":{\"end\":[76,90,161,49,86,14,15,51,76,86,132,162,22,30,46,150,19,39,114,152,154,164,181,184,17,27,28,36,76,149,15,50,51,76,132,44,50,51,52,76,121,132,163,27,36,128,149,39,114,154,164,184,30,41,46,114,140,141,150,185,103,118,142,29,36,44,83,128,149,76,41,46,85,114,141,150,185,149,52,114,141,152,154,164,181,184,51,55,69,86,128,132,161,171,114,141,185,51,121,132,149,150,84,103,52,76,163,55,76,86,104,121,128,132,161,162,171,76,114,141,163,184,128,132,161,171,74,121,86,126,128,161,162,84,90,92,97,132,161,163,92,97,103,132,161,162,161,99,121,97,118,121,118,142,141,152,154,164,181,184,185,142,132,128,132,161,162,171,161,162,171,184,185,181,164,171,184],\"start\":[1,1,1,2,2,7,7,7,7,7,7,7,8,8,8,8,9,9,9,9,9,9,9,9,11,11,11,11,11,11,14,14,14,14,14,15,15,15,15,15,15,15,15,17,17,17,17,19,19,19,19,19,22,22,22,22,22,22,22,22,23,23,23,27,27,27,27,27,27,28,30,30,30,30,30,30,30,36,39,39,39,39,39,39,39,39,40,40,40,40,40,40,40,40,41,41,41,44,44,44,44,46,48,48,50,50,50,51,51,51,51,51,51,51,51,51,51,52,52,52,52,52,55,55,55,55,66,66,69,69,69,69,69,76,76,76,76,76,76,76,84,84,84,86,86,86,90,91,91,92,95,99,103,103,114,114,114,114,114,114,114,118,121,126,128,128,128,128,132,132,132,141,141,152,154,161,181]},\"selected\":{\"id\":\"1564\"},\"selection_policy\":{\"id\":\"1563\"}},\"id\":\"1493\",\"type\":\"ColumnDataSource\"},{\"attributes\":{\"data\":{\"color\":[\"#f14130\",\"#b31218\",\"#af1117\",\"#e53228\",\"#c9181d\",\"#b01217\",\"#e43027\",\"#fee3d7\",\"#ffece3\",\"#f34935\",\"#dc2924\",\"#f0402f\",\"#fc9b7c\",\"#ef3c2c\",\"#f85d42\",\"#e22e27\",\"#c4161c\",\"#fb6c4c\",\"#fee9df\",\"#f14130\",\"#da2723\",\"#ffece3\",\"#820711\",\"#fcc1a8\",\"#fb7252\",\"#f6563d\",\"#b81419\",\"#c9181d\",\"#8e0912\",\"#ffefe8\",\"#da2723\",\"#f03d2d\",\"#ec382b\",\"#a50f15\",\"#c3161b\",\"#b31218\",\"#fa6547\",\"#ef3c2c\",\"#ffeee7\",\"#c5171c\",\"#fee1d3\",\"#f6563d\",\"#8c0912\",\"#b81419\",\"#fc8d6d\",\"#fee1d4\",\"#be151a\",\"#9a0c14\",\"#d72322\",\"#f75c41\",\"#d42121\",\"#fedccd\",\"#f75c41\",\"#fc8f6f\",\"#ad1117\",\"#f14432\",\"#bb141a\",\"#840711\",\"#ec382b\",\"#e32f27\",\"#f0402f\",\"#f14331\",\"#fa6849\",\"#eb372a\",\"#f96346\",\"#b01217\",\"#d42121\",\"#fcc2aa\",\"#bb141a\",\"#e53228\",\"#e22e27\",\"#da2723\",\"#ffede5\",\"#d82422\",\"#f96346\",\"#f14331\",\"#dd2a25\",\"#ea362a\",\"#fb7a5a\",\"#fb7252\",\"#fb6b4b\",\"#cf1c1f\",\"#b01217\",\"#e12d26\",\"#fcbea5\",\"#aa1016\",\"#e12d26\",\"#a60f15\",\"#a60f15\",\"#d72322\",\"#d32020\",\"#f96346\",\"#fb7151\",\"#f5533b\",\"#fb694a\",\"#ec382b\",\"#f03f2e\",\"#f24633\",\"#d42121\",\"#e93529\",\"#c2161b\",\"#ca181d\",\"#b11218\",\"#cf1c1f\",\"#b51318\",\"#fc7f5f\",\"#f44d38\",\"#bf151b\",\"#b81419\",\"#f6553c\",\"#d52221\",\"#d21f20\",\"#b71319\",\"#ffeee7\",\"#cf1c1f\",\"#ea362a\",\"#77040f\",\"#c3161b\",\"#fdd7c6\",\"#bf151b\",\"#cb181d\",\"#f34c37\",\"#f14130\",\"#bf151b\",\"#e32f27\",\"#af1117\",\"#9d0d14\",\"#af1117\",\"#fc8d6d\",\"#a30f15\",\"#fcbda4\",\"#d21f20\",\"#be151a\",\"#fc8262\",\"#fff5f0\",\"#900a12\",\"#f96346\",\"#f96346\",\"#b71319\",\"#fc9777\",\"#ffeee6\",\"#c1161b\",\"#980c13\",\"#bb141a\",\"#f75b40\",\"#f6563d\",\"#c5171c\",\"#7c0510\",\"#c9181d\",\"#ffeee6\",\"#67000d\",\"#fdd4c2\",\"#920a13\",\"#fee5d9\",\"#f96245\",\"#c5171c\",\"#c5171c\",\"#fcb69b\",\"#ef3c2c\",\"#c9181d\",\"#c1161b\",\"#be151a\",\"#fca285\",\"#fed8c7\",\"#f14432\",\"#f75b40\",\"#f14130\",\"#d21f20\",\"#e02c26\",\"#ef3c2c\",\"#c4161c\",\"#fc9c7d\",\"#cb181d\",\"#c4161c\",\"#ce1a1e\",\"#bc141a\",\"#d42121\",\"#e83429\",\"#e22e27\",\"#f34935\",\"#fee8dd\",\"#d21f20\",\"#fc9576\",\"#ffeee6\",\"#fee7dc\"],\"esr1\":[-0.16651400000000002,0.25427333333333335,0.2826435,-0.066771,0.121859,0.27341,-0.0596525,-1.13086,-1.22656735,-0.202664,-0.006307750000000001,-0.162349,-0.661729,-0.13544266666666668,-0.310287,-0.048179,0.1518644,-0.3873,-1.196523,-0.164632,0.008423,-1.2279322,0.4805865,-0.885781,-0.421592,-0.268419,0.2241317,0.1203245,0.43459633333333336,-1.2638666,0.006759,-0.147207,-0.111838,0.343665,0.154528,0.25149133333333334,-0.3485925,-0.13603,-1.2589859583333334,0.137491,-1.09512,-0.270681,0.438809,0.223027,-0.582938,-1.105793,0.188991,0.385992,0.0258755,-0.29935233333333333,0.043454428571428574,-1.0674029999999999,-0.300751,-0.597746,0.28822033333333336,-0.18202333333333334,0.209422,0.473494,-0.11351950000000001,-0.051943,-0.162281,-0.17138,-0.361686,-0.105017,-0.34081,0.2775083333333333,0.043225,-0.891372,0.207197,-0.070873,-0.043293,0.005666,-1.23731,0.01894233333333333,-0.341476,-0.17703760000000002,-0.018613,-0.095563,-0.463737,-0.424719,-0.37353,0.081441,0.2792,-0.038005750000000005,-0.8693705,0.31353575,-0.040568,0.338275,0.335091,0.028294250000000003,0.054100333333333334,-0.3402779999999999,-0.417041,-0.255982,-0.372043,-0.110902,-0.149181,-0.185495,0.040646,-0.089822,0.1624735,0.109356,0.267272,0.08362,0.247885,-0.494486,-0.228539,0.178182,0.226397,-0.263174,0.033616,0.061767,0.228925,-1.25744116,0.083247,-0.099091,0.522648,0.15379,-1.030526,0.175113,0.10663875,-0.220652,-0.167348,0.178846,-0.05216,0.28283,0.37663,0.2810072,-0.57949,0.351714,-0.867899,0.055191500000000004,0.187085,-0.517116,-1.334223,0.428746,-0.341585,-0.342984,0.232049,-0.641003,-1.24843,0.17061300000000001,0.395972,0.207192,-0.294233,-0.274458,0.13999,0.501602,0.11518379999999999,-1.244402,0.587983,-1.018722,0.420483,-1.15146225,-0.33158,0.142405,0.138597,-0.821286,-0.136145,0.114946,0.17388749999999997,0.18431433333333336,-0.706763,-1.0377361999999999,-0.180312,-0.295729,-0.16347,0.059033,-0.034661,-0.132915,0.15161750000000002,-0.668578,0.103277,0.151225,0.088049,0.203644,0.040157,-0.082388,-0.049818,-0.204023,-1.1785656,0.062265,-0.635322,-1.2496996363636366,-1.175493],\"eventdeath\":[0.0,0.0,0.0,0.0,0.0,0.0,0.0,0.5,0.55,0.0,0.0,1.0,1.0,0.0,0.2222222222222222,0.0,0.0,0.0,0.5,0.0,1.0,0.8,0.5,0.0,1.0,0.0,0.0,0.5,0.0,0.8,1.0,1.0,0.0,0.0,1.0,0.0,0.5,0.0,0.5416666666666666,0.0,0.5,1.0,0.0,0.3333333333333333,0.0,0.3333333333333333,0.0,0.5,0.0,0.0,0.0,0.0,0.0,0.0,0.0,0.0,0.0,0.0,0.0,0.0,1.0,1.0,0.0,0.0,1.0,0.0,0.0,1.0,0.0,0.0,0.0,0.0,0.0,0.0,0.0,0.0,0.0,1.0,0.0,1.0,0.0,0.0,0.0,0.5,0.5,0.0,0.0,0.0,0.0,0.0,0.0,0.3333333333333333,0.0,0.0,0.0,0.0,0.0,1.0,0.0,0.0,0.0,1.0,0.6666666666666666,0.0,1.0,1.0,0.0,0.0,0.0,0.0,0.0,0.0,1.0,0.56,0.0,0.0,0.0,0.6666666666666666,1.0,0.0,0.0,0.0,0.0,0.0,0.0,0.0,0.0,0.0,0.0,0.0,0.0,0.0,0.0,1.0,1.0,1.0,1.0,0.0,1.0,0.5,0.6666666666666666,0.5,1.0,0.0,1.0,0.0,0.0,0.0,0.0,0.5,1.0,0.5,0.0,0.25,0.0,0.0,1.0,1.0,0.0,0.0,0.0,0.0,0.0,0.2,0.0,0.0,0.0,0.0,0.0,0.0,0.0,0.0,0.0,0.0,0.0,1.0,1.0,1.0,1.0,1.0,1.0,1.0,1.0,0.6363636363636364,1.0],\"index\":[1,2,3,4,5,6,7,8,9,10,11,12,13,14,15,16,17,18,19,20,21,22,23,24,25,26,27,28,29,30,31,32,33,34,35,36,37,38,39,40,41,42,43,44,45,46,47,48,49,50,51,52,53,54,55,56,57,58,59,60,61,62,63,64,65,66,67,68,69,70,71,72,73,74,75,76,77,78,79,80,81,82,83,84,85,86,87,88,89,90,91,92,93,94,95,96,97,98,99,100,101,102,103,104,105,106,107,108,109,110,111,112,113,114,115,116,117,118,119,120,121,122,123,124,125,126,127,128,129,130,131,132,133,134,135,136,137,138,139,140,141,142,143,144,145,146,147,148,149,150,151,152,153,154,155,156,157,158,159,160,161,162,163,164,165,166,167,168,169,170,171,172,173,174,175,176,177,178,179,180,181,182,183,184,185],\"landmark\":[0,1,3,4,5,6,7,8,9,10,11,12,14,15,16,17,18,20,21,22,23,24,25,26,27,28,30,31,33,34,35,37,38,39,41,44,46,47,48,50,51,52,55,57,59,61,62,64,65,66,68,69,70,71,72,75,76,77,78,79,82,86,89,91,93,95,97,98,100,101,103,104,105,106,107,108,110,111,112,114,115,116,117,118,122,126,127,128,129,132,136,140,141,144,146,147,148,149,150,153,156,158,161,162,163,164,165,166,167,169,171,173,175,176,178,181,183,184,185,186,189,193,194,195,197,200,202,203,204,205,206,207,208,209,211,212,213,214,215,216,217,221,223,225,226,229,230,231,232,233,234,235,236,237,238,239,241,243,244,245,246,247,248,249,250,251,252,253,254,255,256,257,258,259,260,262,263,264,265,266,267,268,269,270,271],\"points covered\":[[0,36,180],[1,2,119],[3,45],[4],[5],[6],[7,63,96,131],[8,19],[9,13,40,49,58,81,84,90,92,120,123,124,125,154,168,170,174,179,240,261],[10],[11,32,88,145],[12],[14],[15,54,96],[16,29,54,87,96,151,198,201,210],[17],[18,43,83,88,145],[20],[13,21,56,90,123,125,174,240],[22],[23],[19,24,53,94,113],[25,42],[26],[27],[28],[30,43,88,134,138,139,145,190,191,228],[31,32],[33,60,138],[19,34,67,85,94],[35],[37],[38],[39],[41],[44,143,145,190,191,192],[46,155],[47],[13,40,48,56,58,74,84,90,92,99,102,120,123,124,125,130,157,170,174,179,182,188,240,261],[50,133,135],[51,94],[52],[55],[57,139,198],[59],[19,61,177],[62],[64,219],[65,119],[54,66,87],[63,68,96,135,142,151,198],[69,87,188],[70],[71],[72,73,135],[75,109,121],[76],[77],[78,80],[79],[82],[86,242],[89],[91],[93],[95,152,172],[97],[98],[100,133,199,227],[101],[103],[104],[105],[106,152,222],[107],[32,36,54,87,96,108,131,159,160,180],[110],[111],[112],[114],[115],[116],[117,228],[118,137,160,219],[85,122],[2,63,126,133],[127],[128],[129],[36,132,180,187],[136,196,224],[140,159,160],[141],[144],[146,218],[147],[148,160],[149],[150,224],[153],[156,220],[158],[42,161,219],[142,162],[163],[164],[165],[166],[167],[169],[171],[173],[175],[13,40,56,58,74,81,84,90,92,94,99,102,120,123,124,125,154,157,170,174,176,182,188,240,261],[178],[181],[183],[42,184,218],[185],[186],[172,189,198,224],[193],[194],[195],[197],[199,200],[202],[43,135,199,203,227],[204],[205],[206],[63,96,135,151,198,207],[208],[209],[211],[212],[213],[214],[215],[113,216],[94,188,217],[42,221],[223],[225],[226],[229],[230],[231],[88,139,145,190,232],[19,233],[234],[58,235],[236],[13,154,170,237],[238],[239],[241],[243],[244],[245],[133,135,180,246],[63,227,247],[87,248],[13,49,120,174,249],[250],[251],[252],[253],[254],[255],[135,256],[257],[258],[259],[260],[262],[263],[264],[265],[266],[58,81,102,261,267],[268],[269],[40,56,81,84,92,99,102,182,188,261,270],[94,271]],\"size\":[3,3,2,1,1,1,4,2,20,1,4,1,1,3,9,1,5,1,8,1,1,5,2,1,1,1,10,2,3,5,1,1,1,1,1,6,2,1,24,3,2,1,1,3,1,3,1,2,2,3,7,3,1,1,3,3,1,1,2,1,1,2,1,1,1,3,1,1,4,1,1,1,1,3,1,10,1,1,1,1,1,1,2,4,2,4,1,1,1,4,3,3,1,1,2,1,2,1,2,1,2,1,3,2,1,1,1,1,1,1,1,1,1,25,1,1,1,3,1,1,4,1,1,1,1,2,1,5,1,1,1,6,1,1,1,1,1,1,1,2,3,2,1,1,1,1,1,1,5,2,1,2,1,4,1,1,1,1,1,1,4,3,2,5,1,1,1,1,1,1,2,1,1,1,1,1,1,1,1,1,5,1,1,11,2],\"size rescaled\":[9.4,9.4,8.6,7.8,7.8,7.8,10.2,8.6,23.0,7.8,10.2,7.8,7.8,9.4,14.2,7.8,11.0,7.8,13.4,7.8,7.8,11.0,8.6,7.8,7.8,7.8,15.0,8.6,9.4,11.0,7.8,7.8,7.8,7.8,7.8,11.8,8.6,7.8,26.2,9.4,8.6,7.8,7.8,9.4,7.8,9.4,7.8,8.6,8.6,9.4,12.6,9.4,7.8,7.8,9.4,9.4,7.8,7.8,8.6,7.8,7.8,8.6,7.8,7.8,7.8,9.4,7.8,7.8,10.2,7.8,7.8,7.8,7.8,9.4,7.8,15.0,7.8,7.8,7.8,7.8,7.8,7.8,8.6,10.2,8.6,10.2,7.8,7.8,7.8,10.2,9.4,9.4,7.8,7.8,8.6,7.8,8.6,7.8,8.6,7.8,8.6,7.8,9.4,8.6,7.8,7.8,7.8,7.8,7.8,7.8,7.8,7.8,7.8,27.0,7.8,7.8,7.8,9.4,7.8,7.8,10.2,7.8,7.8,7.8,7.8,8.6,7.8,11.0,7.8,7.8,7.8,11.8,7.8,7.8,7.8,7.8,7.8,7.8,7.8,8.6,9.4,8.6,7.8,7.8,7.8,7.8,7.8,7.8,11.0,8.6,7.8,8.6,7.8,10.2,7.8,7.8,7.8,7.8,7.8,7.8,10.2,9.4,8.6,11.0,7.8,7.8,7.8,7.8,7.8,7.8,8.6,7.8,7.8,7.8,7.8,7.8,7.8,7.8,7.8,7.8,11.0,7.8,7.8,15.8,8.6]},\"selected\":{\"id\":\"1562\"},\"selection_policy\":{\"id\":\"1561\"}},\"id\":\"1489\",\"type\":\"ColumnDataSource\"},{\"attributes\":{},\"id\":\"1563\",\"type\":\"UnionRenderers\"},{\"attributes\":{},\"id\":\"1564\",\"type\":\"Selection\"},{\"attributes\":{\"graph_layout\":{\"1\":[-0.014792588379664824,-0.06896572537704766],\"10\":[-0.15101054593282204,-0.939832631418917],\"100\":[0.6726549388898898,0.7152064255219132],\"101\":[0.42364631553308335,-0.8996703241984816],\"102\":[-0.4213926099649574,0.8950191941372989],\"103\":[0.010778847496254478,-0.16374780660869678],\"104\":[-0.03950513668052607,-0.0818476418190606],\"105\":[-0.9045508256668952,-0.4760818284658853],\"106\":[0.04264230198162255,0.9293531668891946],\"107\":[0.5605756422645491,-0.7912028116723374],\"108\":[0.6476807340963054,-0.7274530843923017],\"109\":[-0.46486310108285334,0.832183966932736],\"11\":[-0.03564511605966778,-0.009091419307022215],\"110\":[0.2285708675410786,0.9361636685316437],\"111\":[0.6788506746592673,0.630541846608695],\"112\":[-0.9574532322827601,-0.24964201922460724],\"113\":[-0.7209507833356413,-0.6618051677670723],\"114\":[0.07682092904112198,0.06020726844192849],\"115\":[0.9628230530505775,0.16262840316211757],\"116\":[0.9568050390196656,-0.05200624437898085],\"117\":[0.9061991005310984,-0.14501141947917062],\"118\":[0.009521083530967821,-0.20268109471585757],\"119\":[-0.3484271440157858,-0.9508939708233549],\"12\":[-0.8895953590286972,-0.3511752517142167],\"120\":[0.516639014319327,-0.8298195319713689],\"121\":[0.011056848259205122,-0.05081619480172951],\"122\":[0.9517517419748236,-0.25659657954828113],\"123\":[-0.8491790927681652,0.5640127013678774],\"124\":[-0.15306666161367058,0.9700475786899738],\"125\":[0.7389479010765703,0.6773524817910109],\"126\":[-0.0828580014998406,-0.04644731691539358],\"127\":[0.8256048603296252,-0.5312087364621378],\"128\":[-0.053775826384020106,-0.03599768073001543],\"129\":[0.9537908804893636,0.2547091323243483],\"13\":[-0.09535068217408837,0.9434199768660221],\"130\":[0.1994537366748232,-0.9699543526375336],\"131\":[0.06030088622190057,0.9839616878457416],\"132\":[-0.02482136426876398,-0.041958874159321445],\"133\":[0.8272616810686579,0.5253570096769922],\"134\":[0.6032362785490053,0.7311587747875354],\"135\":[-0.6127319955832078,-0.7401989202687097],\"136\":[0.5479713485818383,0.8041266282295056],\"137\":[0.6126504837560355,0.7856822299248344],\"138\":[0.36452642033814847,0.8179746506566395],\"139\":[0.853347797257427,0.4399579482228949],\"14\":[-0.005370509831931747,-0.03308462281137922],\"140\":[0.11129523231970692,0.11990415522997543],\"141\":[0.0662123471462648,0.06439230621983333],\"142\":[0.006762375687430485,-0.19082126967952082],\"143\":[0.062436928144594825,-1.0],\"144\":[-0.11828613333485806,0.8798004467113235],\"145\":[-0.8905244738653384,0.31708244754679],\"146\":[-0.761326512035972,-0.7022326854478663],\"147\":[0.9083747242317387,-0.340323062497272],\"148\":[-0.9660090720301132,0.12790769770726074],\"149\":[-0.04768410858384335,0.00046827679663690493],\"15\":[0.0035846357691389644,-0.025337100467759336],\"150\":[0.08792589435746063,0.12182427088189896],\"151\":[-0.9866158542776725,0.07370206616673643],\"152\":[0.09967088403020852,0.043963165154908605],\"153\":[0.2927805623746378,0.9461032255082491],\"154\":[0.09571141521853524,0.06256247352036429],\"155\":[0.6944286748327626,-0.690595551547443],\"156\":[-0.12070855591361575,-0.9878212435634063],\"157\":[-0.7593012018653885,0.6833693918773677],\"158\":[0.7541089244230013,0.6056378638251578],\"159\":[-0.212859851269273,-0.9558451135290459],\"16\":[0.261720938955249,-0.94345896599793],\"160\":[-0.837442363499215,-0.5313068816174399],\"161\":[-0.03287325739551391,-0.05385290505249179],\"162\":[-0.04202142804754291,-0.05392116606258723],\"163\":[0.025313657207470832,-0.014758490649278085],\"164\":[0.10017691792586719,0.05597245472686662],\"165\":[-0.33757646427708365,-0.9033936107183621],\"166\":[-0.36231074330477603,0.8793363318314547],\"167\":[-0.8297687816139515,-0.6054644649842965],\"168\":[-0.6274772075794095,-0.8209907127905738],\"169\":[0.9221147186734487,0.3111380726284964],\"17\":[-0.05913316196723884,-0.008692406238061341],\"170\":[-0.0038529238751276625,-0.9905392880164324],\"171\":[-0.0451315455909549,-0.04423930924061266],\"172\":[-0.9520695238288175,-0.19476346480939732],\"173\":[-0.29206552258664775,0.8702047657948666],\"174\":[0.31887687351919386,-0.9500519436426628],\"175\":[-0.7238161335133506,0.58850787036676],\"176\":[-0.027437535679341676,0.9604977311039123],\"177\":[0.46896518035832513,-0.8629320510249897],\"178\":[-0.9450992071457134,0.2875302668901746],\"179\":[-0.9719893205575308,0.20890108284821157],\"18\":[0.8796153645350463,0.47643681715634806],\"180\":[0.9821553173689773,0.05812853437921245],\"181\":[0.08826894239868587,0.039331141682860365],\"182\":[-0.5022895801604997,0.7566489100057652],\"183\":[0.9702487061397654,-0.18775325179353763],\"184\":[0.06912411334489998,0.04212251857498968],\"185\":[0.0797958904130182,0.08335388196116957],\"19\":[0.08708978937590162,0.05620772081414447],\"2\":[-0.08410192809793703,-0.09153258250967633],\"20\":[0.8991030773070148,-0.2795757703267638],\"21\":[-0.9773262501613911,0.015539321285529973],\"22\":[0.0859045542152155,0.09669803716365735],\"23\":[0.017625744467937045,-0.1916953103756399],\"24\":[-0.8411485000125324,0.3993040000953142],\"25\":[0.10216243646617972,-0.9688848866654775],\"26\":[0.923885340938397,0.37748153825232544],\"27\":[-0.06330127064242781,-0.0025092517318630395],\"28\":[-0.012027636897243895,-0.012623597819984199],\"29\":[-0.09575503994882026,0.009245117951981028],\"3\":[-0.6815975066317093,-0.7381060759305221],\"30\":[0.07630940484837037,0.09939294277725051],\"31\":[-0.48382288216672514,-0.8319183416655177],\"32\":[0.8586088699239813,-0.46008270399824247],\"33\":[-0.9274902553092369,0.19345654392668268],\"34\":[-0.7812278078296705,0.6029440010077539],\"35\":[-0.5233723901348241,0.8681356587458346],\"36\":[-0.05815082539317414,0.009821738416304378],\"37\":[-0.9330756595966818,0.38672921010492095],\"38\":[0.4453505934088815,0.8394461439243307],\"39\":[0.07755344855440495,0.044114842820461825],\"4\":[-0.8891940067827656,0.4694518909678195],\"40\":[-0.04918869322725974,-0.05086936260390644],\"41\":[0.07164503056548396,0.08503348372318606],\"42\":[-0.26971472077643965,-0.9654243068065729],\"43\":[-0.7624857727822836,-0.5866165726334632],\"44\":[-0.024941254592701686,-0.02280454585801434],\"45\":[0.9692213058032619,-0.11349719680509776],\"46\":[0.09340348320979767,0.11590089255121375],\"47\":[0.9260529821758281,0.21082045384551407],\"48\":[0.012556044649882348,-0.14174458084176994],\"49\":[-0.10934382291391866,-0.1097116762941879],\"5\":[0.17530776651959093,0.9188154572547875],\"50\":[0.01707279328054657,-0.015076834907974783],\"51\":[-0.02536194496946148,-0.04775543217373306],\"52\":[0.04173577047164301,0.013874241699850586],\"53\":[0.748507759770676,-0.6560460516071104],\"54\":[-0.21958507142780695,0.9194331157323697],\"55\":[-0.04202741163775799,-0.038376828757299405],\"56\":[-0.5592469101976042,-0.815742807259375],\"57\":[0.805494543229157,0.5820935199234079],\"58\":[0.12825815113028183,0.956862920752923],\"59\":[0.6168273796690016,-0.7774056094027756],\"6\":[-0.6787423976190243,0.7633435940042498],\"60\":[0.9755037014536038,0.00047509640203544236],\"61\":[0.4007592510519484,0.8986901944354956],\"62\":[-0.41894212018680554,-0.9030718132478098],\"63\":[-0.9510821717945455,-0.13857265176031333],\"64\":[0.5002630781506289,0.8441376087661026],\"65\":[-0.9985403617342816,-0.04065657109650934],\"66\":[0.04852394153310245,-0.07937663873794899],\"67\":[-0.9381096189292578,-0.3063330926247582],\"68\":[0.9134138403556948,-0.39369422098590434],\"69\":[-0.0621377262828586,-0.05475404794945115],\"7\":[-0.017736716131222366,-0.047487978273351536],\"70\":[-0.28304413609805323,0.9449959539657534],\"71\":[0.8124898061269538,-0.5908200449244146],\"72\":[0.1618337540904987,-0.9380767754296516],\"73\":[-0.49082184587706135,-0.8824802192177841],\"74\":[0.07432581036821984,-0.09881784321750434],\"75\":[-0.9232637928777172,-0.39498651036358595],\"76\":[0.001306640440705935,-0.042943292338931814],\"77\":[-0.9702065148421022,-0.08609325275412909],\"78\":[0.8908308995125989,-0.47422838954801666],\"79\":[0.32361134963851174,0.8939794786002593],\"8\":[0.08057088477414903,0.11882911459210382],\"80\":[-0.6775292755829825,0.6847676011412862],\"81\":[-0.5919289932692964,0.7179962113764989],\"82\":[0.8482194157743475,0.36379816990560365],\"83\":[-0.08806424779151012,0.021465359398056445],\"84\":[0.009283685229443554,-0.10719787052523434],\"85\":[0.06961579423903676,0.13273722557660084],\"86\":[-0.047920942989135545,-0.06411899695896843],\"87\":[-0.055600315866519784,-0.9655962543654155],\"88\":[0.3649337064805028,-0.9099594263150781],\"89\":[0.7415250335526203,-0.5948549665604147],\"9\":[0.09099976126543079,0.0490267592753551],\"90\":[-0.008650248204475644,-0.06406367007980229],\"91\":[0.03794171183573417,-0.06620100240987345],\"92\":[0.007144565576817601,-0.0827469310632797],\"93\":[-0.8160423035576274,0.497580209274753],\"94\":[0.9556320268388314,0.10501663162300494],\"95\":[0.007957461786888586,-0.23158124452148993],\"96\":[-0.5973146251134901,0.8036370805273079],\"97\":[0.014852592826685362,-0.08092938718752284],\"98\":[-0.8373070770439078,-0.4543478868014968],\"99\":[0.04249042548294719,-0.05689449303506701]}},\"id\":\"1496\",\"type\":\"StaticLayoutProvider\"},{\"attributes\":{\"active_scroll\":{\"id\":\"1477\"},\"tools\":[{\"id\":\"1478\"},{\"id\":\"1476\"},{\"id\":\"1477\"},{\"id\":\"1479\"},{\"id\":\"1480\"}]},\"id\":\"1481\",\"type\":\"Toolbar\"},{\"attributes\":{\"line_alpha\":{\"value\":0.8}},\"id\":\"1502\",\"type\":\"MultiLine\"},{\"attributes\":{\"source\":{\"id\":\"1489\"}},\"id\":\"1491\",\"type\":\"CDSView\"},{\"attributes\":{\"coordinates\":null,\"group\":null},\"id\":\"1549\",\"type\":\"Title\"},{\"attributes\":{},\"id\":\"1547\",\"type\":\"LinearScale\"},{\"attributes\":{\"coordinates\":null,\"data_source\":{\"id\":\"1489\"},\"glyph\":{\"id\":\"1497\"},\"group\":null,\"hover_glyph\":null,\"view\":{\"id\":\"1491\"}},\"id\":\"1490\",\"type\":\"GlyphRenderer\"},{\"attributes\":{\"source\":{\"id\":\"1493\"}},\"id\":\"1495\",\"type\":\"CDSView\"},{\"attributes\":{\"start\":-1},\"id\":\"1471\",\"type\":\"Range1d\"},{\"attributes\":{\"fill_alpha\":{\"value\":0.8},\"fill_color\":{\"field\":\"color\"},\"size\":{\"field\":\"size rescaled\"}},\"id\":\"1497\",\"type\":\"Circle\"},{\"attributes\":{\"coordinates\":null,\"edge_renderer\":{\"id\":\"1494\"},\"group\":null,\"inspection_policy\":{\"id\":\"1560\"},\"layout_provider\":{\"id\":\"1496\"},\"node_renderer\":{\"id\":\"1490\"},\"selection_policy\":{\"id\":\"1559\"}},\"id\":\"1487\",\"type\":\"GraphRenderer\"},{\"attributes\":{},\"id\":\"1478\",\"type\":\"PanTool\"},{\"attributes\":{},\"id\":\"1479\",\"type\":\"ResetTool\"},{\"attributes\":{\"start\":-1},\"id\":\"1472\",\"type\":\"Range1d\"},{\"attributes\":{\"callback\":null,\"tooltips\":[[\"index\",\"@index\"],[\"size\",\"@size\"]]},\"id\":\"1476\",\"type\":\"HoverTool\"},{\"attributes\":{\"coordinates\":null,\"data_source\":{\"id\":\"1493\"},\"glyph\":{\"id\":\"1502\"},\"group\":null,\"hover_glyph\":null,\"view\":{\"id\":\"1495\"}},\"id\":\"1494\",\"type\":\"GlyphRenderer\"},{\"attributes\":{},\"id\":\"1559\",\"type\":\"NodesOnly\"},{\"attributes\":{},\"id\":\"1561\",\"type\":\"UnionRenderers\"},{\"attributes\":{},\"id\":\"1477\",\"type\":\"WheelZoomTool\"},{\"attributes\":{},\"id\":\"1562\",\"type\":\"Selection\"},{\"attributes\":{},\"id\":\"1480\",\"type\":\"SaveTool\"}],\"root_ids\":[\"1473\"]},\"title\":\"Bokeh Application\",\"version\":\"2.4.3\"}};\n  const render_items = [{\"docid\":\"69a7d2fb-f00e-4559-97bb-d21d75bf7e05\",\"root_ids\":[\"1473\"],\"roots\":{\"1473\":\"0f7c1db1-b2d8-4ca2-a13f-23d1ba6b0496\"}}];\n  root.Bokeh.embed.embed_items_notebook(docs_json, render_items);\n  }\n  if (root.Bokeh !== undefined) {\n    embed_document(root);\n  } else {\n    let attempts = 0;\n    const timer = setInterval(function(root) {\n      if (root.Bokeh !== undefined) {\n        clearInterval(timer);\n        embed_document(root);\n      } else {\n        attempts++;\n        if (attempts > 100) {\n          clearInterval(timer);\n          console.log(\"Bokeh: ERROR: Unable to run BokehJS code because BokehJS library is missing\");\n        }\n      }\n    }, 10, root)\n  }\n})(window);",
      "application/vnd.bokehjs_exec.v0+json": ""
     },
     "metadata": {
      "application/vnd.bokehjs_exec.v0+json": {
       "id": "1473"
      }
     },
     "output_type": "display_data"
    }
   ],
   "source": [
    "correlation_gui.color_by_variable('esr1')\n",
    "\n",
    "show(correlation_gui.plot)"
   ]
  },
  {
   "cell_type": "code",
   "execution_count": null,
   "metadata": {},
   "outputs": [],
   "source": []
  }
 ],
 "metadata": {
  "interpreter": {
   "hash": "de9fe0ce6b873e2013b33bc1f4f40bac445a25d45f265babfcca256e207bbd69"
  },
  "kernelspec": {
   "display_name": "Python 3.10.4 ('tda')",
   "language": "python",
   "name": "python3"
  },
  "language_info": {
   "codemirror_mode": {
    "name": "ipython",
    "version": 3
   },
   "file_extension": ".py",
   "mimetype": "text/x-python",
   "name": "python",
   "nbconvert_exporter": "python",
   "pygments_lexer": "ipython3",
   "version": "3.10.8"
  }
 },
 "nbformat": 4,
 "nbformat_minor": 4
}
